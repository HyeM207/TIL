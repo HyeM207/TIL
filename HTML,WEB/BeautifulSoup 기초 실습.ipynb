{
  "cells": [
    {
      "cell_type": "markdown",
      "metadata": {
        "id": "view-in-github",
        "colab_type": "text"
      },
      "source": [
        "<a href=\"https://colab.research.google.com/github/HyeM207/TIL/blob/main/HTML%2CWEB/BeautifulSoup%20%EA%B8%B0%EC%B4%88%20%EC%8B%A4%EC%8A%B5.ipynb\" target=\"_parent\"><img src=\"https://colab.research.google.com/assets/colab-badge.svg\" alt=\"Open In Colab\"/></a>"
      ]
    },
    {
      "cell_type": "markdown",
      "source": [
        "# BeautifulSoup 실습\n",
        "[강의자료]를 이용하여 실습한 내용 업로드함"
      ],
      "metadata": {
        "id": "BMJWC4KxXrQ0"
      },
      "id": "BMJWC4KxXrQ0"
    },
    {
      "cell_type": "markdown",
      "id": "192778f5-b6a0-458f-9d28-2ecd531975a1",
      "metadata": {
        "id": "192778f5-b6a0-458f-9d28-2ecd531975a1"
      },
      "source": [
        "## 2-2. 파이썬의 HTML Parser, BeautifulSoup\n",
        "\n",
        "- HTML 분석기인 BeautifulSoup에 대해서 알아봅시다."
      ]
    },
    {
      "cell_type": "markdown",
      "id": "4641b904-0d90-4bd0-a963-3f01ea8547d1",
      "metadata": {
        "id": "4641b904-0d90-4bd0-a963-3f01ea8547d1"
      },
      "source": [
        "### BeautifulSoup 라이브러리\n",
        "\n",
        "지난 실습들에서 저희는 `requests` 모듈을 이용해서 HTTP 요청을 보내고, 이 응답을 받아 여러 요소를 살펴보았습니다.  \n",
        "그런데, `res.body`를 해보았을 때 문제점이 있었습니다. 바로 해당 내용이 아주 긴 텍스트로 와서 분석하기 힘들다는 것이 바로 그것인데요,  \n",
        "  \n",
        "**저희가 원하는 요소만을 가져올 수 있으면 얼마나 좋을까요?**  \n",
        "이를 가능하도록 HTML 코드를 **분석**해주는, HTML Parser를 사용할 수 있습니다. 그 중에서 가장 유명한 것이 바로 오늘 저희가 사용할 `BeautifulSoup4`입니다.  \n",
        "\n",
        "우선, 이를 사용하기 위해서 `pip`를 사용해 다운로드를 받아봅시다.\n",
        "\n",
        "> Tip: `%`를 이용해서 노트북(.ipynb) 환경에서 터미널 코드를 실행할 수 있습니다."
      ]
    },
    {
      "cell_type": "code",
      "execution_count": 1,
      "id": "1b08d5f2-01ae-4b19-bff8-f933f12f94e4",
      "metadata": {
        "colab": {
          "base_uri": "https://localhost:8080/"
        },
        "id": "1b08d5f2-01ae-4b19-bff8-f933f12f94e4",
        "outputId": "b9f5f71c-1174-4740-991a-65712629591c"
      },
      "outputs": [
        {
          "output_type": "stream",
          "name": "stdout",
          "text": [
            "Looking in indexes: https://pypi.org/simple, https://us-python.pkg.dev/colab-wheels/public/simple/\n",
            "Collecting bs4\n",
            "  Downloading bs4-0.0.1.tar.gz (1.1 kB)\n",
            "  Preparing metadata (setup.py) ... \u001b[?25l\u001b[?25hdone\n",
            "Requirement already satisfied: beautifulsoup4 in /usr/local/lib/python3.9/dist-packages (from bs4) (4.11.2)\n",
            "Requirement already satisfied: soupsieve>1.2 in /usr/local/lib/python3.9/dist-packages (from beautifulsoup4->bs4) (2.4)\n",
            "Building wheels for collected packages: bs4\n",
            "  Building wheel for bs4 (setup.py) ... \u001b[?25l\u001b[?25hdone\n",
            "  Created wheel for bs4: filename=bs4-0.0.1-py3-none-any.whl size=1270 sha256=f2f4ce635cb57b082b85429b8b99594d6472ad1c584daf1e066f3284ca4b9a23\n",
            "  Stored in directory: /root/.cache/pip/wheels/73/2b/cb/099980278a0c9a3e57ff1a89875ec07bfa0b6fcbebb9a8cad3\n",
            "Successfully built bs4\n",
            "Installing collected packages: bs4\n",
            "Successfully installed bs4-0.0.1\n"
          ]
        }
      ],
      "source": [
        "%pip install bs4"
      ]
    },
    {
      "cell_type": "markdown",
      "id": "03b2584d-ca5a-4aa6-80ce-0c478a097fbd",
      "metadata": {
        "id": "03b2584d-ca5a-4aa6-80ce-0c478a097fbd"
      },
      "source": [
        "설치를 다 진행했다면, 이제 `BeautifulSoup4` 모듈을 사용할 준비가 되었습니다.\n",
        "\n",
        "이제 이를 바탕으로 HTTP 코드를 분석해 원하는 정보만을 얻으러 가볼까요?"
      ]
    },
    {
      "cell_type": "markdown",
      "id": "060b520e-2569-4cf0-a38c-8a68c37eb907",
      "metadata": {
        "id": "060b520e-2569-4cf0-a38c-8a68c37eb907"
      },
      "source": [
        "### BeautifulSoup 객체 만들기"
      ]
    },
    {
      "cell_type": "code",
      "execution_count": 5,
      "id": "530b2366-1e2d-4c86-b432-9b9a56778041",
      "metadata": {
        "id": "530b2366-1e2d-4c86-b432-9b9a56778041"
      },
      "outputs": [],
      "source": [
        "# www.example.com 사이트를 요청한 후 응답 받아보기\n",
        "import requests\n",
        "res = requests.get(\"https://www.example.com\")\n",
        "\n",
        "# res.text"
      ]
    },
    {
      "cell_type": "markdown",
      "id": "117681f9-eac7-4991-a667-af5389d89608",
      "metadata": {
        "id": "117681f9-eac7-4991-a667-af5389d89608"
      },
      "source": [
        "저희가 지난 시간까지 다음과 같은 방법을 통해 요청을 보내고 응답을 받았는데요,\n",
        "\n",
        "이렇게 받은 `res`를 그대로 사용하지 말고, HTML parser에 전달해봅시다."
      ]
    },
    {
      "cell_type": "code",
      "execution_count": 6,
      "id": "3f99f957-56b9-4615-864b-a8f68611ab7c",
      "metadata": {
        "id": "3f99f957-56b9-4615-864b-a8f68611ab7c"
      },
      "outputs": [],
      "source": [
        "# BeautifulSoup4 - bs4를 불러와봅시다.\n",
        "\n",
        "from bs4 import BeautifulSoup"
      ]
    },
    {
      "cell_type": "markdown",
      "id": "3d445a64-4cc7-4c0d-a583-6e9c2adff6ba",
      "metadata": {
        "id": "3d445a64-4cc7-4c0d-a583-6e9c2adff6ba"
      },
      "source": [
        "이렇게 불러온 bs4를 사용하기 위해선, BeautifulSoup 객체를 생성해주어야합니다."
      ]
    },
    {
      "cell_type": "code",
      "execution_count": 7,
      "id": "80fb516c-d62e-4f9e-a76a-a395ebeb05c3",
      "metadata": {
        "id": "80fb516c-d62e-4f9e-a76a-a395ebeb05c3"
      },
      "outputs": [],
      "source": [
        "# BeautifulSoup객체를 만들어봅시다.\n",
        "# 첫번째 인자로는 response의 body를 텍스트로 전달합니다.\n",
        "# 두번째 인자로는 \"html\"로 분석한다는 것을 명시해줍니다.\n",
        "\n",
        "soup = BeautifulSoup(res.text, \"html.parser\")"
      ]
    },
    {
      "cell_type": "markdown",
      "id": "d838f9b6-2da4-4452-bc7d-49dab08aef47",
      "metadata": {
        "id": "d838f9b6-2da4-4452-bc7d-49dab08aef47"
      },
      "source": [
        "이 soup은 HTML 정보를 분석해서 가지고 있습니다. 이를 확인해볼까요?"
      ]
    },
    {
      "cell_type": "code",
      "execution_count": 8,
      "id": "de5a0050-7e12-4dec-a75c-da33cb2f027e",
      "metadata": {
        "colab": {
          "base_uri": "https://localhost:8080/"
        },
        "id": "de5a0050-7e12-4dec-a75c-da33cb2f027e",
        "outputId": "1dfc5f77-c1ed-426e-b6be-1a4d619a8c6e"
      },
      "outputs": [
        {
          "output_type": "stream",
          "name": "stdout",
          "text": [
            "<!DOCTYPE html>\n",
            "<html>\n",
            " <head>\n",
            "  <title>\n",
            "   Example Domain\n",
            "  </title>\n",
            "  <meta charset=\"utf-8\"/>\n",
            "  <meta content=\"text/html; charset=utf-8\" http-equiv=\"Content-type\"/>\n",
            "  <meta content=\"width=device-width, initial-scale=1\" name=\"viewport\"/>\n",
            "  <style type=\"text/css\">\n",
            "   body {\n",
            "        background-color: #f0f0f2;\n",
            "        margin: 0;\n",
            "        padding: 0;\n",
            "        font-family: -apple-system, system-ui, BlinkMacSystemFont, \"Segoe UI\", \"Open Sans\", \"Helvetica Neue\", Helvetica, Arial, sans-serif;\n",
            "        \n",
            "    }\n",
            "    div {\n",
            "        width: 600px;\n",
            "        margin: 5em auto;\n",
            "        padding: 2em;\n",
            "        background-color: #fdfdff;\n",
            "        border-radius: 0.5em;\n",
            "        box-shadow: 2px 3px 7px 2px rgba(0,0,0,0.02);\n",
            "    }\n",
            "    a:link, a:visited {\n",
            "        color: #38488f;\n",
            "        text-decoration: none;\n",
            "    }\n",
            "    @media (max-width: 700px) {\n",
            "        div {\n",
            "            margin: 0 auto;\n",
            "            width: auto;\n",
            "        }\n",
            "    }\n",
            "  </style>\n",
            " </head>\n",
            " <body>\n",
            "  <div>\n",
            "   <h1>\n",
            "    Example Domain\n",
            "   </h1>\n",
            "   <p>\n",
            "    This domain is for use in illustrative examples in documents. You may use this\n",
            "    domain in literature without prior coordination or asking for permission.\n",
            "   </p>\n",
            "   <p>\n",
            "    <a href=\"https://www.iana.org/domains/example\">\n",
            "     More information...\n",
            "    </a>\n",
            "   </p>\n",
            "  </div>\n",
            " </body>\n",
            "</html>\n",
            "\n"
          ]
        }
      ],
      "source": [
        "# 객체 soup의 .prettify()를 활용하면 분석된 HTML을 보기 편하게 반환해줍니다.\n",
        "\n",
        "print(soup.prettify())"
      ]
    },
    {
      "cell_type": "markdown",
      "id": "d41028fd-d288-428f-9fa9-5c23436f8c4c",
      "metadata": {
        "id": "d41028fd-d288-428f-9fa9-5c23436f8c4c"
      },
      "source": [
        "HTML이 들여쓰기가 되어 예쁘게 출력된 것을 확인할 수 있습니다.\n",
        "\n",
        "이 `soup` 객체를 통해서 우리는 HTML의 특정 요소를 가지고 올 수 있습니다."
      ]
    },
    {
      "cell_type": "code",
      "execution_count": 9,
      "id": "280834b4-15eb-4571-bfa9-859a0cb3f15a",
      "metadata": {
        "colab": {
          "base_uri": "https://localhost:8080/"
        },
        "id": "280834b4-15eb-4571-bfa9-859a0cb3f15a",
        "outputId": "db829dea-ea0c-42d3-b613-bbfd0dda71b9"
      },
      "outputs": [
        {
          "output_type": "execute_result",
          "data": {
            "text/plain": [
              "<title>Example Domain</title>"
            ]
          },
          "metadata": {},
          "execution_count": 9
        }
      ],
      "source": [
        "# title 가져오기\n",
        "soup.title\n"
      ]
    },
    {
      "cell_type": "code",
      "execution_count": 10,
      "id": "d2ff276a-5152-4dc6-9bc1-23b3f9e4ee4d",
      "metadata": {
        "colab": {
          "base_uri": "https://localhost:8080/"
        },
        "id": "d2ff276a-5152-4dc6-9bc1-23b3f9e4ee4d",
        "outputId": "02b41300-3358-4dbc-8968-fb4b610c815e"
      },
      "outputs": [
        {
          "output_type": "execute_result",
          "data": {
            "text/plain": [
              "<head>\n",
              "<title>Example Domain</title>\n",
              "<meta charset=\"utf-8\"/>\n",
              "<meta content=\"text/html; charset=utf-8\" http-equiv=\"Content-type\"/>\n",
              "<meta content=\"width=device-width, initial-scale=1\" name=\"viewport\"/>\n",
              "<style type=\"text/css\">\n",
              "    body {\n",
              "        background-color: #f0f0f2;\n",
              "        margin: 0;\n",
              "        padding: 0;\n",
              "        font-family: -apple-system, system-ui, BlinkMacSystemFont, \"Segoe UI\", \"Open Sans\", \"Helvetica Neue\", Helvetica, Arial, sans-serif;\n",
              "        \n",
              "    }\n",
              "    div {\n",
              "        width: 600px;\n",
              "        margin: 5em auto;\n",
              "        padding: 2em;\n",
              "        background-color: #fdfdff;\n",
              "        border-radius: 0.5em;\n",
              "        box-shadow: 2px 3px 7px 2px rgba(0,0,0,0.02);\n",
              "    }\n",
              "    a:link, a:visited {\n",
              "        color: #38488f;\n",
              "        text-decoration: none;\n",
              "    }\n",
              "    @media (max-width: 700px) {\n",
              "        div {\n",
              "            margin: 0 auto;\n",
              "            width: auto;\n",
              "        }\n",
              "    }\n",
              "    </style>\n",
              "</head>"
            ]
          },
          "metadata": {},
          "execution_count": 10
        }
      ],
      "source": [
        "# head 가져오기\n",
        "\n",
        "soup.head"
      ]
    },
    {
      "cell_type": "code",
      "execution_count": 11,
      "id": "b871700d-d5b7-454b-a665-91f3f3ca4522",
      "metadata": {
        "colab": {
          "base_uri": "https://localhost:8080/"
        },
        "id": "b871700d-d5b7-454b-a665-91f3f3ca4522",
        "outputId": "06adf105-8083-4ef6-b654-d52980c40ebe"
      },
      "outputs": [
        {
          "output_type": "execute_result",
          "data": {
            "text/plain": [
              "<body>\n",
              "<div>\n",
              "<h1>Example Domain</h1>\n",
              "<p>This domain is for use in illustrative examples in documents. You may use this\n",
              "    domain in literature without prior coordination or asking for permission.</p>\n",
              "<p><a href=\"https://www.iana.org/domains/example\">More information...</a></p>\n",
              "</div>\n",
              "</body>"
            ]
          },
          "metadata": {},
          "execution_count": 11
        }
      ],
      "source": [
        "# body 가져오기\n",
        "\n",
        "soup.body"
      ]
    },
    {
      "cell_type": "code",
      "execution_count": 15,
      "id": "c14d0799-8ac1-4454-a18e-bb33e0294687",
      "metadata": {
        "id": "c14d0799-8ac1-4454-a18e-bb33e0294687"
      },
      "outputs": [],
      "source": [
        "# <h1> 태그로 감싸진 요소 하나 찾기\n",
        "\n",
        "h1 = soup.find(\"h1\")"
      ]
    },
    {
      "cell_type": "markdown",
      "id": "d3b83c2c-29c2-4258-84b1-870319cf5d4b",
      "metadata": {
        "id": "d3b83c2c-29c2-4258-84b1-870319cf5d4b"
      },
      "source": [
        "만약 태그를 많이 가지고오고싶다면 어떻게 해야할까요?"
      ]
    },
    {
      "cell_type": "code",
      "execution_count": 14,
      "id": "5b9cfab8-1115-4fff-a311-d922b0c0827c",
      "metadata": {
        "colab": {
          "base_uri": "https://localhost:8080/"
        },
        "id": "5b9cfab8-1115-4fff-a311-d922b0c0827c",
        "outputId": "8138137f-35af-4c2f-fbf2-6c371c9860a9"
      },
      "outputs": [
        {
          "output_type": "execute_result",
          "data": {
            "text/plain": [
              "[<p>This domain is for use in illustrative examples in documents. You may use this\n",
              "     domain in literature without prior coordination or asking for permission.</p>,\n",
              " <p><a href=\"https://www.iana.org/domains/example\">More information...</a></p>]"
            ]
          },
          "metadata": {},
          "execution_count": 14
        }
      ],
      "source": [
        "# <p> 태그로 감싸진 요소들 찾기\n",
        "# soup.find(\"p\")\n",
        "soup.find_all(\"p\")"
      ]
    },
    {
      "cell_type": "code",
      "execution_count": 16,
      "id": "6000e348-2e50-4208-a5ee-159662af14a2",
      "metadata": {
        "colab": {
          "base_uri": "https://localhost:8080/",
          "height": 36
        },
        "id": "6000e348-2e50-4208-a5ee-159662af14a2",
        "outputId": "6664bed4-5363-45f9-9615-c6bf3081bcc1"
      },
      "outputs": [
        {
          "output_type": "execute_result",
          "data": {
            "text/plain": [
              "'h1'"
            ],
            "application/vnd.google.colaboratory.intrinsic+json": {
              "type": "string"
            }
          },
          "metadata": {},
          "execution_count": 16
        }
      ],
      "source": [
        "# 태그 이름 가져오기\n",
        "\n",
        "h1.name"
      ]
    },
    {
      "cell_type": "code",
      "execution_count": 17,
      "id": "3dd58e5a-0a7b-4247-a6cf-ca230bd05fc0",
      "metadata": {
        "colab": {
          "base_uri": "https://localhost:8080/",
          "height": 36
        },
        "id": "3dd58e5a-0a7b-4247-a6cf-ca230bd05fc0",
        "outputId": "23034526-50b7-4d92-a247-024f6134192a"
      },
      "outputs": [
        {
          "output_type": "execute_result",
          "data": {
            "text/plain": [
              "'Example Domain'"
            ],
            "application/vnd.google.colaboratory.intrinsic+json": {
              "type": "string"
            }
          },
          "metadata": {},
          "execution_count": 17
        }
      ],
      "source": [
        "# 태그 내용 가져오기\n",
        "\n",
        "h1.text"
      ]
    },
    {
      "cell_type": "code",
      "source": [],
      "metadata": {
        "id": "3lFtcj-YZMQT"
      },
      "id": "3lFtcj-YZMQT",
      "execution_count": null,
      "outputs": []
    },
    {
      "cell_type": "markdown",
      "metadata": {
        "id": "LJsz0F72Zmhz"
      },
      "source": [
        "## 2-3. 원하는 요소 가져오기 I - 책 이름 모으기\n",
        "\n",
        "- 연습만이 살길! 예시 사이트를 통해 스크래핑을 진행해봅시다."
      ],
      "id": "LJsz0F72Zmhz"
    },
    {
      "cell_type": "markdown",
      "metadata": {
        "id": "21cda704-06c6-4de4-83a7-f77fbeec5728"
      },
      "source": [
        "### Target: Mock Book Data\n",
        "\n",
        "다음 사이트에 있는 책들의 이름 정보를 스크래핑 해봅시다 : http://books.toscrape.com/catalogue/category/books/travel_2/index.html  \n",
        "\n",
        "해당 웹 페이지는 임의의 책 정보가 담긴 웹 사이트입니다.\n",
        "\n",
        "F12를 눌러 개발자 모드로 들어가 웹사이트 HTML 코드를 확인할 수 있다. \n",
        "\n",
        "\n",
        "Tips! 원하는 위치의 코드를 보고 싶으면 선택하고 우클릭하여 \"검사\"를 누르면 해당 코드를 보여줌"
      ],
      "id": "21cda704-06c6-4de4-83a7-f77fbeec5728"
    },
    {
      "cell_type": "code",
      "execution_count": 18,
      "metadata": {
        "id": "e1e6514c"
      },
      "outputs": [],
      "source": [
        "# 스크래핑에 필요한 라이브러리를 불러와봅시다.\n",
        "\n",
        "import requests\n",
        "from bs4 import BeautifulSoup"
      ],
      "id": "e1e6514c"
    },
    {
      "cell_type": "code",
      "execution_count": 20,
      "metadata": {
        "id": "8bdbf061-8236-4008-b75c-449458718736"
      },
      "outputs": [],
      "source": [
        "# 예시 사이트에 요청을 진행하고, 응답을 바탕으로 BeautifulSoup 객체를 만들어봅시다.\n",
        "res = requests.get(\"http://books.toscrape.com/catalogue/category/books/travel_2/index.html\")\n",
        "soup = BeautifulSoup(res.text, \"html.parser\")\n"
      ],
      "id": "8bdbf061-8236-4008-b75c-449458718736"
    },
    {
      "cell_type": "code",
      "execution_count": 26,
      "metadata": {
        "id": "3d6e0826"
      },
      "outputs": [],
      "source": [
        "# <h3> 태그에 해당하는 요소를 하나 찾아봅시다\n",
        "\n",
        "book = soup.find(\"h3\")"
      ],
      "id": "3d6e0826"
    },
    {
      "cell_type": "code",
      "execution_count": 25,
      "metadata": {
        "id": "c1e6aeea",
        "colab": {
          "base_uri": "https://localhost:8080/"
        },
        "outputId": "c765129d-3a03-409d-eb44-2a51e5e866ae"
      },
      "outputs": [
        {
          "output_type": "stream",
          "name": "stdout",
          "text": [
            "11\n",
            "<h3><a href=\"../../../its-only-the-himalayas_981/index.html\" title=\"It's Only the Himalayas\">It's Only the Himalayas</a></h3>\n"
          ]
        }
      ],
      "source": [
        "# <h3> 태그에 해당하는 요소를 모두 찾아봅시다\n",
        "\n",
        "h3_results = soup.find_all(\"h3\")\n",
        "print(len(h3_results))\n",
        "print(h3_results[0])"
      ],
      "id": "c1e6aeea"
    },
    {
      "cell_type": "markdown",
      "metadata": {
        "id": "d790d114"
      },
      "source": [
        "찾아온 데이터들은 모두 **객체**이므로, 저희가 익숙한 방식대로 데이터를 추출할 수 있습니다."
      ],
      "id": "d790d114"
    },
    {
      "cell_type": "code",
      "execution_count": 29,
      "metadata": {
        "id": "e1af00f8-647a-4792-83bf-4a72a68c7c71",
        "colab": {
          "base_uri": "https://localhost:8080/"
        },
        "outputId": "4fec6c52-40a2-4f53-be4b-a45ba829ff68"
      },
      "outputs": [
        {
          "output_type": "stream",
          "name": "stdout",
          "text": [
            "It's Only the Himalayas\n",
            "Full Moon over Noahâs Ark: An Odyssey to Mount Ararat and Beyond\n",
            "See America: A Celebration of Our National Parks & Treasured Sites\n",
            "Vagabonding: An Uncommon Guide to the Art of Long-Term World Travel\n",
            "Under the Tuscan Sun\n",
            "A Summer In Europe\n",
            "The Great Railway Bazaar\n",
            "A Year in Provence (Provence #1)\n",
            "The Road to Little Dribbling: Adventures of an American in Britain (Notes From a Small Island #2)\n",
            "Neither Here nor There: Travels in Europe\n",
            "1,000 Places to See Before You Die\n"
          ]
        }
      ],
      "source": [
        "# book_list에서 우리가 원하는 제목(title)만 추출해봅시다.\n",
        "\n",
        "for book in h3_results:\n",
        "  print(book.a[\"title\"]) # a태그의 title만 뽑아옴"
      ],
      "id": "e1af00f8-647a-4792-83bf-4a72a68c7c71"
    },
    {
      "cell_type": "code",
      "source": [],
      "metadata": {
        "id": "jx9pyVXebQKG"
      },
      "id": "jx9pyVXebQKG",
      "execution_count": null,
      "outputs": []
    },
    {
      "cell_type": "markdown",
      "metadata": {
        "id": "kN4YhJVKbppM"
      },
      "source": [
        "## 2-4. HTML의 Locator로 원하는 요소 찾기\n",
        "\n",
        "- BeautifulSoup을 이용해서 더 정확하게 우리가 원하는 정보를 가져오는 방법을 학습해봅시다."
      ],
      "id": "kN4YhJVKbppM"
    },
    {
      "cell_type": "markdown",
      "metadata": {
        "tags": [],
        "id": "5304dfa9-2edf-4745-bcc6-8ae1e8df39af"
      },
      "source": [
        "### 그래, 바로 너! `id`와 `class`\n",
        "\n",
        "태그는 자신의 이름 뿐만 아니라 고유한 속성 또한 가질 수 있습니다.  \n",
        "이 중에서 `id`와 `class`는 Locator로서, 특정 태그를 지칭하는 데에 사용됩니다.\n",
        "\n",
        "- `tagname`: 태그의 이름\n",
        "- `id`: 하나의 고유 태그를 가리키는 라벨\n",
        "- `class`: 여러 태그를 묶는 라벨\n",
        "\n",
        "```html\n",
        "<p>This element has only tagname</p>\n",
        "<p id=\"target\">This element has tagname and id</p>\n",
        "<p class=\"targets\">This element has tagname and class</p>\n",
        "```\n",
        "\n",
        "`id`와 `class`를 이용해서 HTML의 특정 태그를 지칭하고 가져오는 방법에 대해서 알아봅시다."
      ],
      "id": "5304dfa9-2edf-4745-bcc6-8ae1e8df39af"
    },
    {
      "cell_type": "code",
      "execution_count": 30,
      "metadata": {
        "id": "7c2007bc"
      },
      "outputs": [],
      "source": [
        "# 스크래핑에 필요한 라이브러리를 불러와봅시다.\n",
        "import requests\n",
        "from bs4 import BeautifulSoup\n"
      ],
      "id": "7c2007bc"
    },
    {
      "cell_type": "markdown",
      "source": [
        "http://example.python-scraping.com/  사이트 접속 안되어 위의 예제 사이트 1로 접속하여 실습함"
      ],
      "metadata": {
        "id": "qow9Psx1c8uM"
      },
      "id": "qow9Psx1c8uM"
    },
    {
      "cell_type": "code",
      "execution_count": 31,
      "metadata": {
        "id": "9a808a3e-605b-42a4-af26-c54d2e0a9080"
      },
      "outputs": [],
      "source": [
        "## 또 다른 연습 사이트를 이용해봅시다.\n",
        "# http://example.python-scraping.com/  해당 사이트 접속 안되어 위의 예제 사이트 1로 접속하여 실습함\n",
        "\n",
        "res = requests.get(\"http://books.toscrape.com/catalogue/category/books/travel_2/index.html\")\n",
        "soup = BeautifulSoup(res.text, \"html.parser\")\n",
        "\n"
      ],
      "id": "9a808a3e-605b-42a4-af26-c54d2e0a9080"
    },
    {
      "cell_type": "markdown",
      "metadata": {
        "tags": [],
        "id": "2a035450-aa7a-4b41-a96d-b4358b12aa81"
      },
      "source": [
        "#### `id`를 이용해서 요소 가져오기\n",
        "\n",
        "`id`는 요소 하나를 지칭하는 특별한 별명입니다. (겹칠 수 없어요!)  \n",
        "`id`를 이용하면 해당하는 태그 단 하나를 쉽게 가져올 수 있습니다."
      ],
      "id": "2a035450-aa7a-4b41-a96d-b4358b12aa81"
    },
    {
      "cell_type": "code",
      "execution_count": 32,
      "metadata": {
        "id": "26e256af-33d9-42ac-8334-fa2d1ae5d4b0",
        "colab": {
          "base_uri": "https://localhost:8080/"
        },
        "outputId": "bad65f84-7225-488f-f459-ed1b146156ef"
      },
      "outputs": [
        {
          "output_type": "execute_result",
          "data": {
            "text/plain": [
              "<div class=\"page_inner\">\n",
              "<div class=\"row\">\n",
              "<div class=\"col-sm-8 h1\"><a href=\"../../../../index.html\">Books to Scrape</a><small> We love being scraped!</small>\n",
              "</div>\n",
              "</div>\n",
              "</div>"
            ]
          },
          "metadata": {},
          "execution_count": 32
        }
      ],
      "source": [
        "## id 없이 div 태그를 찾아봅시다.\n",
        "\n",
        "soup.find(\"div\")"
      ],
      "id": "26e256af-33d9-42ac-8334-fa2d1ae5d4b0"
    },
    {
      "cell_type": "code",
      "execution_count": 33,
      "metadata": {
        "id": "2d09a177",
        "colab": {
          "base_uri": "https://localhost:8080/"
        },
        "outputId": "71a6c770-5ad7-4266-a918-bada94b9a718"
      },
      "outputs": [
        {
          "output_type": "execute_result",
          "data": {
            "text/plain": [
              "<div id=\"promotions\">\n",
              "</div>"
            ]
          },
          "metadata": {},
          "execution_count": 33
        }
      ],
      "source": [
        "## id가 promotions인 div 태그를 찾아봅시다.\n",
        "soup.find(\"div\", id=\"promotions\")\n"
      ],
      "id": "2d09a177"
    },
    {
      "cell_type": "markdown",
      "metadata": {
        "id": "96fdc49b-9ba9-4679-9165-fc12c06a8513"
      },
      "source": [
        "#### `class`를 이용해서 요소(들) 가져오기\n",
        "\n",
        "`class`는 유사한 요소들을 구분짓는 별명입니다.  \n",
        "`class`를 이용하면 해당하는 태그 단 하나를 쉽게 가져올 수 있습니다.  \n",
        "\n",
        "e.g. 차트 속의 데이터 등"
      ],
      "id": "96fdc49b-9ba9-4679-9165-fc12c06a8513"
    },
    {
      "cell_type": "code",
      "execution_count": 36,
      "metadata": {
        "id": "e56203e6-22b3-44d6-9498-bca9cf27dbf5",
        "colab": {
          "base_uri": "https://localhost:8080/"
        },
        "outputId": "2fce2346-867d-4e79-e0ce-276d81c1a127"
      },
      "outputs": [
        {
          "output_type": "execute_result",
          "data": {
            "text/plain": [
              "<div class=\"page-header action\">\n",
              "<h1>Travel</h1>\n",
              "</div>"
            ]
          },
          "metadata": {},
          "execution_count": 36
        }
      ],
      "source": [
        "# class가 \"page-header\"인 div 태그를 찾아봅시다.\n",
        "\n",
        "find_result = soup.find(\"div\", \"page-header\") # class는 키 지정 안 하고 디폴트로 바로 찾을 수 있음\n",
        "find_result"
      ],
      "id": "e56203e6-22b3-44d6-9498-bca9cf27dbf5"
    },
    {
      "cell_type": "markdown",
      "metadata": {
        "id": "97077597"
      },
      "source": [
        "이는 객체이므로 다음과 같은 접근을 진행할 수 있겠죠?"
      ],
      "id": "97077597"
    },
    {
      "cell_type": "code",
      "execution_count": 39,
      "metadata": {
        "id": "ec8182c3",
        "colab": {
          "base_uri": "https://localhost:8080/",
          "height": 36
        },
        "outputId": "fc2a7c66-4534-43ad-9d3f-7bb4de89906e"
      },
      "outputs": [
        {
          "output_type": "execute_result",
          "data": {
            "text/plain": [
              "'Travel'"
            ],
            "application/vnd.google.colaboratory.intrinsic+json": {
              "type": "string"
            }
          },
          "metadata": {},
          "execution_count": 39
        }
      ],
      "source": [
        "find_result.h1.text.strip() # 공백, 탭 등을 strip() 함수로 없앨 수 있음"
      ],
      "id": "ec8182c3"
    },
    {
      "cell_type": "code",
      "source": [],
      "metadata": {
        "id": "Nd9CL5CKeJhX"
      },
      "id": "Nd9CL5CKeJhX",
      "execution_count": null,
      "outputs": []
    },
    {
      "cell_type": "markdown",
      "metadata": {
        "id": "b6YdLY9IegWo"
      },
      "source": [
        "## 2-4. BeautifulSoup을 이용해 원하는 요소 가져오기 II - Hashcode 질문 가져오기\n",
        "\n",
        "- BeautifulSoup을 이용해서 Hashcode 질문 내용을 스크래핑해봅시다."
      ],
      "id": "b6YdLY9IegWo"
    },
    {
      "cell_type": "markdown",
      "metadata": {
        "id": "jLE4hVwvegXi"
      },
      "source": [
        "### 스크래핑하고자 하는 사이트 확인하기\n",
        "\n",
        "직접 접속해서 해당 사이트를 확인해봅시다 : https://hashcode.co.kr/\n",
        "\n",
        "아래 두 가지 원칙을 지킵니다.\n",
        "1. 과도한 요청을 보내지 않습니다.\n",
        "2. 받아온 정보 활용에 유의합니다."
      ],
      "id": "jLE4hVwvegXi"
    },
    {
      "cell_type": "code",
      "execution_count": 59,
      "metadata": {
        "id": "57710ab3"
      },
      "outputs": [],
      "source": [
        "# 다음 User-Agent를 추가해봅시다.\n",
        "\n",
        "user_agent = {\"User-Agent\": \"Mozilla/5.0 (Macintosh; Intel Mac OS X 10_15_4) AppleWebKit/537.36 (KHTML, like Gecko) Chrome/83.0.4103.97 Safari/537.36\"}"
      ],
      "id": "57710ab3"
    },
    {
      "cell_type": "code",
      "execution_count": 60,
      "metadata": {
        "colab": {
          "base_uri": "https://localhost:8080/",
          "height": 167
        },
        "id": "F5k786YBegXm",
        "outputId": "a4ec9018-7ea9-4013-8893-d7c3a455d8bc"
      },
      "outputs": [
        {
          "output_type": "execute_result",
          "data": {
            "text/plain": [
              "'<!DOCTYPE html>\\n<html lang=\"ko\" xml:lang=\"ko\" xmlns=\"http://www.w3.org/1999/xhtml\">\\n<head>\\n  <meta name=\"viewport\" content=\"width=device-width, initial-scale=1.0, maximum-scale=1.0, user-scalable=no\" />\\n<meta charset=\"utf-8\">\\n<title>QnA | 프로그래머스 커뮤니티</title>\\n<link rel=\"shortcut icon\" type=\"image/png\" href=\"https://qna.programmers.co.kr/assets/programmers-favicon/favicon-40b78633b6556a68c3da8e2125c31512fbd01d09906ab76c8a8ff289e494cadb.png\">\\n<link rel=\"apple-touch-icon\" type=\"image/png\" href=\"https://qna.programmers.co.kr/assets/programmers-favicon/apple-icon-6eafc2c4c58a21aef692d6e44ce99d41f999c71789f277317532d0a9c6db8976.png\">\\n<meta name=\"description\" content=\"프로그래머스 QnA는 프로그래밍 문제해결을 위한 QnA서비스입니다. 프로그래밍과 관련해서 개발자들끼리 궁금한건 물어보고 아는건 함께 나눠요. C, Java, Python, Ruby등의 코드를 웹에서 직접 실행해 볼 수 있는 기능도 제공합니다. - 프로그래머스 커뮤니티\">\\n<meta name=\"keywords\" content=\"개발자, 프로그래머, 질문, 답변, 스택오버플로우, developer, programmer, q&amp;amp;amp;a, question, answer, stackoverflow, stack overflow\">\\n<meta name=\"twitter:title\" property=\"og:title\" itemprop=\"title name\" content=\"QnA | 프로그래머스 커뮤니티\">\\n<meta name=\"twitter:description\" property=\"og:description\" itemprop=\"description\" content=\"프로그래머스 QnA는 프로그래밍 문제해결을 위한 QnA서비스입니다. 프로그래밍과 관련해서 개발자들끼리 궁금한건 물어보고 아는건 함께 나눠요. C, Java, Python, Ruby등의 코드를 웹에서 직접 실행해 볼 수 있는 기능도 제공합니다. - 프로그래머스 커뮤니티\">\\n<meta name=\"twitter:image\" property=\"og:image\" itemprop=\"image primaryImageOfPage\" content=\"https://qna.programmers.co.kr/assets/icons/ic_meta-3905ca60b60d4aaab3077219145ff3abaa2e27908a392d57302ed7338c123324.png\">\\n<meta name=\"twitter:url\" property=\"og:url\" content=\"https://qna.programmers.co.kr/\">\\n<meta property=\"og:type\" content=\"website\">\\n<meta property=\"og:site_name\" content=\"프로그래머스 커뮤니티\">\\n<meta property=\"og:locale\" content=\"ko_KR\">\\n<meta name=\"twitter:card\" content=\"summary\">\\n<meta property=\"fb:app_id\" content=\"602865629851387\">\\n<meta name=\"naver-site-verification\" content=\"d10663d62c846bed2941445663b1dee131ff34ed\">\\n<meta name=\"theme-color\" content=\"#5C6BC0\">\\n\\n<link rel=\"stylesheet\" media=\"all\" href=\"/assets/application-ab8f941120d98b0590bde7b785fb49da580ed8c2135060b81d3d00b1b186b799.css\" />\\n\\n<meta name=\"csrf-param\" content=\"authenticity_token\" />\\n<meta name=\"csrf-token\" content=\"ACHUbu2EtTV9oRSXbwSZSHc617a6dlpqx9xtR5rCEietcW92chWprATcxryaNVrdGL7-QxdDflEEX0Iyddz_Zw\" />\\n\\n\\n  <!-- Google Tag Manager -->\\n<script>(function(w,d,s,l,i){w[l]=w[l]||[];w[l].push({\\'gtm.start\\':\\n    new Date().getTime(),event:\\'gtm.js\\'});var f=d.getElementsByTagName(s)[0],\\n  j=d.createElement(s),dl=l!=\\'dataLayer\\'?\\'&l=\\'+l:\\'\\';j.async=true;j.src=\\n  \\'https://www.googletagmanager.com/gtm.js?id=\\'+i+dl;f.parentNode.insertBefore(j,f);\\n})(window,document,\\'script\\',\\'dataLayer\\',\\'GTM-NT8HLJD\\');</script>\\n<!-- End Google Tag Manager -->\\n</head>\\n<body class=\"root root-index\" data-controller=\"root\" data-action=\"index\">\\n  <link href=\"https://d1nuzc1w51n1es.cloudfront.net/1276eab4622325bd4cb1.css\" rel=\"stylesheet\"><div id=\"main-app-gnb-header\"><div class=\"wBcTdoNJJRdo0xD7ufvX main-app-gnb-component\"><!----><!----><div class=\"hCYBlpNMGlZvS7LbULXz\"><!--[--><div class=\"mcGzsRYdnPT9ZvqrXYvC kvgTVRn7krfmn_VldjxG\"><div class=\"VBoPPgwf8YAoU2O184D0\"><div class=\"QF988kxtUpsYP3isAW8o\"><div class=\"ZCDMw94UqxBKyPQHNYSO\"><a href=\"https://programmers.co.kr\" class=\"\"> 홈 </a><a href=\"https://school.programmers.co.kr\" class=\"\"> 스쿨 </a><a href=\"https://career.programmers.co.kr\" class=\"\"> 커리어 </a><a href=\"https://community.programmers.co.kr\" class=\"wobVcW4Oc8V0rSLB7mCv\"> 커뮤니티 </a></div><!----></div><div class=\"u55rqvzyeNwIq4iq4TTa\"><a class=\"eCF67VVmX180QDxEarh1\" href=\"https://community.programmers.co.kr\"><svg viewbox=\"0 0 304 26\" fill=\"none\" xmlns=\"http://www.w3.org/2000/svg\"><path d=\"M30.601 6.844h3.346V8.42h.049c.145-.213.331-.427.557-.64.243-.23.518-.434.825-.615.323-.18.67-.328 1.042-.443a4.005 4.005 0 011.188-.172c.873 0 1.665.156 2.376.468a4.973 4.973 0 011.819 1.279 5.496 5.496 0 011.188 1.943c.275.755.412 1.583.412 2.485 0 .836-.13 1.64-.388 2.41a6.325 6.325 0 01-1.067 2.018 5.24 5.24 0 01-1.673 1.427c-.662.344-1.414.516-2.255.516-.76 0-1.47-.115-2.133-.344a3.486 3.486 0 01-1.6-1.23h-.049v6.888h-3.637V6.844zm3.346 5.978c0 .902.25 1.632.752 2.19.517.557 1.236.836 2.158.836.921 0 1.632-.279 2.133-.836.517-.558.776-1.288.776-2.19 0-.902-.258-1.632-.776-2.19-.5-.557-1.212-.836-2.133-.836-.922 0-1.641.28-2.158.837-.501.557-.752 1.287-.752 2.19zM45 6.844h3.638v1.92h.048c.388-.739.849-1.288 1.382-1.649.534-.377 1.205-.566 2.013-.566.21 0 .42.008.63.025.21.016.404.049.582.098v3.37a4.39 4.39 0 00-.776-.172 3.897 3.897 0 00-.776-.074c-.695 0-1.244.099-1.648.296-.405.196-.72.475-.946.836-.21.344-.348.763-.412 1.255a12.506 12.506 0 00-.097 1.623V18.8H45V6.844zM53.479 12.822c0-.951.17-1.812.51-2.583.339-.77.8-1.427 1.381-1.968a6.196 6.196 0 012.085-1.279 7.432 7.432 0 012.57-.443c.906 0 1.754.148 2.546.443a5.895 5.895 0 012.085 1.28 5.735 5.735 0 011.407 1.967c.339.771.509 1.632.509 2.583 0 .951-.17 1.812-.51 2.583a5.995 5.995 0 01-1.406 1.993 6.087 6.087 0 01-2.085 1.254 7.231 7.231 0 01-2.546.443 7.432 7.432 0 01-2.57-.443 6.408 6.408 0 01-2.085-1.254 6.172 6.172 0 01-1.382-1.993c-.34-.77-.509-1.632-.509-2.583zm3.637 0c0 .902.25 1.632.752 2.19.517.557 1.236.836 2.157.836.922 0 1.633-.279 2.134-.836.517-.558.776-1.288.776-2.19 0-.902-.259-1.632-.776-2.19-.501-.557-1.212-.836-2.134-.836-.921 0-1.64.28-2.157.837-.502.557-.752 1.287-.752 2.19zM80.546 17.791c0 2.264-.565 3.977-1.697 5.142-1.115 1.18-2.82 1.771-5.116 1.771-1.05 0-2.085-.123-3.103-.369a6.852 6.852 0 01-2.813-1.378l2.013-3.05a7.699 7.699 0 001.77 1.132c.63.278 1.317.418 2.06.418 1.116 0 1.932-.279 2.45-.837.533-.54.8-1.238.8-2.09v-1.157h-.049c-.42.574-.946.984-1.576 1.23-.614.23-1.196.345-1.746.345-.873 0-1.665-.148-2.376-.443a5.66 5.66 0 01-1.842-1.28 5.96 5.96 0 01-1.164-1.967c-.275-.755-.412-1.583-.412-2.485 0-.787.12-1.558.363-2.312a6.692 6.692 0 011.067-1.993 5.356 5.356 0 011.697-1.378c.663-.36 1.415-.54 2.255-.54.517 0 .986.057 1.406.171.437.115.825.263 1.164.443.34.18.63.386.873.615.243.213.437.427.582.64h.049V6.844h3.345v10.947zm-9.165-5.043c0 .394.073.771.219 1.132.145.344.347.656.606.935.275.262.582.475.921.64.356.163.744.245 1.164.245.404 0 .784-.082 1.14-.246.355-.164.662-.377.92-.64.276-.278.486-.59.631-.934a3 3 0 00.219-1.132c0-.393-.073-.762-.219-1.107a2.644 2.644 0 00-.63-.934 2.899 2.899 0 00-.922-.665 2.688 2.688 0 00-1.139-.246c-.42 0-.808.082-1.164.246-.34.164-.646.386-.921.665-.259.262-.46.574-.606.934a2.815 2.815 0 00-.218 1.107zM82.92 6.844h3.637v1.92h.049c.388-.739.848-1.288 1.382-1.649.533-.377 1.204-.566 2.012-.566.21 0 .42.008.63.025.21.016.404.049.582.098v3.37a4.393 4.393 0 00-.776-.172 3.898 3.898 0 00-.776-.074c-.694 0-1.244.099-1.648.296-.404.196-.72.475-.946.836-.21.344-.347.763-.412 1.255a12.525 12.525 0 00-.097 1.623V18.8H82.92V6.844zM99.656 17.3h-.049a3.424 3.424 0 01-1.624 1.377 5.384 5.384 0 01-2.11.418c-.55 0-1.083-.082-1.6-.246a3.837 3.837 0 01-1.333-.689 3.377 3.377 0 01-.922-1.156c-.226-.459-.339-.992-.339-1.599 0-.689.121-1.27.364-1.746.258-.476.598-.87 1.018-1.181.436-.312.93-.55 1.479-.714a9.826 9.826 0 011.697-.393 16.43 16.43 0 011.77-.148 60.506 60.506 0 011.649-.024c0-.656-.235-1.173-.703-1.55-.453-.394-.994-.59-1.625-.59a3.5 3.5 0 00-1.648.393c-.485.246-.922.59-1.31 1.033l-1.94-2.017a6.513 6.513 0 012.377-1.427 8.193 8.193 0 012.812-.492c1.067 0 1.94.14 2.619.418.695.263 1.244.656 1.648 1.181.421.525.712 1.173.873 1.944.162.754.243 1.631.243 2.632V18.8h-3.346v-1.5zm-.897-3.74c-.275 0-.623.017-1.043.05-.404.016-.8.081-1.188.196a2.766 2.766 0 00-.97.517c-.258.23-.388.55-.388.96 0 .442.186.77.558.983.372.213.76.32 1.164.32.355 0 .695-.05 1.018-.148.34-.098.639-.237.897-.418a1.9 1.9 0 00.606-.689c.162-.278.243-.606.243-.984v-.787h-.897zM104.751 6.844h3.491v1.624h.049c.113-.23.274-.46.484-.689a3.56 3.56 0 01.752-.615c.291-.18.622-.328.994-.443a4.092 4.092 0 011.212-.172c.825 0 1.552.172 2.183.517.646.344 1.131.885 1.454 1.623.421-.77.93-1.32 1.528-1.648.598-.328 1.333-.492 2.206-.492.792 0 1.455.14 1.988.418.55.263.978.632 1.285 1.107.324.46.55 1.009.679 1.649.146.623.218 1.295.218 2.017v7.06h-3.636v-6.962c0-.557-.122-1.033-.364-1.427-.226-.41-.639-.615-1.237-.615-.42 0-.775.074-1.066.222-.275.131-.502.32-.679.566a2.75 2.75 0 00-.364.86 5.307 5.307 0 00-.097 1.034V18.8h-3.637v-6.322c0-.213-.008-.476-.024-.787a3.177 3.177 0 00-.17-.886 1.644 1.644 0 00-.485-.713c-.21-.197-.525-.296-.945-.296-.469 0-.849.09-1.14.271a1.73 1.73 0 00-.679.689 2.914 2.914 0 00-.291.96 8.58 8.58 0 00-.072 1.13V18.8h-3.637V6.844zM125.315 6.844h3.491v1.624h.048c.114-.23.275-.46.485-.689.21-.23.461-.434.752-.615.291-.18.622-.328.994-.443a4.092 4.092 0 011.212-.172c.825 0 1.552.172 2.182.517.647.344 1.132.885 1.455 1.623.42-.77.93-1.32 1.528-1.648.598-.328 1.333-.492 2.206-.492.792 0 1.455.14 1.988.418.55.263.978.632 1.285 1.107.324.46.55 1.009.679 1.649.146.623.218 1.295.218 2.017v7.06h-3.637v-6.962c0-.557-.121-1.033-.363-1.427-.227-.41-.639-.615-1.237-.615-.42 0-.776.074-1.067.222-.274.131-.501.32-.678.566a2.75 2.75 0 00-.364.86 5.307 5.307 0 00-.097 1.034V18.8h-3.637v-6.322c0-.213-.008-.476-.024-.787a3.177 3.177 0 00-.17-.886 1.652 1.652 0 00-.485-.713c-.21-.197-.525-.296-.945-.296-.469 0-.849.09-1.14.271a1.73 1.73 0 00-.679.689 2.914 2.914 0 00-.291.96c-.048.36-.073.737-.073 1.13V18.8h-3.636V6.844zM157.031 16.734a5.808 5.808 0 01-2.206 1.746c-.889.41-1.81.615-2.764.615a7.432 7.432 0 01-2.57-.443 6.408 6.408 0 01-2.085-1.254 6.162 6.162 0 01-1.382-1.993c-.34-.77-.509-1.632-.509-2.583 0-.951.169-1.812.509-2.583.339-.77.8-1.427 1.382-1.968a6.196 6.196 0 012.085-1.279 7.432 7.432 0 012.57-.443c.841 0 1.6.148 2.279.443a4.588 4.588 0 011.746 1.28c.485.54.857 1.196 1.115 1.967.259.771.388 1.632.388 2.583v1.156h-8.437c.145.706.46 1.271.945 1.698.485.41 1.083.615 1.794.615.598 0 1.099-.131 1.504-.394.42-.279.784-.631 1.091-1.058l2.545 1.895zm-3.079-5.265a2.155 2.155 0 00-.606-1.599c-.42-.443-.962-.664-1.624-.664-.404 0-.76.066-1.067.197a2.7 2.7 0 00-.8.516c-.21.197-.38.435-.509.714a2.408 2.408 0 00-.194.836h4.8zM159.268 6.844h3.637v1.92h.048c.388-.739.849-1.288 1.382-1.649.534-.377 1.205-.566 2.013-.566.21 0 .42.008.63.025.21.016.404.049.582.098v3.37a4.393 4.393 0 00-.776-.172 3.894 3.894 0 00-.776-.074c-.695 0-1.244.099-1.648.296-.405.196-.72.475-.946.836-.21.344-.348.763-.412 1.255a12.453 12.453 0 00-.097 1.623V18.8h-3.637V6.844zM175.276 10.362c-.533-.672-1.236-1.008-2.109-1.008-.307 0-.606.073-.897.221-.291.148-.437.402-.437.763 0 .295.146.516.437.664.307.131.687.254 1.139.369.469.098.962.213 1.479.344a5.031 5.031 0 011.479.566c.469.262.849.623 1.14 1.082.307.443.46 1.042.46 1.796 0 .771-.169 1.41-.509 1.919a3.882 3.882 0 01-1.26 1.205c-.518.296-1.1.5-1.746.615a9.618 9.618 0 01-1.916.197 9.448 9.448 0 01-2.497-.344 4.75 4.75 0 01-2.134-1.28l2.207-2.484c.339.426.711.754 1.115.984.42.213.905.32 1.455.32.42 0 .8-.058 1.139-.172.34-.132.51-.361.51-.69 0-.31-.154-.54-.461-.688-.291-.164-.671-.295-1.14-.394-.452-.114-.945-.23-1.479-.344a6.744 6.744 0 01-1.479-.566 3.287 3.287 0 01-1.139-1.033c-.291-.46-.437-1.066-.437-1.82 0-.706.138-1.312.413-1.82a3.942 3.942 0 011.115-1.255 4.747 4.747 0 011.6-.714 6.846 6.846 0 011.819-.246c.775 0 1.559.115 2.351.345.792.23 1.463.64 2.013 1.23l-2.231 2.238z\" fill=\"#202B3D\"></path><path d=\"M193.529 9.564c-.289-.448-.695-.826-1.221-1.136-.509-.31-1.093-.464-1.755-.464-.695-.017-1.322.095-1.881.335a4.12 4.12 0 00-1.399 1.007c-.39.43-.686.946-.89 1.548a5.785 5.785 0 00-.305 1.909c0 .688.102 1.333.305 1.935.204.585.5 1.092.89 1.522.39.43.856.765 1.399 1.006.559.24 1.186.353 1.881.335.662 0 1.246-.154 1.755-.464.526-.31.932-.688 1.221-1.135l1.373 1.058c-.594.705-1.263 1.23-2.009 1.573a6.098 6.098 0 01-2.34.517c-.966.017-1.839-.13-2.619-.44a6.103 6.103 0 01-2.009-1.34 5.828 5.828 0 01-1.246-2.013 7.41 7.41 0 01-.432-2.554c0-.912.144-1.755.432-2.529a5.782 5.782 0 011.246-2.038 5.787 5.787 0 012.009-1.316c.78-.326 1.653-.481 2.619-.464a5.825 5.825 0 012.34.542c.746.327 1.415.843 2.009 1.548l-1.373 1.058zM206.763 12.763c0-.671-.11-1.299-.331-1.884a4.37 4.37 0 00-.89-1.522 4.058 4.058 0 00-1.424-1.006c-.542-.258-1.161-.387-1.856-.387-.695 0-1.322.129-1.882.387a4.126 4.126 0 00-1.398 1.006c-.373.43-.67.938-.89 1.522a5.679 5.679 0 00-.306 1.884c0 .67.102 1.298.306 1.883.22.585.517 1.092.89 1.522.39.43.856.774 1.398 1.032.56.241 1.187.361 1.882.361.695 0 1.314-.12 1.856-.36a4.357 4.357 0 001.424-1.033c.39-.43.687-.937.89-1.522a5.283 5.283 0 00.331-1.883zm1.831 0a6.5 6.5 0 01-.484 2.528 5.931 5.931 0 01-1.296 2.012 6.092 6.092 0 01-2.009 1.342c-.763.31-1.611.465-2.543.465a6.829 6.829 0 01-2.543-.465 6.148 6.148 0 01-1.983-1.341 6.25 6.25 0 01-1.323-2.013 6.836 6.836 0 01-.457-2.528c0-.912.152-1.755.457-2.529a6.25 6.25 0 011.323-2.012 5.82 5.82 0 011.983-1.316 6.512 6.512 0 012.543-.49c.932 0 1.78.163 2.543.49.78.31 1.449.748 2.009 1.316a5.931 5.931 0 011.296 2.012 6.5 6.5 0 01.484 2.529zM211.08 9.409c0-.447-.017-.895-.05-1.342a35.47 35.47 0 00-.077-1.341h1.806v1.831h.051a3.98 3.98 0 011.678-1.6c.729-.36 1.449-.541 2.161-.541.322 0 .661.034 1.017.103a3.47 3.47 0 011.068.387c.339.172.653.422.941.748.305.327.56.749.763 1.265a3.976 3.976 0 011.602-1.832c.746-.447 1.517-.671 2.314-.671 1.526 0 2.653.413 3.382 1.238.729.809 1.094 1.97 1.094 3.483V18.8h-1.679v-7.043c0-1.222-.212-2.16-.635-2.813-.424-.653-1.213-.98-2.365-.98-.628 0-1.153.129-1.577.387-.424.24-.771.568-1.042.98a4.572 4.572 0 00-.56 1.42 7.213 7.213 0 00-.178 1.625V18.8h-1.678v-7.043c0-1.222-.212-2.16-.636-2.813-.424-.653-1.212-.98-2.365-.98-.101 0-.339.034-.712.103-.356.069-.729.258-1.119.568-.389.31-.745.774-1.068 1.393-.305.62-.457 1.48-.457 2.58V18.8h-1.679V9.409zM232.176 9.409c0-.447-.017-.895-.051-1.342a35.47 35.47 0 00-.077-1.341h1.806v1.831h.051a3.985 3.985 0 011.678-1.6c.729-.36 1.449-.541 2.161-.541.323 0 .662.034 1.018.103a3.47 3.47 0 011.068.387c.339.172.652.422.94.748.306.327.56.749.763 1.265a3.976 3.976 0 011.602-1.832c.746-.447 1.518-.671 2.314-.671 1.526 0 2.653.413 3.382 1.238.729.809 1.094 1.97 1.094 3.483V18.8h-1.679v-7.043c0-1.222-.211-2.16-.635-2.813-.424-.653-1.212-.98-2.365-.98-.627 0-1.153.129-1.577.387-.424.24-.771.568-1.042.98a4.572 4.572 0 00-.56 1.42 7.271 7.271 0 00-.178 1.625V18.8h-1.678v-7.043c0-1.222-.212-2.16-.636-2.813-.424-.653-1.212-.98-2.365-.98-.101 0-.339.034-.712.103-.356.069-.729.258-1.118.568-.39.31-.746.774-1.068 1.393-.306.62-.458 1.48-.458 2.58V18.8h-1.678V9.409zM261.866 18.8c-.034-.327-.06-.645-.077-.955v-.98h-.051a3.927 3.927 0 01-.712.903 5.08 5.08 0 01-.966.722c-.356.19-.737.336-1.144.439-.39.12-.78.18-1.17.18-1.526 0-2.653-.404-3.382-1.212-.729-.826-1.093-1.995-1.093-3.509V6.726h1.678v6.682c0 .67.051 1.264.153 1.78.101.516.271.954.508 1.316.254.344.585.61.992.8.424.172.949.258 1.576.258.085 0 .323-.035.712-.104.39-.068.797-.258 1.221-.567.441-.31.831-.774 1.17-1.393.339-.62.508-1.48.508-2.58V6.726h1.679v9.416c0 .327.008.74.025 1.239.034.499.068.972.102 1.419h-1.729zM268.444 6.726c.033.326.05.653.05.98.017.31.026.628.026.955h.051c.186-.327.424-.628.712-.903.288-.276.61-.508.966-.697a4.536 4.536 0 011.119-.464c.407-.12.805-.181 1.195-.181 1.526 0 2.653.413 3.382 1.238.729.809 1.093 1.97 1.093 3.483V18.8h-1.678v-6.682c0-1.342-.229-2.365-.686-3.07-.458-.723-1.306-1.084-2.543-1.084-.085 0-.322.034-.712.103-.39.069-.806.258-1.246.568-.424.31-.806.774-1.145 1.393-.339.62-.508 1.48-.508 2.58V18.8h-1.678V9.383c0-.327-.017-.74-.051-1.238a34.028 34.028 0 00-.077-1.42h1.73zM282.854 2.082c0 .36-.128.662-.382.903a1.243 1.243 0 01-.839.335c-.305 0-.585-.112-.839-.335a1.194 1.194 0 01-.382-.903c0-.362.128-.654.382-.878.254-.24.534-.36.839-.36.305 0 .585.12.839.36.254.224.382.516.382.878zm-.382 16.718h-1.678V6.726h1.678V18.8zM292.116 8.274h-3.433v7.12c0 .447.043.817.127 1.11.085.275.204.49.356.645.153.154.331.266.534.335.221.052.458.077.712.077.289 0 .585-.043.89-.128a4.09 4.09 0 00.84-.336l.076 1.574c-.627.292-1.382.439-2.263.439-.322 0-.661-.043-1.017-.13a2.362 2.362 0 01-.941-.49c-.288-.24-.526-.567-.712-.98-.187-.413-.28-.955-.28-1.626v-7.61h-2.517V6.726h2.517V3.32h1.678v3.406h3.433v1.548zM298.271 16.71l3.636-9.984h2.035l-5.951 15.222c-.356.928-.813 1.668-1.373 2.218-.542.55-1.33.826-2.365.826-.254 0-.517-.009-.788-.026a3.017 3.017 0 01-.763-.155l.178-1.65c.356.188.78.283 1.272.283.593 0 1.059-.19 1.398-.568.339-.378.636-.911.89-1.6l.865-2.321-4.882-12.23h2.11l3.738 9.985z\" fill=\"#FF5722\"></path><path fill-rule=\"evenodd\" clip-rule=\"evenodd\" d=\"M2.957 2h17.74c1.634 0 2.957 1.343 2.957 3v18c0 1.657-1.323 3-2.956 3H2.957C1.324 26 0 24.657 0 23V5c0-1.657 1.324-3 2.957-3z\" fill=\"#202B3D\"></path><mask id=\"a\" style=\"mask-type:alpha;\" maskUnits=\"userSpaceOnUse\" x=\"0\" y=\"2\" width=\"24\" height=\"24\"><path fill-rule=\"evenodd\" clip-rule=\"evenodd\" d=\"M2.957 2h17.74c1.634 0 2.957 1.343 2.957 3v18c0 1.657-1.323 3-2.956 3H2.957C1.324 26 0 24.657 0 23V5c0-1.657 1.324-3 2.957-3z\" fill=\"#fff\"></path></mask><g mask=\"url(#a)\" fill-rule=\"evenodd\" clip-rule=\"evenodd\" fill=\"#fff\"><path opacity=\".56\" d=\"M14.603 10.598c-.505.066-2.475-1.177-6.248-3.233-3.291-1.794-2.395.754-2.104 1.45.04.099.05.207.024.31-.124.5-.2 2.385 3.634 6.529.153.165.217.331.097.523a7.803 7.803 0 00-.042.069c-.525.854 5.025-5.963 4.639-5.648z\"></path><path opacity=\".32\" d=\"M14.603 10.598c-.485-.106-.63-.218-2.333-4.21-1.274-2.986-2.503-.156-2.474.602a.492.492 0 01-.084.298c-.29.422-1.798 2.766.345 8.021.085.21.07.656-.051.868a9.611 9.611 0 00-.042.069c-.525.854 5.025-5.963 4.639-5.648z\"></path><path d=\"M18.924 10c-.543-.051-.973-.968-1.91-.968-.982 0-2.025 1.25-2.411 1.566-.558.354-3.548.38-7.968.694-3.911.278-2.452 1.344-2.002 1.62.063.038.094.094.086.161-.039.325.48 1.764 5.08 2.715.43.09.165.457.165.457-.525.855-2.273 3.844-2.832 6.485-.113.536.405-.793 2.55-2.642 2.146-1.85 4.293-1.524 6.208-4.054 1.915-2.53.971-4.29 3.034-4.834l4.73-1.2s-4.68.005-4.73 0z\"></path></g></svg></a><!----></div></div></div><div class=\"M3xVU2w50zLPJu3E87jj\"><div class=\"mjI1PWwVrW_JTXUt_ONq\"><a class=\"DvGhqZ7w8kkVW6taamXu\" href=\"https://community.programmers.co.kr\"><svg viewbox=\"0 0 304 26\" fill=\"none\" xmlns=\"http://www.w3.org/2000/svg\"><path d=\"M30.601 6.844h3.346V8.42h.049c.145-.213.331-.427.557-.64.243-.23.518-.434.825-.615.323-.18.67-.328 1.042-.443a4.005 4.005 0 011.188-.172c.873 0 1.665.156 2.376.468a4.973 4.973 0 011.819 1.279 5.496 5.496 0 011.188 1.943c.275.755.412 1.583.412 2.485 0 .836-.13 1.64-.388 2.41a6.325 6.325 0 01-1.067 2.018 5.24 5.24 0 01-1.673 1.427c-.662.344-1.414.516-2.255.516-.76 0-1.47-.115-2.133-.344a3.486 3.486 0 01-1.6-1.23h-.049v6.888h-3.637V6.844zm3.346 5.978c0 .902.25 1.632.752 2.19.517.557 1.236.836 2.158.836.921 0 1.632-.279 2.133-.836.517-.558.776-1.288.776-2.19 0-.902-.258-1.632-.776-2.19-.5-.557-1.212-.836-2.133-.836-.922 0-1.641.28-2.158.837-.501.557-.752 1.287-.752 2.19zM45 6.844h3.638v1.92h.048c.388-.739.849-1.288 1.382-1.649.534-.377 1.205-.566 2.013-.566.21 0 .42.008.63.025.21.016.404.049.582.098v3.37a4.39 4.39 0 00-.776-.172 3.897 3.897 0 00-.776-.074c-.695 0-1.244.099-1.648.296-.405.196-.72.475-.946.836-.21.344-.348.763-.412 1.255a12.506 12.506 0 00-.097 1.623V18.8H45V6.844zM53.479 12.822c0-.951.17-1.812.51-2.583.339-.77.8-1.427 1.381-1.968a6.196 6.196 0 012.085-1.279 7.432 7.432 0 012.57-.443c.906 0 1.754.148 2.546.443a5.895 5.895 0 012.085 1.28 5.735 5.735 0 011.407 1.967c.339.771.509 1.632.509 2.583 0 .951-.17 1.812-.51 2.583a5.995 5.995 0 01-1.406 1.993 6.087 6.087 0 01-2.085 1.254 7.231 7.231 0 01-2.546.443 7.432 7.432 0 01-2.57-.443 6.408 6.408 0 01-2.085-1.254 6.172 6.172 0 01-1.382-1.993c-.34-.77-.509-1.632-.509-2.583zm3.637 0c0 .902.25 1.632.752 2.19.517.557 1.236.836 2.157.836.922 0 1.633-.279 2.134-.836.517-.558.776-1.288.776-2.19 0-.902-.259-1.632-.776-2.19-.501-.557-1.212-.836-2.134-.836-.921 0-1.64.28-2.157.837-.502.557-.752 1.287-.752 2.19zM80.546 17.791c0 2.264-.565 3.977-1.697 5.142-1.115 1.18-2.82 1.771-5.116 1.771-1.05 0-2.085-.123-3.103-.369a6.852 6.852 0 01-2.813-1.378l2.013-3.05a7.699 7.699 0 001.77 1.132c.63.278 1.317.418 2.06.418 1.116 0 1.932-.279 2.45-.837.533-.54.8-1.238.8-2.09v-1.157h-.049c-.42.574-.946.984-1.576 1.23-.614.23-1.196.345-1.746.345-.873 0-1.665-.148-2.376-.443a5.66 5.66 0 01-1.842-1.28 5.96 5.96 0 01-1.164-1.967c-.275-.755-.412-1.583-.412-2.485 0-.787.12-1.558.363-2.312a6.692 6.692 0 011.067-1.993 5.356 5.356 0 011.697-1.378c.663-.36 1.415-.54 2.255-.54.517 0 .986.057 1.406.171.437.115.825.263 1.164.443.34.18.63.386.873.615.243.213.437.427.582.64h.049V6.844h3.345v10.947zm-9.165-5.043c0 .394.073.771.219 1.132.145.344.347.656.606.935.275.262.582.475.921.64.356.163.744.245 1.164.245.404 0 .784-.082 1.14-.246.355-.164.662-.377.92-.64.276-.278.486-.59.631-.934a3 3 0 00.219-1.132c0-.393-.073-.762-.219-1.107a2.644 2.644 0 00-.63-.934 2.899 2.899 0 00-.922-.665 2.688 2.688 0 00-1.139-.246c-.42 0-.808.082-1.164.246-.34.164-.646.386-.921.665-.259.262-.46.574-.606.934a2.815 2.815 0 00-.218 1.107zM82.92 6.844h3.637v1.92h.049c.388-.739.848-1.288 1.382-1.649.533-.377 1.204-.566 2.012-.566.21 0 .42.008.63.025.21.016.404.049.582.098v3.37a4.393 4.393 0 00-.776-.172 3.898 3.898 0 00-.776-.074c-.694 0-1.244.099-1.648.296-.404.196-.72.475-.946.836-.21.344-.347.763-.412 1.255a12.525 12.525 0 00-.097 1.623V18.8H82.92V6.844zM99.656 17.3h-.049a3.424 3.424 0 01-1.624 1.377 5.384 5.384 0 01-2.11.418c-.55 0-1.083-.082-1.6-.246a3.837 3.837 0 01-1.333-.689 3.377 3.377 0 01-.922-1.156c-.226-.459-.339-.992-.339-1.599 0-.689.121-1.27.364-1.746.258-.476.598-.87 1.018-1.181.436-.312.93-.55 1.479-.714a9.826 9.826 0 011.697-.393 16.43 16.43 0 011.77-.148 60.506 60.506 0 011.649-.024c0-.656-.235-1.173-.703-1.55-.453-.394-.994-.59-1.625-.59a3.5 3.5 0 00-1.648.393c-.485.246-.922.59-1.31 1.033l-1.94-2.017a6.513 6.513 0 012.377-1.427 8.193 8.193 0 012.812-.492c1.067 0 1.94.14 2.619.418.695.263 1.244.656 1.648 1.181.421.525.712 1.173.873 1.944.162.754.243 1.631.243 2.632V18.8h-3.346v-1.5zm-.897-3.74c-.275 0-.623.017-1.043.05-.404.016-.8.081-1.188.196a2.766 2.766 0 00-.97.517c-.258.23-.388.55-.388.96 0 .442.186.77.558.983.372.213.76.32 1.164.32.355 0 .695-.05 1.018-.148.34-.098.639-.237.897-.418a1.9 1.9 0 00.606-.689c.162-.278.243-.606.243-.984v-.787h-.897zM104.751 6.844h3.491v1.624h.049c.113-.23.274-.46.484-.689a3.56 3.56 0 01.752-.615c.291-.18.622-.328.994-.443a4.092 4.092 0 011.212-.172c.825 0 1.552.172 2.183.517.646.344 1.131.885 1.454 1.623.421-.77.93-1.32 1.528-1.648.598-.328 1.333-.492 2.206-.492.792 0 1.455.14 1.988.418.55.263.978.632 1.285 1.107.324.46.55 1.009.679 1.649.146.623.218 1.295.218 2.017v7.06h-3.636v-6.962c0-.557-.122-1.033-.364-1.427-.226-.41-.639-.615-1.237-.615-.42 0-.775.074-1.066.222-.275.131-.502.32-.679.566a2.75 2.75 0 00-.364.86 5.307 5.307 0 00-.097 1.034V18.8h-3.637v-6.322c0-.213-.008-.476-.024-.787a3.177 3.177 0 00-.17-.886 1.644 1.644 0 00-.485-.713c-.21-.197-.525-.296-.945-.296-.469 0-.849.09-1.14.271a1.73 1.73 0 00-.679.689 2.914 2.914 0 00-.291.96 8.58 8.58 0 00-.072 1.13V18.8h-3.637V6.844zM125.315 6.844h3.491v1.624h.048c.114-.23.275-.46.485-.689.21-.23.461-.434.752-.615.291-.18.622-.328.994-.443a4.092 4.092 0 011.212-.172c.825 0 1.552.172 2.182.517.647.344 1.132.885 1.455 1.623.42-.77.93-1.32 1.528-1.648.598-.328 1.333-.492 2.206-.492.792 0 1.455.14 1.988.418.55.263.978.632 1.285 1.107.324.46.55 1.009.679 1.649.146.623.218 1.295.218 2.017v7.06h-3.637v-6.962c0-.557-.121-1.033-.363-1.427-.227-.41-.639-.615-1.237-.615-.42 0-.776.074-1.067.222-.274.131-.501.32-.678.566a2.75 2.75 0 00-.364.86 5.307 5.307 0 00-.097 1.034V18.8h-3.637v-6.322c0-.213-.008-.476-.024-.787a3.177 3.177 0 00-.17-.886 1.652 1.652 0 00-.485-.713c-.21-.197-.525-.296-.945-.296-.469 0-.849.09-1.14.271a1.73 1.73 0 00-.679.689 2.914 2.914 0 00-.291.96c-.048.36-.073.737-.073 1.13V18.8h-3.636V6.844zM157.031 16.734a5.808 5.808 0 01-2.206 1.746c-.889.41-1.81.615-2.764.615a7.432 7.432 0 01-2.57-.443 6.408 6.408 0 01-2.085-1.254 6.162 6.162 0 01-1.382-1.993c-.34-.77-.509-1.632-.509-2.583 0-.951.169-1.812.509-2.583.339-.77.8-1.427 1.382-1.968a6.196 6.196 0 012.085-1.279 7.432 7.432 0 012.57-.443c.841 0 1.6.148 2.279.443a4.588 4.588 0 011.746 1.28c.485.54.857 1.196 1.115 1.967.259.771.388 1.632.388 2.583v1.156h-8.437c.145.706.46 1.271.945 1.698.485.41 1.083.615 1.794.615.598 0 1.099-.131 1.504-.394.42-.279.784-.631 1.091-1.058l2.545 1.895zm-3.079-5.265a2.155 2.155 0 00-.606-1.599c-.42-.443-.962-.664-1.624-.664-.404 0-.76.066-1.067.197a2.7 2.7 0 00-.8.516c-.21.197-.38.435-.509.714a2.408 2.408 0 00-.194.836h4.8zM159.268 6.844h3.637v1.92h.048c.388-.739.849-1.288 1.382-1.649.534-.377 1.205-.566 2.013-.566.21 0 .42.008.63.025.21.016.404.049.582.098v3.37a4.393 4.393 0 00-.776-.172 3.894 3.894 0 00-.776-.074c-.695 0-1.244.099-1.648.296-.405.196-.72.475-.946.836-.21.344-.348.763-.412 1.255a12.453 12.453 0 00-.097 1.623V18.8h-3.637V6.844zM175.276 10.362c-.533-.672-1.236-1.008-2.109-1.008-.307 0-.606.073-.897.221-.291.148-.437.402-.437.763 0 .295.146.516.437.664.307.131.687.254 1.139.369.469.098.962.213 1.479.344a5.031 5.031 0 011.479.566c.469.262.849.623 1.14 1.082.307.443.46 1.042.46 1.796 0 .771-.169 1.41-.509 1.919a3.882 3.882 0 01-1.26 1.205c-.518.296-1.1.5-1.746.615a9.618 9.618 0 01-1.916.197 9.448 9.448 0 01-2.497-.344 4.75 4.75 0 01-2.134-1.28l2.207-2.484c.339.426.711.754 1.115.984.42.213.905.32 1.455.32.42 0 .8-.058 1.139-.172.34-.132.51-.361.51-.69 0-.31-.154-.54-.461-.688-.291-.164-.671-.295-1.14-.394-.452-.114-.945-.23-1.479-.344a6.744 6.744 0 01-1.479-.566 3.287 3.287 0 01-1.139-1.033c-.291-.46-.437-1.066-.437-1.82 0-.706.138-1.312.413-1.82a3.942 3.942 0 011.115-1.255 4.747 4.747 0 011.6-.714 6.846 6.846 0 011.819-.246c.775 0 1.559.115 2.351.345.792.23 1.463.64 2.013 1.23l-2.231 2.238z\" fill=\"#202B3D\"></path><path d=\"M193.529 9.564c-.289-.448-.695-.826-1.221-1.136-.509-.31-1.093-.464-1.755-.464-.695-.017-1.322.095-1.881.335a4.12 4.12 0 00-1.399 1.007c-.39.43-.686.946-.89 1.548a5.785 5.785 0 00-.305 1.909c0 .688.102 1.333.305 1.935.204.585.5 1.092.89 1.522.39.43.856.765 1.399 1.006.559.24 1.186.353 1.881.335.662 0 1.246-.154 1.755-.464.526-.31.932-.688 1.221-1.135l1.373 1.058c-.594.705-1.263 1.23-2.009 1.573a6.098 6.098 0 01-2.34.517c-.966.017-1.839-.13-2.619-.44a6.103 6.103 0 01-2.009-1.34 5.828 5.828 0 01-1.246-2.013 7.41 7.41 0 01-.432-2.554c0-.912.144-1.755.432-2.529a5.782 5.782 0 011.246-2.038 5.787 5.787 0 012.009-1.316c.78-.326 1.653-.481 2.619-.464a5.825 5.825 0 012.34.542c.746.327 1.415.843 2.009 1.548l-1.373 1.058zM206.763 12.763c0-.671-.11-1.299-.331-1.884a4.37 4.37 0 00-.89-1.522 4.058 4.058 0 00-1.424-1.006c-.542-.258-1.161-.387-1.856-.387-.695 0-1.322.129-1.882.387a4.126 4.126 0 00-1.398 1.006c-.373.43-.67.938-.89 1.522a5.679 5.679 0 00-.306 1.884c0 .67.102 1.298.306 1.883.22.585.517 1.092.89 1.522.39.43.856.774 1.398 1.032.56.241 1.187.361 1.882.361.695 0 1.314-.12 1.856-.36a4.357 4.357 0 001.424-1.033c.39-.43.687-.937.89-1.522a5.283 5.283 0 00.331-1.883zm1.831 0a6.5 6.5 0 01-.484 2.528 5.931 5.931 0 01-1.296 2.012 6.092 6.092 0 01-2.009 1.342c-.763.31-1.611.465-2.543.465a6.829 6.829 0 01-2.543-.465 6.148 6.148 0 01-1.983-1.341 6.25 6.25 0 01-1.323-2.013 6.836 6.836 0 01-.457-2.528c0-.912.152-1.755.457-2.529a6.25 6.25 0 011.323-2.012 5.82 5.82 0 011.983-1.316 6.512 6.512 0 012.543-.49c.932 0 1.78.163 2.543.49.78.31 1.449.748 2.009 1.316a5.931 5.931 0 011.296 2.012 6.5 6.5 0 01.484 2.529zM211.08 9.409c0-.447-.017-.895-.05-1.342a35.47 35.47 0 00-.077-1.341h1.806v1.831h.051a3.98 3.98 0 011.678-1.6c.729-.36 1.449-.541 2.161-.541.322 0 .661.034 1.017.103a3.47 3.47 0 011.068.387c.339.172.653.422.941.748.305.327.56.749.763 1.265a3.976 3.976 0 011.602-1.832c.746-.447 1.517-.671 2.314-.671 1.526 0 2.653.413 3.382 1.238.729.809 1.094 1.97 1.094 3.483V18.8h-1.679v-7.043c0-1.222-.212-2.16-.635-2.813-.424-.653-1.213-.98-2.365-.98-.628 0-1.153.129-1.577.387-.424.24-.771.568-1.042.98a4.572 4.572 0 00-.56 1.42 7.213 7.213 0 00-.178 1.625V18.8h-1.678v-7.043c0-1.222-.212-2.16-.636-2.813-.424-.653-1.212-.98-2.365-.98-.101 0-.339.034-.712.103-.356.069-.729.258-1.119.568-.389.31-.745.774-1.068 1.393-.305.62-.457 1.48-.457 2.58V18.8h-1.679V9.409zM232.176 9.409c0-.447-.017-.895-.051-1.342a35.47 35.47 0 00-.077-1.341h1.806v1.831h.051a3.985 3.985 0 011.678-1.6c.729-.36 1.449-.541 2.161-.541.323 0 .662.034 1.018.103a3.47 3.47 0 011.068.387c.339.172.652.422.94.748.306.327.56.749.763 1.265a3.976 3.976 0 011.602-1.832c.746-.447 1.518-.671 2.314-.671 1.526 0 2.653.413 3.382 1.238.729.809 1.094 1.97 1.094 3.483V18.8h-1.679v-7.043c0-1.222-.211-2.16-.635-2.813-.424-.653-1.212-.98-2.365-.98-.627 0-1.153.129-1.577.387-.424.24-.771.568-1.042.98a4.572 4.572 0 00-.56 1.42 7.271 7.271 0 00-.178 1.625V18.8h-1.678v-7.043c0-1.222-.212-2.16-.636-2.813-.424-.653-1.212-.98-2.365-.98-.101 0-.339.034-.712.103-.356.069-.729.258-1.118.568-.39.31-.746.774-1.068 1.393-.306.62-.458 1.48-.458 2.58V18.8h-1.678V9.409zM261.866 18.8c-.034-.327-.06-.645-.077-.955v-.98h-.051a3.927 3.927 0 01-.712.903 5.08 5.08 0 01-.966.722c-.356.19-.737.336-1.144.439-.39.12-.78.18-1.17.18-1.526 0-2.653-.404-3.382-1.212-.729-.826-1.093-1.995-1.093-3.509V6.726h1.678v6.682c0 .67.051 1.264.153 1.78.101.516.271.954.508 1.316.254.344.585.61.992.8.424.172.949.258 1.576.258.085 0 .323-.035.712-.104.39-.068.797-.258 1.221-.567.441-.31.831-.774 1.17-1.393.339-.62.508-1.48.508-2.58V6.726h1.679v9.416c0 .327.008.74.025 1.239.034.499.068.972.102 1.419h-1.729zM268.444 6.726c.033.326.05.653.05.98.017.31.026.628.026.955h.051c.186-.327.424-.628.712-.903.288-.276.61-.508.966-.697a4.536 4.536 0 011.119-.464c.407-.12.805-.181 1.195-.181 1.526 0 2.653.413 3.382 1.238.729.809 1.093 1.97 1.093 3.483V18.8h-1.678v-6.682c0-1.342-.229-2.365-.686-3.07-.458-.723-1.306-1.084-2.543-1.084-.085 0-.322.034-.712.103-.39.069-.806.258-1.246.568-.424.31-.806.774-1.145 1.393-.339.62-.508 1.48-.508 2.58V18.8h-1.678V9.383c0-.327-.017-.74-.051-1.238a34.028 34.028 0 00-.077-1.42h1.73zM282.854 2.082c0 .36-.128.662-.382.903a1.243 1.243 0 01-.839.335c-.305 0-.585-.112-.839-.335a1.194 1.194 0 01-.382-.903c0-.362.128-.654.382-.878.254-.24.534-.36.839-.36.305 0 .585.12.839.36.254.224.382.516.382.878zm-.382 16.718h-1.678V6.726h1.678V18.8zM292.116 8.274h-3.433v7.12c0 .447.043.817.127 1.11.085.275.204.49.356.645.153.154.331.266.534.335.221.052.458.077.712.077.289 0 .585-.043.89-.128a4.09 4.09 0 00.84-.336l.076 1.574c-.627.292-1.382.439-2.263.439-.322 0-.661-.043-1.017-.13a2.362 2.362 0 01-.941-.49c-.288-.24-.526-.567-.712-.98-.187-.413-.28-.955-.28-1.626v-7.61h-2.517V6.726h2.517V3.32h1.678v3.406h3.433v1.548zM298.271 16.71l3.636-9.984h2.035l-5.951 15.222c-.356.928-.813 1.668-1.373 2.218-.542.55-1.33.826-2.365.826-.254 0-.517-.009-.788-.026a3.017 3.017 0 01-.763-.155l.178-1.65c.356.188.78.283 1.272.283.593 0 1.059-.19 1.398-.568.339-.378.636-.911.89-1.6l.865-2.321-4.882-12.23h2.11l3.738 9.985z\" fill=\"#FF5722\"></path><path fill-rule=\"evenodd\" clip-rule=\"evenodd\" d=\"M2.957 2h17.74c1.634 0 2.957 1.343 2.957 3v18c0 1.657-1.323 3-2.956 3H2.957C1.324 26 0 24.657 0 23V5c0-1.657 1.324-3 2.957-3z\" fill=\"#202B3D\"></path><mask id=\"a\" style=\"mask-type:alpha;\" maskUnits=\"userSpaceOnUse\" x=\"0\" y=\"2\" width=\"24\" height=\"24\"><path fill-rule=\"evenodd\" clip-rule=\"evenodd\" d=\"M2.957 2h17.74c1.634 0 2.957 1.343 2.957 3v18c0 1.657-1.323 3-2.956 3H2.957C1.324 26 0 24.657 0 23V5c0-1.657 1.324-3 2.957-3z\" fill=\"#fff\"></path></mask><g mask=\"url(#a)\" fill-rule=\"evenodd\" clip-rule=\"evenodd\" fill=\"#fff\"><path opacity=\".56\" d=\"M14.603 10.598c-.505.066-2.475-1.177-6.248-3.233-3.291-1.794-2.395.754-2.104 1.45.04.099.05.207.024.31-.124.5-.2 2.385 3.634 6.529.153.165.217.331.097.523a7.803 7.803 0 00-.042.069c-.525.854 5.025-5.963 4.639-5.648z\"></path><path opacity=\".32\" d=\"M14.603 10.598c-.485-.106-.63-.218-2.333-4.21-1.274-2.986-2.503-.156-2.474.602a.492.492 0 01-.084.298c-.29.422-1.798 2.766.345 8.021.085.21.07.656-.051.868a9.611 9.611 0 00-.042.069c-.525.854 5.025-5.963 4.639-5.648z\"></path><path d=\"M18.924 10c-.543-.051-.973-.968-1.91-.968-.982 0-2.025 1.25-2.411 1.566-.558.354-3.548.38-7.968.694-3.911.278-2.452 1.344-2.002 1.62.063.038.094.094.086.161-.039.325.48 1.764 5.08 2.715.43.09.165.457.165.457-.525.855-2.273 3.844-2.832 6.485-.113.536.405-.793 2.55-2.642 2.146-1.85 4.293-1.524 6.208-4.054 1.915-2.53.971-4.29 3.034-4.834l4.73-1.2s-4.68.005-4.73 0z\"></path></g></svg></a><div class=\"Wr2nwOwtek_OsziaXrGw\"><!--[--><a href=\"https://community.programmers.co.kr/lounge/1\" class=\"Dkn3GZO8HZWvPFRP7mBL\" style=\"\"><!--[-->개발자 라운지<!--]--></a><a href=\"https://community.programmers.co.kr/study\" class=\"Dkn3GZO8HZWvPFRP7mBL\" style=\"\"><!--[-->스터디<!--]--></a><a href=\"https://qna.programmers.co.kr\" class=\"Dkn3GZO8HZWvPFRP7mBL\" style=\"\"><!--[-->Q&amp;A<!--]--></a><!--]--></div></div><!----></div><!--]--></div></div></div>\\n<script src=\"https://d1nuzc1w51n1es.cloudfront.net/8dd068c412e1eadb9961.js\" defer=\"defer\"></script>\\n<div data-edu-component=\"community-header\"></div>\\n\\n<script src=https://programmers.co.kr/env.js></script>\\n\\n<div class=\"main\">\\n  \\n\\n<div class=\"content\">\\n  <div class=\"content-wrap\">\\n    <div class=\"center\">\\n      <div class=\"searchable-wrap\">\\n        <div class=\"searchbar\">\\n  <form action=\"/questions/search\" accept-charset=\"UTF-8\" method=\"get\">\\n    <div class=\"input-group has-clear\">\\n      <span class=\"input-group-addon icon-search\"><span class=\"hc-icons-search\">Search</span></span>\\n      <input required=\"required\" placeholder=\"질문을 검색하세요.\" class=\"form-control input\" name=\"text\" id=\"text\" type=\"text\" value=\"\">\\n      <span class=\"input-group-addon form-control-clear\"><span class=\"hc-icons-l-x\">Close</span> </span>\\n    </div>\\n</form></div>\\n        <a href=\"https://qna.programmers.co.kr/questions/new\" class=\"btn-question\">\\n          <svg width=\"24\" height=\"24\" viewBox=\"0 0 24 24\" fill=\"none\" xmlns=\"http://www.w3.org/2000/svg\">\\n            <path fill-rule=\"evenodd\" clip-rule=\"evenodd\" d=\"M20 5H4C2.9 5 2.01 5.9 2.01 7L2 17C2 18.1 2.9 19 4 19H20C21.1 19 22 18.1 22 17V7C22 5.9 21.1 5 20 5ZM11 8H13V10H11V8ZM11 11H13V13H11V11ZM8 8H10V10H8V8ZM8 11H10V13H8V11ZM7 13H5V11H7V13ZM7 10H5V8H7V10ZM16 17H8V15H16V17ZM16 13H14V11H16V13ZM16 10H14V8H16V10ZM19 13H17V11H19V13ZM19 10H17V8H19V10Z\" fill=\"white\"/>\\n          </svg>\\n          <span>작성하기</span>\\n        </a>\\n      </div>\\n      <ul class=\"nav nav-tabs\" role=\"tablist\">\\n          <li class=\"nav-item\"><a class=\"nav-link active\" href=\"https://qna.programmers.co.kr/\">최신</a></li>\\n          <li class=\"nav-item\"><a class=\"nav-link\" href=\"https://qna.programmers.co.kr/?tab=hot\">인기</a></li>\\n          <li class=\"nav-item\"><a class=\"nav-link\" href=\"https://qna.programmers.co.kr/?tab=answer\">답변 필요</a></li>\\n          <li class=\"nav-item\"><a class=\"nav-link\" href=\"https://qna.programmers.co.kr/tags\">태그 선택</a></li>\\n      </ul>\\n\\n      <ul class=\"question-list\">\\n          <li id=\"question-18265\" class=\"question-list-item\">\\n  <div class=\"question-view-count\">\\n    <div class=\"question-number\">23</div>\\n    <h6>조회</h6>\\n  </div>\\n  <div class=\"question-vote-count\" data-id=\"18265\">\\n    <div class=\"question-number\">0</div>\\n    <h6>좋아요</h6>\\n  </div>\\n  <div class=\"question-answer-count \" data-id=\"18265\">\\n    <div class=\"question-number\">0</div>\\n    <h6>답변</h6>\\n  </div>\\n  <div class=\"question\">\\n    <div class=\"top\">\\n      <h4><a href=\"/questions/18265/%ED%8C%8C%EC%9D%B4%EC%8D%AC-%ED%94%84%EB%A1%9C%EC%A0%9D%ED%8A%B8-%EC%A4%91-%EC%98%A4%EB%A5%98\">파이썬 프로젝트 중 오류</a></h4>\\n    </div>\\n\\n      <ul class=\"question-tags\">\\n            <li class=\"label label-tag \">\\n              <a rel=\"tag\" href=\"/questions/tagged/python\">\\n                <span data-tag=\"python\">python</span>\\n</a>            </li>\\n      </ul>\\n\\n    <ul class=\"question-info\">\\n        <li class=\"name\"><a title=\"s.dr.james601@gmail.com\" href=\"https://community.programmers.co.kr/users/576666/activity\">s.dr.james601@gmail.com</a></li>\\n        <li class=\"time\"><time datetime=\"2023-04-17T00:34:02+09:00\">3일 전</time></li>\\n    </ul>\\n  </div>\\n</li>\\n\\n          <li id=\"question-18264\" class=\"question-list-item\">\\n  <div class=\"question-view-count\">\\n    <div class=\"question-number\">109</div>\\n    <h6>조회</h6>\\n  </div>\\n  <div class=\"question-vote-count\" data-id=\"18264\">\\n    <div class=\"question-number\">0</div>\\n    <h6>좋아요</h6>\\n  </div>\\n  <div class=\"question-answer-count \" data-id=\"18264\">\\n    <div class=\"question-number\">1</div>\\n    <h6>답변</h6>\\n  </div>\\n  <div class=\"question\">\\n    <div class=\"top\">\\n      <h4><a href=\"/questions/18264/%EA%B5%AC%EC%A1%B0%EC%B2%B4-%EC%82%AC%EC%9A%A9%ED%95%98%EC%97%AC-%EB%8B%A4%ED%95%AD%EC%8B%9D%EC%9D%98-%EB%8D%A7%EC%85%88-%EA%B5%AC%ED%98%84%ED%95%98%EB%8A%94-%EB%AC%B8%EC%A0%9C\">구조체 사용하여 다항식의 덧셈 구현하는 문제</a></h4>\\n    </div>\\n\\n      <ul class=\"question-tags\">\\n            <li class=\"label label-tag \">\\n              <a rel=\"tag\" href=\"/questions/tagged/c\">\\n                <span data-tag=\"c\">c</span>\\n</a>            </li>\\n            <li class=\"label label-tag \">\\n              <a rel=\"tag\" href=\"/questions/tagged/struct\">\\n                <span data-tag=\"struct\">struct</span>\\n</a>            </li>\\n      </ul>\\n\\n    <ul class=\"question-info\">\\n        <li class=\"name\"><a title=\"삼주\" href=\"https://community.programmers.co.kr/users/576577/activity\">삼주</a></li>\\n        <li class=\"time\"><time datetime=\"2023-04-16T20:06:38+09:00\">3일 전</time></li>\\n    </ul>\\n  </div>\\n</li>\\n\\n          <li id=\"question-18263\" class=\"question-list-item\">\\n  <div class=\"question-view-count\">\\n    <div class=\"question-number\">16</div>\\n    <h6>조회</h6>\\n  </div>\\n  <div class=\"question-vote-count\" data-id=\"18263\">\\n    <div class=\"question-number\">0</div>\\n    <h6>좋아요</h6>\\n  </div>\\n  <div class=\"question-answer-count \" data-id=\"18263\">\\n    <div class=\"question-number\">0</div>\\n    <h6>답변</h6>\\n  </div>\\n  <div class=\"question\">\\n    <div class=\"top\">\\n      <h4><a href=\"/questions/18263/fourier-transform-%EB%90%9C-%EC%82%AC%EC%A7%84%ED%8C%8C%EC%9D%BC%EC%9D%98-hpf-%EC%BD%94%EC%9C%BC\">Fourier transform 된 사진파일의 HPF 코으</a></h4>\\n    </div>\\n\\n      <ul class=\"question-tags\">\\n            <li class=\"label label-tag \">\\n              <a rel=\"tag\" href=\"/questions/tagged/python\">\\n                <span data-tag=\"python\">python</span>\\n</a>            </li>\\n      </ul>\\n\\n    <ul class=\"question-info\">\\n        <li class=\"name\"><a title=\"아이드라\" href=\"https://community.programmers.co.kr/users/576300/activity\">아이드라</a></li>\\n        <li class=\"time\"><time datetime=\"2023-04-15T21:40:35+09:00\">4일 전</time></li>\\n    </ul>\\n  </div>\\n</li>\\n\\n          <li id=\"question-18260\" class=\"question-list-item\">\\n  <div class=\"question-view-count\">\\n    <div class=\"question-number\">23</div>\\n    <h6>조회</h6>\\n  </div>\\n  <div class=\"question-vote-count\" data-id=\"18260\">\\n    <div class=\"question-number\">0</div>\\n    <h6>좋아요</h6>\\n  </div>\\n  <div class=\"question-answer-count \" data-id=\"18260\">\\n    <div class=\"question-number\">0</div>\\n    <h6>답변</h6>\\n  </div>\\n  <div class=\"question\">\\n    <div class=\"top\">\\n      <h4><a href=\"/questions/18260/%EB%8B%A4%EC%8B%9C-%EB%A7%A4%EA%B0%9C%EB%B3%80%EC%88%98%ED%99%94%EB%90%98%EC%96%B4%EC%95%BC-%ED%95%98%EB%8A%94-%EB%A7%A4%EA%B0%9C%EB%B3%80%EC%88%98%ED%99%94%EB%90%9C-%EB%A9%94%EC%84%9C%EB%93%9C-%EC%9E%91%EC%84%B1\">다시 매개변수화되어야 하는 매개변수화된 메서드 작성</a></h4>\\n    </div>\\n\\n      <ul class=\"question-tags\">\\n            <li class=\"label label-tag \">\\n              <a rel=\"tag\" href=\"/questions/tagged/generic\">\\n                <span data-tag=\"generic\">generic</span>\\n</a>            </li>\\n      </ul>\\n\\n    <ul class=\"question-info\">\\n        <li class=\"name\"><a title=\"Mobiwann\" href=\"https://community.programmers.co.kr/users/488611/activity\">Mobiwann</a></li>\\n        <li class=\"time\"><time datetime=\"2023-04-13T17:21:23+09:00\">6일 전</time></li>\\n    </ul>\\n  </div>\\n</li>\\n\\n          <li id=\"question-18259\" class=\"question-list-item\">\\n  <div class=\"question-view-count\">\\n    <div class=\"question-number\">98</div>\\n    <h6>조회</h6>\\n  </div>\\n  <div class=\"question-vote-count\" data-id=\"18259\">\\n    <div class=\"question-number\">0</div>\\n    <h6>좋아요</h6>\\n  </div>\\n  <div class=\"question-answer-count \" data-id=\"18259\">\\n    <div class=\"question-number\">1</div>\\n    <h6>답변</h6>\\n  </div>\\n  <div class=\"question\">\\n    <div class=\"top\">\\n      <h4><a href=\"/questions/18259/%ED%8C%8C%EC%9D%B4%EC%8D%AC-%EA%B0%84%EB%8B%A8%ED%95%9C-%EB%B3%84%EA%B7%B8%EB%A6%AC%EA%B8%B0-%EC%A7%88%EB%AC%B8\">파이썬 간단한 별그리기 질문</a></h4>\\n    </div>\\n\\n      <ul class=\"question-tags\">\\n            <li class=\"label label-tag \">\\n              <a rel=\"tag\" href=\"/questions/tagged/python\">\\n                <span data-tag=\"python\">python</span>\\n</a>            </li>\\n      </ul>\\n\\n    <ul class=\"question-info\">\\n        <li class=\"name\"><a title=\"정예원\" href=\"https://community.programmers.co.kr/users/574960/activity\">정예원</a></li>\\n        <li class=\"time\"><time datetime=\"2023-04-12T23:23:43+09:00\">7일 전</time></li>\\n    </ul>\\n  </div>\\n</li>\\n\\n          <li id=\"question-18258\" class=\"question-list-item\">\\n  <div class=\"question-view-count\">\\n    <div class=\"question-number\">59</div>\\n    <h6>조회</h6>\\n  </div>\\n  <div class=\"question-vote-count\" data-id=\"18258\">\\n    <div class=\"question-number\">0</div>\\n    <h6>좋아요</h6>\\n  </div>\\n  <div class=\"question-answer-count \" data-id=\"18258\">\\n    <div class=\"question-number\">1</div>\\n    <h6>답변</h6>\\n  </div>\\n  <div class=\"question\">\\n    <div class=\"top\">\\n      <h4><a href=\"/questions/18258/java-%ED%99%80%EC%88%98-%ED%98%B9%EC%9D%80-%EC%A7%9D%EC%88%98%EC%9D%98-%ED%95%A9-%EA%B5%AC%ED%95%98%EB%8A%94-%ED%94%84%EB%A1%9C%EA%B7%B8%EB%9E%A8-%EC%A7%88%EB%AC%B8\">Java 홀수 혹은 짝수의 합 구하는 프로그램 질문</a></h4>\\n    </div>\\n\\n      <ul class=\"question-tags\">\\n            <li class=\"label label-tag \">\\n              <a rel=\"tag\" href=\"/questions/tagged/java\">\\n                <span data-tag=\"java\">java</span>\\n</a>            </li>\\n      </ul>\\n\\n    <ul class=\"question-info\">\\n        <li class=\"name\"><a title=\"정상인\" href=\"https://community.programmers.co.kr/users/563778/activity\">정상인</a></li>\\n        <li class=\"time\"><time datetime=\"2023-04-12T20:45:25+09:00\">7일 전</time></li>\\n    </ul>\\n  </div>\\n</li>\\n\\n          <li id=\"question-18257\" class=\"question-list-item\">\\n  <div class=\"question-view-count\">\\n    <div class=\"question-number\">107</div>\\n    <h6>조회</h6>\\n  </div>\\n  <div class=\"question-vote-count\" data-id=\"18257\">\\n    <div class=\"question-number\">0</div>\\n    <h6>좋아요</h6>\\n  </div>\\n  <div class=\"question-answer-count \" data-id=\"18257\">\\n    <div class=\"question-number\">1</div>\\n    <h6>답변</h6>\\n  </div>\\n  <div class=\"question\">\\n    <div class=\"top\">\\n      <h4><a href=\"/questions/18257/c%EC%96%B8%EC%96%B4-%EB%A7%88%EB%A6%84%EB%AA%A8-%EC%B6%9C%EB%A0%A5-%ED%94%84%EB%A1%9C%EA%B7%B8%EB%9E%A8\">c언어 마름모 출력 프로그램</a></h4>\\n    </div>\\n\\n      <ul class=\"question-tags\">\\n            <li class=\"label label-tag \">\\n              <a rel=\"tag\" href=\"/questions/tagged/c\">\\n                <span data-tag=\"c\">c</span>\\n</a>            </li>\\n      </ul>\\n\\n    <ul class=\"question-info\">\\n        <li class=\"name\"><a title=\"코딩사랑미까띠\" href=\"https://community.programmers.co.kr/users/502524/activity\">코딩사랑미까띠</a></li>\\n        <li class=\"time\"><time datetime=\"2023-04-10T23:50:36+09:00\">9일 전</time></li>\\n    </ul>\\n  </div>\\n</li>\\n\\n          <li id=\"question-18256\" class=\"question-list-item\">\\n  <div class=\"question-view-count\">\\n    <div class=\"question-number\">24</div>\\n    <h6>조회</h6>\\n  </div>\\n  <div class=\"question-vote-count\" data-id=\"18256\">\\n    <div class=\"question-number\">0</div>\\n    <h6>좋아요</h6>\\n  </div>\\n  <div class=\"question-answer-count \" data-id=\"18256\">\\n    <div class=\"question-number\">0</div>\\n    <h6>답변</h6>\\n  </div>\\n  <div class=\"question\">\\n    <div class=\"top\">\\n      <h4><a href=\"/questions/18256/%EC%BB%B4%ED%93%A8%ED%84%B0-%EC%8B%9C%EA%B0%84%EC%9D%84-%EA%B8%B0%EC%A4%80%EC%9C%BC%EB%A1%9C-%EC%9E%90%EB%8F%99%EC%9C%BC%EB%A1%9C-%EA%B7%B8-%EC%8B%9C%EA%B0%84%EC%9D%B4-%EB%90%98%EB%A9%B4-%EC%A0%9C%EA%B0%80-%EC%84%A4%EC%A0%95%ED%95%9C-%EB%AC%B8%EA%B5%AC%EB%A5%BC-%ED%83%80%EC%9D%B4%ED%95%91-%ED%95%A0-%EC%88%98-%EC%9E%88%EA%B2%8C-%EB%A7%8C%EB%93%9C%EB%8A%94%EB%8D%B0-%EC%9E%98-%EC%9E%91%EB%8F%99%ED%95%98%EC%A7%80-%EC%95%8A%EC%8A%B5%EB%8B%88%EB%8B%A4\">컴퓨터 시간을 기준으로 자동으로 그 시간이 되면 제가 설정한 문구를 타이핑 할 수 있게 만드는데 잘 작동하지 않습니다</a></h4>\\n    </div>\\n\\n      <ul class=\"question-tags\">\\n            <li class=\"label label-tag \">\\n              <a rel=\"tag\" href=\"/questions/tagged/python\">\\n                <span data-tag=\"python\">python</span>\\n</a>            </li>\\n      </ul>\\n\\n    <ul class=\"question-info\">\\n        <li class=\"name\"><a title=\"d13579b1212@gmail.com\" href=\"https://community.programmers.co.kr/users/573634/activity\">d13579b1212@gmail.com</a></li>\\n        <li class=\"time\"><time datetime=\"2023-04-10T22:44:18+09:00\">9일 전</time></li>\\n    </ul>\\n  </div>\\n</li>\\n\\n          <li id=\"question-18255\" class=\"question-list-item\">\\n  <div class=\"question-view-count\">\\n    <div class=\"question-number\">79</div>\\n    <h6>조회</h6>\\n  </div>\\n  <div class=\"question-vote-count\" data-id=\"18255\">\\n    <div class=\"question-number\">0</div>\\n    <h6>좋아요</h6>\\n  </div>\\n  <div class=\"question-answer-count \" data-id=\"18255\">\\n    <div class=\"question-number\">0</div>\\n    <h6>답변</h6>\\n  </div>\\n  <div class=\"question\">\\n    <div class=\"top\">\\n      <h4><a href=\"/questions/18255/4%EC%A2%85%EB%A5%98%EC%9D%98-%EA%B0%95%EC%95%84%EC%A7%80%EB%A5%BC-%EB%B6%84%EB%A5%98%ED%95%98%EB%8A%94-%EC%BD%94%EB%93%9C%EB%A1%9C-%EB%8B%A4%EB%9E%8C%EC%A5%90%EC%99%80-%EC%B2%AD%EC%84%A4%EB%AA%A8%EB%A5%BC-%EB%B6%84%EB%A5%98%ED%95%98%EB%8A%94-%EC%BD%94%EB%93%9C%EB%A5%BC-%EB%A7%8C%EB%93%A4%EC%97%88%EC%8A%B5%EB%8B%88%EB%8B%A4-%EC%9D%B4%EB%AF%B8%EC%A7%80-%ED%8C%8C%EC%9D%BC%EB%A7%8C-%EB%8B%A4%EB%9E%8C%EC%A5%90-%ED%8C%8C%EC%9D%BC%EB%A1%9C-%EB%B0%94%EA%BF%A8%EB%8A%94%EB%8D%B0-%EA%B1%B0%EC%9D%98-%EB%A7%88%EC%A7%80%EB%A7%89%EC%97%90-keyerror%EA%B0%80-%EB%B0%9C%EC%83%9D\">4종류의 강아지를 분류하는 코드로 다람쥐와 청설모를 분류하는 코드를 만들었습니다. 이미지 파일만 다람쥐 파일로 바꿨는데 거의 마지막에 KeyError가 발생.</a></h4>\\n    </div>\\n\\n      <ul class=\"question-tags\">\\n            <li class=\"label label-tag \">\\n              <a rel=\"tag\" href=\"/questions/tagged/python\">\\n                <span data-tag=\"python\">python</span>\\n</a>            </li>\\n            <li class=\"label label-tag \">\\n              <a rel=\"tag\" href=\"/questions/tagged/deep-learning\">\\n                <span data-tag=\"deep-learning\">deep-learning</span>\\n</a>            </li>\\n            <li class=\"label label-tag \">\\n              <a rel=\"tag\" href=\"/questions/tagged/keyerror\">\\n                <span data-tag=\"keyerror\">keyerror</span>\\n</a>            </li>\\n      </ul>\\n\\n    <ul class=\"question-info\">\\n        <li class=\"name\"><a title=\"dkvhffhs98@gmail.com\" href=\"https://community.programmers.co.kr/users/572816/activity\">dkvhffhs98@gmail.com</a></li>\\n        <li class=\"time\"><time datetime=\"2023-04-09T01:39:28+09:00\">11일 전</time></li>\\n    </ul>\\n  </div>\\n</li>\\n\\n          <li id=\"question-18252\" class=\"question-list-item\">\\n  <div class=\"question-view-count\">\\n    <div class=\"question-number\">44</div>\\n    <h6>조회</h6>\\n  </div>\\n  <div class=\"question-vote-count\" data-id=\"18252\">\\n    <div class=\"question-number\">-1</div>\\n    <h6>좋아요</h6>\\n  </div>\\n  <div class=\"question-answer-count \" data-id=\"18252\">\\n    <div class=\"question-number\">0</div>\\n    <h6>답변</h6>\\n  </div>\\n  <div class=\"question\">\\n    <div class=\"top\">\\n      <h4><a href=\"/questions/18252/%EA%B0%80%EB%B3%80%EC%9D%B8%EC%9E%90-%ED%8F%89%EA%B7%A0%EA%B0%92-%EC%95%84%EC%A7%81-%EC%B4%88%EB%B3%B4%EB%9D%BC-%EC%95%84%EC%98%88-%EB%AA%A8%EB%A5%B4%EA%B2%A0%EC%8A%B5%EB%8B%88%EB%8B%A4-%EC%8B%9D-%EC%95%8C%EB%A0%A4%EC%A3%BC%EC%8B%9C%E3%85%A3%EB%A9%B4-%EC%8B%9D%EC%9C%BC%EB%A1%9C-%EA%B3%B5%EB%B6%80-%ED%95%98%EA%B2%A0%EC%8A%B5%EB%8B%88%EB%8B%A4-%ED%95%9C%EB%B2%88%EB%A7%8C-%EC%A2%80-%EC%95%8C%EB%A0%A4%EC%A3%BC%EC%84%B8%EC%9A%94-%E3%85%A0%E3%85%A0%E3%85%A0\">가변인자..... 평균값 아직 초보라 아예 모르겠습니다. 식 알려주시ㅣ면 식으로 공부 하겠습니다 한번만 좀 알려주세요 ㅠㅠㅠ</a></h4>\\n    </div>\\n\\n      <ul class=\"question-tags\">\\n            <li class=\"label label-tag \">\\n              <a rel=\"tag\" href=\"/questions/tagged/python\">\\n                <span data-tag=\"python\">python</span>\\n</a>            </li>\\n      </ul>\\n\\n    <ul class=\"question-info\">\\n        <li class=\"name\"><a title=\"브라훈전기묜도기\" href=\"https://community.programmers.co.kr/users/572421/activity\">브라훈전기묜도기</a></li>\\n        <li class=\"time\"><time datetime=\"2023-04-07T17:35:24+09:00\">12일 전</time></li>\\n    </ul>\\n  </div>\\n</li>\\n\\n          <li id=\"question-18251\" class=\"question-list-item\">\\n  <div class=\"question-view-count\">\\n    <div class=\"question-number\">223</div>\\n    <h6>조회</h6>\\n  </div>\\n  <div class=\"question-vote-count\" data-id=\"18251\">\\n    <div class=\"question-number\">0</div>\\n    <h6>좋아요</h6>\\n  </div>\\n  <div class=\"question-answer-count accepted\" data-id=\"18251\">\\n    <div class=\"question-number\">✓1</div>\\n    <h6>답변</h6>\\n  </div>\\n  <div class=\"question\">\\n    <div class=\"top\">\\n      <h4><a href=\"/questions/18251/%ED%8C%8C%EC%9D%B4%EC%8D%AC-%EA%B0%80%EB%B3%80%EC%9D%B8%EC%9E%90-%EB%A5%BC-%EC%82%AC%EC%9A%A9%ED%95%98%EB%8A%94-get_average_score-%ED%95%A8%EC%88%98-%EA%B5%AC%ED%98%84%ED%95%98%EA%B8%B0\">파이썬 가변인자 * 를 사용하는 get_average_score 함수 구현하기</a></h4>\\n    </div>\\n\\n      <ul class=\"question-tags\">\\n            <li class=\"label label-tag \">\\n              <a rel=\"tag\" href=\"/questions/tagged/python\">\\n                <span data-tag=\"python\">python</span>\\n</a>            </li>\\n      </ul>\\n\\n    <ul class=\"question-info\">\\n        <li class=\"name\"><a title=\"새우ㅏㅇ\" href=\"https://community.programmers.co.kr/users/572296/activity\">새우ㅏㅇ</a></li>\\n        <li class=\"time\"><time datetime=\"2023-04-07T14:04:12+09:00\">12일 전</time></li>\\n    </ul>\\n  </div>\\n</li>\\n\\n          <li id=\"question-18249\" class=\"question-list-item\">\\n  <div class=\"question-view-count\">\\n    <div class=\"question-number\">29</div>\\n    <h6>조회</h6>\\n  </div>\\n  <div class=\"question-vote-count\" data-id=\"18249\">\\n    <div class=\"question-number\">1</div>\\n    <h6>좋아요</h6>\\n  </div>\\n  <div class=\"question-answer-count \" data-id=\"18249\">\\n    <div class=\"question-number\">0</div>\\n    <h6>답변</h6>\\n  </div>\\n  <div class=\"question\">\\n    <div class=\"top\">\\n      <h4><a href=\"/questions/18249/%ED%8C%90%EB%8B%A4%EC%8A%A4-%EB%8D%B0%EC%9D%B4%ED%84%B0%ED%94%84%EB%A0%88%EC%9E%84-%ED%95%A9%EC%B9%98%EA%B8%B0-%EC%A7%88%EB%AC%B8\">판다스 데이터프레임 합치기 질문</a></h4>\\n    </div>\\n\\n      <ul class=\"question-tags\">\\n            <li class=\"label label-tag \">\\n              <a rel=\"tag\" href=\"/questions/tagged/python\">\\n                <span data-tag=\"python\">python</span>\\n</a>            </li>\\n            <li class=\"label label-tag \">\\n              <a rel=\"tag\" href=\"/questions/tagged/pandas\">\\n                <span data-tag=\"pandas\">pandas</span>\\n</a>            </li>\\n            <li class=\"label label-tag \">\\n              <a rel=\"tag\" href=\"/questions/tagged/dataframe\">\\n                <span data-tag=\"dataframe\">dataframe</span>\\n</a>            </li>\\n      </ul>\\n\\n    <ul class=\"question-info\">\\n        <li class=\"name\"><a title=\"김지용\" href=\"https://community.programmers.co.kr/users/238713/activity\">김지용</a></li>\\n        <li class=\"time\"><time datetime=\"2023-04-05T11:36:17+09:00\">14일 전</time></li>\\n    </ul>\\n  </div>\\n</li>\\n\\n          <li id=\"question-18248\" class=\"question-list-item\">\\n  <div class=\"question-view-count\">\\n    <div class=\"question-number\">178</div>\\n    <h6>조회</h6>\\n  </div>\\n  <div class=\"question-vote-count\" data-id=\"18248\">\\n    <div class=\"question-number\">0</div>\\n    <h6>좋아요</h6>\\n  </div>\\n  <div class=\"question-answer-count accepted\" data-id=\"18248\">\\n    <div class=\"question-number\">✓1</div>\\n    <h6>답변</h6>\\n  </div>\\n  <div class=\"question\">\\n    <div class=\"top\">\\n      <h4><a href=\"/questions/18248/c%EC%96%B8%EC%96%B4-%ED%97%A4%EB%8D%94%ED%8C%8C%EC%9D%BC%EC%97%90%EC%84%9C-int-x%EB%A5%BC-%EC%96%B4%EB%96%BB%EA%B2%8C-%EC%82%AC%EC%9A%A9%ED%95%B4%EC%95%BC-%ED%95%98%EB%8A%94%EC%A7%80-%EB%AA%A8%EB%A5%B4%EA%B2%A0%EC%8A%B5%EB%8B%88%EB%8B%A4\">C언어 헤더파일에서 int&amp; x를 어떻게 사용해야 하는지 모르겠습니다.</a></h4>\\n    </div>\\n\\n      <ul class=\"question-tags\">\\n            <li class=\"label label-tag \">\\n              <a rel=\"tag\" href=\"/questions/tagged/c\">\\n                <span data-tag=\"c\">c</span>\\n</a>            </li>\\n      </ul>\\n\\n    <ul class=\"question-info\">\\n        <li class=\"name\"><a title=\"모루라\" href=\"https://community.programmers.co.kr/users/437258/activity\">모루라</a></li>\\n        <li class=\"time\"><time datetime=\"2023-04-04T18:37:20+09:00\">15일 전</time></li>\\n    </ul>\\n  </div>\\n</li>\\n\\n          <li id=\"question-18245\" class=\"question-list-item\">\\n  <div class=\"question-view-count\">\\n    <div class=\"question-number\">47</div>\\n    <h6>조회</h6>\\n  </div>\\n  <div class=\"question-vote-count\" data-id=\"18245\">\\n    <div class=\"question-number\">0</div>\\n    <h6>좋아요</h6>\\n  </div>\\n  <div class=\"question-answer-count \" data-id=\"18245\">\\n    <div class=\"question-number\">0</div>\\n    <h6>답변</h6>\\n  </div>\\n  <div class=\"question\">\\n    <div class=\"top\">\\n      <h4><a href=\"/questions/18245/%EC%98%A4%EB%B8%8C%EC%A0%9D%ED%8A%B8%EA%B0%80-%EC%98%A4%EB%A5%B8%EC%AA%BD%EC%97%90-%EC%9E%88%EB%8A%94%EC%A7%80-%EC%99%BC%EC%AA%BD%EC%97%90-%EC%9E%88%EB%8A%94%EC%A7%80-%ED%8C%90%EB%B3%84\">오브젝트가 오른쪽에 있는지 왼쪽에 있는지 판별</a></h4>\\n    </div>\\n\\n\\n    <ul class=\"question-info\">\\n        <li class=\"name\"><a title=\"dmdsmrmaakqhwlvldqh@gmail.com\" href=\"https://community.programmers.co.kr/users/509752/activity\">dmdsmrmaakqhwlvldqh@gmail.com</a></li>\\n        <li class=\"time\"><time datetime=\"2023-04-03T14:02:59+09:00\">16일 전</time></li>\\n    </ul>\\n  </div>\\n</li>\\n\\n          <li id=\"question-18244\" class=\"question-list-item\">\\n  <div class=\"question-view-count\">\\n    <div class=\"question-number\">41</div>\\n    <h6>조회</h6>\\n  </div>\\n  <div class=\"question-vote-count\" data-id=\"18244\">\\n    <div class=\"question-number\">0</div>\\n    <h6>좋아요</h6>\\n  </div>\\n  <div class=\"question-answer-count \" data-id=\"18244\">\\n    <div class=\"question-number\">0</div>\\n    <h6>답변</h6>\\n  </div>\\n  <div class=\"question\">\\n    <div class=\"top\">\\n      <h4><a href=\"/questions/18244/android-java-%ED%9C%B4%EB%8C%80%ED%8F%B0%EC%97%90%EC%84%9C-%EB%8F%99%EC%98%81%EC%83%81-%EC%9E%AC%EC%83%9D-%EC%A4%91-%EC%A0%84%EC%9B%90%EC%9D%84-%EA%BA%BC%EB%8F%84-%EB%8F%99%EC%98%81%EC%83%81-%EC%9E%AC%EC%83%9D%EC%9D%B4-%EC%9D%BC%EC%8B%9C-%EC%A4%91%EC%A7%80%EB%90%98%EC%A7%80-%EC%95%8A%EC%8A%B5%EB%8B%88%EB%8B%A4\">Android Java 휴대폰에서 동영상 재생 중 전원을 꺼도 동영상 재생이 일시 중지되지 않습니다.</a></h4>\\n    </div>\\n\\n      <ul class=\"question-tags\">\\n            <li class=\"label label-tag \">\\n              <a rel=\"tag\" href=\"/questions/tagged/android\">\\n                <span data-tag=\"android\">android</span>\\n</a>            </li>\\n            <li class=\"label label-tag \">\\n              <a rel=\"tag\" href=\"/questions/tagged/java\">\\n                <span data-tag=\"java\">java</span>\\n</a>            </li>\\n      </ul>\\n\\n    <ul class=\"question-info\">\\n        <li class=\"name\"><a title=\"임채성\" href=\"https://community.programmers.co.kr/users/168068/activity\">임채성</a></li>\\n        <li class=\"time\"><time datetime=\"2023-04-03T08:44:25+09:00\">16일 전</time></li>\\n    </ul>\\n  </div>\\n</li>\\n\\n          <li id=\"question-18243\" class=\"question-list-item\">\\n  <div class=\"question-view-count\">\\n    <div class=\"question-number\">70</div>\\n    <h6>조회</h6>\\n  </div>\\n  <div class=\"question-vote-count\" data-id=\"18243\">\\n    <div class=\"question-number\">0</div>\\n    <h6>좋아요</h6>\\n  </div>\\n  <div class=\"question-answer-count \" data-id=\"18243\">\\n    <div class=\"question-number\">1</div>\\n    <h6>답변</h6>\\n  </div>\\n  <div class=\"question\">\\n    <div class=\"top\">\\n      <h4><a href=\"/questions/18243/%ED%8C%8C%EC%9D%B4%EC%8D%AC-%EB%B0%98%EB%B3%B5%EB%B6%84-%EC%B6%9C%EB%A0%A5\">파이썬 반복분 출력</a></h4>\\n    </div>\\n\\n      <ul class=\"question-tags\">\\n            <li class=\"label label-tag \">\\n              <a rel=\"tag\" href=\"/questions/tagged/python\">\\n                <span data-tag=\"python\">python</span>\\n</a>            </li>\\n      </ul>\\n\\n    <ul class=\"question-info\">\\n        <li class=\"name\"><a title=\"why10220@gmail.com\" href=\"https://community.programmers.co.kr/users/569300/activity\">why10220@gmail.com</a></li>\\n        <li class=\"time\"><time datetime=\"2023-03-31T19:20:42+09:00\">19일 전</time></li>\\n    </ul>\\n  </div>\\n</li>\\n\\n          <li id=\"question-18240\" class=\"question-list-item\">\\n  <div class=\"question-view-count\">\\n    <div class=\"question-number\">62</div>\\n    <h6>조회</h6>\\n  </div>\\n  <div class=\"question-vote-count\" data-id=\"18240\">\\n    <div class=\"question-number\">1</div>\\n    <h6>좋아요</h6>\\n  </div>\\n  <div class=\"question-answer-count \" data-id=\"18240\">\\n    <div class=\"question-number\">0</div>\\n    <h6>답변</h6>\\n  </div>\\n  <div class=\"question\">\\n    <div class=\"top\">\\n      <h4><a href=\"/questions/18240/%EC%9E%90%EB%B0%94-%EA%B8%B0%EC%B4%88-%EC%BD%94%EB%94%A9-%EB%8D%94-%EA%B9%94%EB%81%94%ED%95%98%EA%B2%8C-%EA%B3%A0%EC%B9%A0%EC%88%98%EC%9E%88%EC%9D%84%EA%B9%8C%EC%9A%94\">자바 기초 코딩 더 깔끔하게 고칠수있을까요?</a></h4>\\n    </div>\\n\\n      <ul class=\"question-tags\">\\n            <li class=\"label label-tag \">\\n              <a rel=\"tag\" href=\"/questions/tagged/java\">\\n                <span data-tag=\"java\">java</span>\\n</a>            </li>\\n      </ul>\\n\\n    <ul class=\"question-info\">\\n        <li class=\"name\"><a title=\"은세\" href=\"https://community.programmers.co.kr/users/569144/activity\">은세</a></li>\\n        <li class=\"time\"><time datetime=\"2023-03-31T14:32:08+09:00\">19일 전</time></li>\\n    </ul>\\n  </div>\\n</li>\\n\\n          <li id=\"question-18238\" class=\"question-list-item\">\\n  <div class=\"question-view-count\">\\n    <div class=\"question-number\">65</div>\\n    <h6>조회</h6>\\n  </div>\\n  <div class=\"question-vote-count\" data-id=\"18238\">\\n    <div class=\"question-number\">-1</div>\\n    <h6>좋아요</h6>\\n  </div>\\n  <div class=\"question-answer-count \" data-id=\"18238\">\\n    <div class=\"question-number\">0</div>\\n    <h6>답변</h6>\\n  </div>\\n  <div class=\"question\">\\n    <div class=\"top\">\\n      <h4><a href=\"/questions/18238/%ED%8E%98%EC%9D%B4%EC%A7%95-%EC%BD%94%EB%93%9C%EC%A2%80-%EB%A7%8C%EB%93%A4%EC%96%B4%EC%A3%BC%EC%84%B8%EC%9A%94\">페이징 코드좀 만들어주세요</a></h4>\\n    </div>\\n\\n      <ul class=\"question-tags\">\\n            <li class=\"label label-tag \">\\n              <a rel=\"tag\" href=\"/questions/tagged/code\">\\n                <span data-tag=\"code\">code</span>\\n</a>            </li>\\n      </ul>\\n\\n    <ul class=\"question-info\">\\n        <li class=\"name\"><a title=\"ehzkf26@gmail.com\" href=\"https://community.programmers.co.kr/users/568892/activity\">ehzkf26@gmail.com</a></li>\\n        <li class=\"time\"><time datetime=\"2023-03-30T20:14:37+09:00\">20일 전</time></li>\\n    </ul>\\n  </div>\\n</li>\\n\\n          <li id=\"question-18234\" class=\"question-list-item\">\\n  <div class=\"question-view-count\">\\n    <div class=\"question-number\">62</div>\\n    <h6>조회</h6>\\n  </div>\\n  <div class=\"question-vote-count\" data-id=\"18234\">\\n    <div class=\"question-number\">-2</div>\\n    <h6>좋아요</h6>\\n  </div>\\n  <div class=\"question-answer-count \" data-id=\"18234\">\\n    <div class=\"question-number\">0</div>\\n    <h6>답변</h6>\\n  </div>\\n  <div class=\"question\">\\n    <div class=\"top\">\\n      <h4><a href=\"/questions/18234/%ED%8C%8C%EC%9D%B4%EC%8D%AC-%EC%BD%94%EB%93%9C-%EC%A7%88%EB%AC%B8\">파이썬 코드 질문</a></h4>\\n    </div>\\n\\n      <ul class=\"question-tags\">\\n            <li class=\"label label-tag \">\\n              <a rel=\"tag\" href=\"/questions/tagged/python\">\\n                <span data-tag=\"python\">python</span>\\n</a>            </li>\\n      </ul>\\n\\n    <ul class=\"question-info\">\\n        <li class=\"name\"><a title=\"wlgns528@gmail.com\" href=\"https://community.programmers.co.kr/users/568497/activity\">wlgns528@gmail.com</a></li>\\n        <li class=\"time\"><time datetime=\"2023-03-29T23:50:47+09:00\">21일 전</time></li>\\n    </ul>\\n  </div>\\n</li>\\n\\n          <li id=\"question-18233\" class=\"question-list-item\">\\n  <div class=\"question-view-count\">\\n    <div class=\"question-number\">58</div>\\n    <h6>조회</h6>\\n  </div>\\n  <div class=\"question-vote-count\" data-id=\"18233\">\\n    <div class=\"question-number\">0</div>\\n    <h6>좋아요</h6>\\n  </div>\\n  <div class=\"question-answer-count \" data-id=\"18233\">\\n    <div class=\"question-number\">1</div>\\n    <h6>답변</h6>\\n  </div>\\n  <div class=\"question\">\\n    <div class=\"top\">\\n      <h4><a href=\"/questions/18233/matplotlib-%EC%9C%BC%EB%A1%9C-%EB%A7%89%EB%8C%80%EA%B7%B8%EB%9E%98%ED%94%84%EC%99%80-%EC%84%A0%EA%B7%B8%EB%9E%98%ED%94%84-%EA%B7%B8%EB%A6%AC%EA%B8%B0\">matplotlib 으로 막대그래프와 선그래프 그리기</a></h4>\\n    </div>\\n\\n      <ul class=\"question-tags\">\\n            <li class=\"label label-tag \">\\n              <a rel=\"tag\" href=\"/questions/tagged/python\">\\n                <span data-tag=\"python\">python</span>\\n</a>            </li>\\n            <li class=\"label label-tag \">\\n              <a rel=\"tag\" href=\"/questions/tagged/matplotlib\">\\n                <span data-tag=\"matplotlib\">matplotlib</span>\\n</a>            </li>\\n            <li class=\"label label-tag \">\\n              <a rel=\"tag\" href=\"/questions/tagged/dataframe\">\\n                <span data-tag=\"dataframe\">dataframe</span>\\n</a>            </li>\\n            <li class=\"label label-tag \">\\n              <a rel=\"tag\" href=\"/questions/tagged/pandas\">\\n                <span data-tag=\"pandas\">pandas</span>\\n</a>            </li>\\n      </ul>\\n\\n    <ul class=\"question-info\">\\n        <li class=\"name\"><a title=\"Honeybee\" href=\"https://community.programmers.co.kr/users/435786/activity\">Honeybee</a></li>\\n        <li class=\"time\"><time datetime=\"2023-03-28T15:42:57+09:00\">22일 전</time></li>\\n    </ul>\\n  </div>\\n</li>\\n\\n          <li id=\"question-18232\" class=\"question-list-item\">\\n  <div class=\"question-view-count\">\\n    <div class=\"question-number\">68</div>\\n    <h6>조회</h6>\\n  </div>\\n  <div class=\"question-vote-count\" data-id=\"18232\">\\n    <div class=\"question-number\">0</div>\\n    <h6>좋아요</h6>\\n  </div>\\n  <div class=\"question-answer-count \" data-id=\"18232\">\\n    <div class=\"question-number\">0</div>\\n    <h6>답변</h6>\\n  </div>\\n  <div class=\"question\">\\n    <div class=\"top\">\\n      <h4><a href=\"/questions/18232/%ED%8C%8C%EC%9D%B4%EC%8D%AC-%EC%97%B0%EA%B2%B0-%EB%A6%AC%EC%8A%A4%ED%8A%B8-%EC%A7%88%EB%AC%B8%EB%93%9C%EB%A6%BD%EB%8B%88%EB%8B%A4\">파이썬 연결 리스트 질문드립니다.</a></h4>\\n    </div>\\n\\n      <ul class=\"question-tags\">\\n            <li class=\"label label-tag \">\\n              <a rel=\"tag\" href=\"/questions/tagged/python\">\\n                <span data-tag=\"python\">python</span>\\n</a>            </li>\\n      </ul>\\n\\n    <ul class=\"question-info\">\\n        <li class=\"name\"><a title=\"노주현\" href=\"https://community.programmers.co.kr/users/458102/activity\">노주현</a></li>\\n        <li class=\"time\"><time datetime=\"2023-03-26T23:54:01+09:00\">24일 전</time></li>\\n    </ul>\\n  </div>\\n</li>\\n\\n          <li id=\"question-18231\" class=\"question-list-item\">\\n  <div class=\"question-view-count\">\\n    <div class=\"question-number\">83</div>\\n    <h6>조회</h6>\\n  </div>\\n  <div class=\"question-vote-count\" data-id=\"18231\">\\n    <div class=\"question-number\">0</div>\\n    <h6>좋아요</h6>\\n  </div>\\n  <div class=\"question-answer-count \" data-id=\"18231\">\\n    <div class=\"question-number\">1</div>\\n    <h6>답변</h6>\\n  </div>\\n  <div class=\"question\">\\n    <div class=\"top\">\\n      <h4><a href=\"/questions/18231/%EA%B3%B5%EB%B0%B1%EC%82%AD%EC%A0%9C-%EA%B4%80%EB%A0%A8%EC%A7%88%EB%AC%B8%EB%93%9C%EB%A6%BD%EB%8B%88%EB%8B%A4\">공백삭제 관련질문드립니다</a></h4>\\n    </div>\\n\\n      <ul class=\"question-tags\">\\n            <li class=\"label label-tag \">\\n              <a rel=\"tag\" href=\"/questions/tagged/beautifulsoup\">\\n                <span data-tag=\"beautifulsoup\">beautifulsoup</span>\\n</a>            </li>\\n            <li class=\"label label-tag \">\\n              <a rel=\"tag\" href=\"/questions/tagged/replace\">\\n                <span data-tag=\"replace\">replace</span>\\n</a>            </li>\\n            <li class=\"label label-tag \">\\n              <a rel=\"tag\" href=\"/questions/tagged/python\">\\n                <span data-tag=\"python\">python</span>\\n</a>            </li>\\n      </ul>\\n\\n    <ul class=\"question-info\">\\n        <li class=\"name\"><a title=\"shluke8@gmail.com\" href=\"https://community.programmers.co.kr/users/566151/activity\">shluke8@gmail.com</a></li>\\n        <li class=\"time\"><time datetime=\"2023-03-26T18:23:59+09:00\">24일 전</time></li>\\n    </ul>\\n  </div>\\n</li>\\n\\n          <li id=\"question-18230\" class=\"question-list-item\">\\n  <div class=\"question-view-count\">\\n    <div class=\"question-number\">118</div>\\n    <h6>조회</h6>\\n  </div>\\n  <div class=\"question-vote-count\" data-id=\"18230\">\\n    <div class=\"question-number\">0</div>\\n    <h6>좋아요</h6>\\n  </div>\\n  <div class=\"question-answer-count \" data-id=\"18230\">\\n    <div class=\"question-number\">1</div>\\n    <h6>답변</h6>\\n  </div>\\n  <div class=\"question\">\\n    <div class=\"top\">\\n      <h4><a href=\"/questions/18230/pandas-dataframe-for%EB%AC%B8%EC%9C%BC%EB%A1%9C-%EC%97%AC%EB%9F%AC%EA%B0%9C-%EB%A7%8C%EB%93%A4%EA%B8%B0\">[Pandas] dataframe for문으로 여러개 만들기.</a></h4>\\n    </div>\\n\\n      <ul class=\"question-tags\">\\n            <li class=\"label label-tag \">\\n              <a rel=\"tag\" href=\"/questions/tagged/pandas\">\\n                <span data-tag=\"pandas\">pandas</span>\\n</a>            </li>\\n            <li class=\"label label-tag \">\\n              <a rel=\"tag\" href=\"/questions/tagged/dataframe\">\\n                <span data-tag=\"dataframe\">dataframe</span>\\n</a>            </li>\\n      </ul>\\n\\n    <ul class=\"question-info\">\\n        <li class=\"name\"><a title=\"상혀박\" href=\"https://community.programmers.co.kr/users/328428/activity\">상혀박</a></li>\\n        <li class=\"time\"><time datetime=\"2023-03-24T00:55:34+09:00\">27일 전</time></li>\\n    </ul>\\n  </div>\\n</li>\\n\\n          <li id=\"question-18229\" class=\"question-list-item\">\\n  <div class=\"question-view-count\">\\n    <div class=\"question-number\">160</div>\\n    <h6>조회</h6>\\n  </div>\\n  <div class=\"question-vote-count\" data-id=\"18229\">\\n    <div class=\"question-number\">0</div>\\n    <h6>좋아요</h6>\\n  </div>\\n  <div class=\"question-answer-count \" data-id=\"18229\">\\n    <div class=\"question-number\">1</div>\\n    <h6>답변</h6>\\n  </div>\\n  <div class=\"question\">\\n    <div class=\"top\">\\n      <h4><a href=\"/questions/18229/ai%EC%99%80-%EA%B2%A8%EB%A3%A8%EB%8A%94-33-%ED%8B%B1%ED%85%8D%ED%86%A0-%EA%B2%8C%EC%9E%84-%EA%B5%AC%ED%98%84-%EC%BD%94%EB%93%9C%EB%A5%BC-%EC%A7%9C%EB%8A%94-%EC%A4%91%EC%97%90-%EC%98%A4%EB%A5%98%EA%B0%80-%EC%83%9D%EA%B2%BC%EC%8A%B5%EB%8B%88%EB%8B%A4\">ai와 겨루는 3*3 틱텍토 게임 구현 코드를 짜는 중에 오류가 생겼습니다.</a></h4>\\n    </div>\\n\\n      <ul class=\"question-tags\">\\n            <li class=\"label label-tag \">\\n              <a rel=\"tag\" href=\"/questions/tagged/ai\">\\n                <span data-tag=\"ai\">ai</span>\\n</a>            </li>\\n      </ul>\\n\\n    <ul class=\"question-info\">\\n        <li class=\"name\"><a href=\"https://community.programmers.co.kr/users/deleted/activity\">알 수 없는 사용자</a></li>\\n        <li class=\"time\"><time datetime=\"2023-03-23T22:59:49+09:00\">27일 전</time></li>\\n    </ul>\\n  </div>\\n</li>\\n\\n          <li id=\"question-18228\" class=\"question-list-item\">\\n  <div class=\"question-view-count\">\\n    <div class=\"question-number\">52</div>\\n    <h6>조회</h6>\\n  </div>\\n  <div class=\"question-vote-count\" data-id=\"18228\">\\n    <div class=\"question-number\">1</div>\\n    <h6>좋아요</h6>\\n  </div>\\n  <div class=\"question-answer-count \" data-id=\"18228\">\\n    <div class=\"question-number\">0</div>\\n    <h6>답변</h6>\\n  </div>\\n  <div class=\"question\">\\n    <div class=\"top\">\\n      <h4><a href=\"/questions/18228/gui-%EA%B5%AC%EC%84%B1-%EC%8B%9C-%EC%97%94%EC%A7%84-%EB%B6%80%EB%B6%84%EA%B3%BC-gui-%EB%B6%80%EB%B6%84%EC%9D%84-%EB%B6%84%EB%A6%AC%ED%95%98%EB%8A%94-%EC%B2%A0%ED%95%99-%EB%B0%A9%EC%8B%9D-%EB%A9%94%EC%86%8C%EB%93%9C%EC%97%90-%EA%B4%80%ED%95%9C-%EC%A1%B0%EC%96%B8\">GUI 구성 시 엔진 부분과 GUI 부분을 분리하는 철학, 방식, 메소드에 관한 조언 </a></h4>\\n    </div>\\n\\n      <ul class=\"question-tags\">\\n            <li class=\"label label-tag \">\\n              <a rel=\"tag\" href=\"/questions/tagged/gui\">\\n                <span data-tag=\"gui\">gui</span>\\n</a>            </li>\\n            <li class=\"label label-tag \">\\n              <a rel=\"tag\" href=\"/questions/tagged/tkinter\">\\n                <span data-tag=\"tkinter\">tkinter</span>\\n</a>            </li>\\n            <li class=\"label label-tag \">\\n              <a rel=\"tag\" href=\"/questions/tagged/software_development\">\\n                <span data-tag=\"software_development\">software_development</span>\\n</a>            </li>\\n      </ul>\\n\\n    <ul class=\"question-info\">\\n        <li class=\"name\"><a title=\"광자\" href=\"https://community.programmers.co.kr/users/5978/activity\">광자</a></li>\\n        <li class=\"time\"><time datetime=\"2023-03-23T15:33:19+09:00\">27일 전</time></li>\\n    </ul>\\n  </div>\\n</li>\\n\\n          <li id=\"question-18226\" class=\"question-list-item\">\\n  <div class=\"question-view-count\">\\n    <div class=\"question-number\">108</div>\\n    <h6>조회</h6>\\n  </div>\\n  <div class=\"question-vote-count\" data-id=\"18226\">\\n    <div class=\"question-number\">0</div>\\n    <h6>좋아요</h6>\\n  </div>\\n  <div class=\"question-answer-count \" data-id=\"18226\">\\n    <div class=\"question-number\">1</div>\\n    <h6>답변</h6>\\n  </div>\\n  <div class=\"question\">\\n    <div class=\"top\">\\n      <h4><a href=\"/questions/18226/%EC%9E%90%EB%B0%94-%EA%B0%9D%EC%B2%B4%EC%84%A0%EC%96%B8-%EC%98%A4%EB%A5%98-%EC%A7%88%EB%AC%B8%EC%9E%85%EB%8B%88%EB%8B%A4\">자바 객체선언 오류 질문입니다!</a></h4>\\n    </div>\\n\\n      <ul class=\"question-tags\">\\n            <li class=\"label label-tag \">\\n              <a rel=\"tag\" href=\"/questions/tagged/java\">\\n                <span data-tag=\"java\">java</span>\\n</a>            </li>\\n            <li class=\"label label-tag \">\\n              <a rel=\"tag\" href=\"/questions/tagged/javac\">\\n                <span data-tag=\"javac\">javac</span>\\n</a>            </li>\\n      </ul>\\n\\n    <ul class=\"question-info\">\\n        <li class=\"name\"><a title=\"llb991\" href=\"https://community.programmers.co.kr/users/552562/activity\">llb991</a></li>\\n        <li class=\"time\"><time datetime=\"2023-03-22T02:36:00+09:00\">29일 전</time></li>\\n    </ul>\\n  </div>\\n</li>\\n\\n          <li id=\"question-18225\" class=\"question-list-item\">\\n  <div class=\"question-view-count\">\\n    <div class=\"question-number\">186</div>\\n    <h6>조회</h6>\\n  </div>\\n  <div class=\"question-vote-count\" data-id=\"18225\">\\n    <div class=\"question-number\">0</div>\\n    <h6>좋아요</h6>\\n  </div>\\n  <div class=\"question-answer-count accepted\" data-id=\"18225\">\\n    <div class=\"question-number\">✓1</div>\\n    <h6>답변</h6>\\n  </div>\\n  <div class=\"question\">\\n    <div class=\"top\">\\n      <h4><a href=\"/questions/18225/%ED%8C%8C%EC%9D%B4%EC%8D%AC-%EA%B0%84%EB%8B%A8%ED%95%9C-%EC%BD%94%EB%93%9C-%EC%A7%88%EB%AC%B8\">파이썬 간단한 코드 질문</a></h4>\\n    </div>\\n\\n      <ul class=\"question-tags\">\\n            <li class=\"label label-tag \">\\n              <a rel=\"tag\" href=\"/questions/tagged/python\">\\n                <span data-tag=\"python\">python</span>\\n</a>            </li>\\n      </ul>\\n\\n    <ul class=\"question-info\">\\n        <li class=\"name\"><a title=\"남경빈\" href=\"https://community.programmers.co.kr/users/564176/activity\">남경빈</a></li>\\n        <li class=\"time\"><time datetime=\"2023-03-21T21:52:33+09:00\">29일 전</time></li>\\n    </ul>\\n  </div>\\n</li>\\n\\n          <li id=\"question-18221\" class=\"question-list-item\">\\n  <div class=\"question-view-count\">\\n    <div class=\"question-number\">73</div>\\n    <h6>조회</h6>\\n  </div>\\n  <div class=\"question-vote-count\" data-id=\"18221\">\\n    <div class=\"question-number\">0</div>\\n    <h6>좋아요</h6>\\n  </div>\\n  <div class=\"question-answer-count \" data-id=\"18221\">\\n    <div class=\"question-number\">1</div>\\n    <h6>답변</h6>\\n  </div>\\n  <div class=\"question\">\\n    <div class=\"top\">\\n      <h4><a href=\"/questions/18221/%EB%A1%9C-%EC%A3%BC%EC%84%9D%EC%9C%BC%EB%A1%9C-%EB%A7%8C%EB%93%A4%EC%97%88%EB%8A%94%EB%8D%B0-%EC%99%9C-%EC%A3%BC%EC%84%9D%EC%9D%84-%EC%A7%80%EC%9A%B0%EC%A7%80-%EC%95%8A%EC%9C%BC%EB%A9%B4-%EC%9C%A0%EB%8B%88%EC%BD%94%EB%93%9C%EC%98%A4%EB%A5%98%EA%B0%80-%EC%99%9C-%EB%82%98%EB%8A%94%EC%A7%80-%EB%AA%A8%EB%A5%B4%EA%B2%A0%EC%96%B4%EC%97%AC\">&#39;&#39;&#39;로 주석으로 만들었는데 왜 주석을 지우지 않으면 유니코드오류가 왜 나는지 모르겠어여</a></h4>\\n    </div>\\n\\n      <ul class=\"question-tags\">\\n            <li class=\"label label-tag \">\\n              <a rel=\"tag\" href=\"/questions/tagged/python\">\\n                <span data-tag=\"python\">python</span>\\n</a>            </li>\\n      </ul>\\n\\n    <ul class=\"question-info\">\\n        <li class=\"name\"><a title=\"ocwoth4@gmail.com\" href=\"https://community.programmers.co.kr/users/563182/activity\">ocwoth4@gmail.com</a></li>\\n        <li class=\"time\"><time datetime=\"2023-03-20T13:58:01+09:00\">약 1개월 전</time></li>\\n    </ul>\\n  </div>\\n</li>\\n\\n          <li id=\"question-18220\" class=\"question-list-item\">\\n  <div class=\"question-view-count\">\\n    <div class=\"question-number\">115</div>\\n    <h6>조회</h6>\\n  </div>\\n  <div class=\"question-vote-count\" data-id=\"18220\">\\n    <div class=\"question-number\">0</div>\\n    <h6>좋아요</h6>\\n  </div>\\n  <div class=\"question-answer-count \" data-id=\"18220\">\\n    <div class=\"question-number\">1</div>\\n    <h6>답변</h6>\\n  </div>\\n  <div class=\"question\">\\n    <div class=\"top\">\\n      <h4><a href=\"/questions/18220/define-%EC%83%81%EC%88%98-%EC%84%A0%EC%96%B8%EB%96%84\">#define 상수 선언떄</a></h4>\\n    </div>\\n\\n      <ul class=\"question-tags\">\\n            <li class=\"label label-tag \">\\n              <a rel=\"tag\" href=\"/questions/tagged/c\">\\n                <span data-tag=\"c\">c</span>\\n</a>            </li>\\n      </ul>\\n\\n    <ul class=\"question-info\">\\n        <li class=\"name\"><a title=\"gurtmd3323@gmail.com\" href=\"https://community.programmers.co.kr/users/562782/activity\">gurtmd3323@gmail.com</a></li>\\n        <li class=\"time\"><time datetime=\"2023-03-19T12:14:36+09:00\">약 1개월 전</time></li>\\n    </ul>\\n  </div>\\n</li>\\n\\n          <li id=\"question-18214\" class=\"question-list-item\">\\n  <div class=\"question-view-count\">\\n    <div class=\"question-number\">86</div>\\n    <h6>조회</h6>\\n  </div>\\n  <div class=\"question-vote-count\" data-id=\"18214\">\\n    <div class=\"question-number\">0</div>\\n    <h6>좋아요</h6>\\n  </div>\\n  <div class=\"question-answer-count \" data-id=\"18214\">\\n    <div class=\"question-number\">0</div>\\n    <h6>답변</h6>\\n  </div>\\n  <div class=\"question\">\\n    <div class=\"top\">\\n      <h4><a href=\"/questions/18214/%EC%9A%B0%EB%B6%84%ED%88%AC-vmware-%EA%B0%80%EC%83%81%EB%A8%B8%EC%8B%A0-%EC%98%A4%EB%A5%98\">우분투 vmware 가상머신 오류</a></h4>\\n    </div>\\n\\n      <ul class=\"question-tags\">\\n            <li class=\"label label-tag \">\\n              <a rel=\"tag\" href=\"/questions/tagged/ubuntu\">\\n                <span data-tag=\"ubuntu\">ubuntu</span>\\n</a>            </li>\\n            <li class=\"label label-tag \">\\n              <a rel=\"tag\" href=\"/questions/tagged/vmware\">\\n                <span data-tag=\"vmware\">vmware</span>\\n</a>            </li>\\n      </ul>\\n\\n    <ul class=\"question-info\">\\n        <li class=\"name\"><a title=\"코린이이\" href=\"https://community.programmers.co.kr/users/534100/activity\">코린이이</a></li>\\n        <li class=\"time\"><time datetime=\"2023-03-10T01:19:19+09:00\">약 1개월 전</time></li>\\n    </ul>\\n  </div>\\n</li>\\n\\n          <li id=\"question-18211\" class=\"question-list-item\">\\n  <div class=\"question-view-count\">\\n    <div class=\"question-number\">125</div>\\n    <h6>조회</h6>\\n  </div>\\n  <div class=\"question-vote-count\" data-id=\"18211\">\\n    <div class=\"question-number\">0</div>\\n    <h6>좋아요</h6>\\n  </div>\\n  <div class=\"question-answer-count \" data-id=\"18211\">\\n    <div class=\"question-number\">1</div>\\n    <h6>답변</h6>\\n  </div>\\n  <div class=\"question\">\\n    <div class=\"top\">\\n      <h4><a href=\"/questions/18211/%ED%8C%8C%EC%9D%B4%EC%8D%AC-%EB%A9%80%ED%8B%B0%EC%8A%A4%EB%A0%88%EB%94%A9-%EC%A7%88%EB%AC%B8\">파이썬 멀티스레딩 질문</a></h4>\\n    </div>\\n\\n      <ul class=\"question-tags\">\\n            <li class=\"label label-tag \">\\n              <a rel=\"tag\" href=\"/questions/tagged/python\">\\n                <span data-tag=\"python\">python</span>\\n</a>            </li>\\n            <li class=\"label label-tag \">\\n              <a rel=\"tag\" href=\"/questions/tagged/multithreading\">\\n                <span data-tag=\"multithreading\">multithreading</span>\\n</a>            </li>\\n      </ul>\\n\\n    <ul class=\"question-info\">\\n        <li class=\"name\"><a title=\"길태호\" href=\"https://community.programmers.co.kr/users/557807/activity\">길태호</a></li>\\n        <li class=\"time\"><time datetime=\"2023-03-08T10:03:07+09:00\">약 1개월 전</time></li>\\n    </ul>\\n  </div>\\n</li>\\n\\n          <li id=\"question-18209\" class=\"question-list-item\">\\n  <div class=\"question-view-count\">\\n    <div class=\"question-number\">92</div>\\n    <h6>조회</h6>\\n  </div>\\n  <div class=\"question-vote-count\" data-id=\"18209\">\\n    <div class=\"question-number\">0</div>\\n    <h6>좋아요</h6>\\n  </div>\\n  <div class=\"question-answer-count \" data-id=\"18209\">\\n    <div class=\"question-number\">1</div>\\n    <h6>답변</h6>\\n  </div>\\n  <div class=\"question\">\\n    <div class=\"top\">\\n      <h4><a href=\"/questions/18209/%ED%8C%8C%EC%9D%B4%EC%8D%AC-%EC%97%91%EC%85%80-%ED%8C%8C%EC%9D%BC-%EC%9D%BD%EA%B8%B0\">파이썬 엑셀 파일 읽기</a></h4>\\n    </div>\\n\\n      <ul class=\"question-tags\">\\n            <li class=\"label label-tag \">\\n              <a rel=\"tag\" href=\"/questions/tagged/python\">\\n                <span data-tag=\"python\">python</span>\\n</a>            </li>\\n      </ul>\\n\\n    <ul class=\"question-info\">\\n        <li class=\"name\"><a title=\"eriny\" href=\"https://community.programmers.co.kr/users/555264/activity\">eriny</a></li>\\n        <li class=\"time\"><time datetime=\"2023-03-06T14:35:54+09:00\">약 1개월 전</time></li>\\n    </ul>\\n  </div>\\n</li>\\n\\n          <li id=\"question-18180\" class=\"question-list-item\">\\n  <div class=\"question-view-count\">\\n    <div class=\"question-number\">107</div>\\n    <h6>조회</h6>\\n  </div>\\n  <div class=\"question-vote-count\" data-id=\"18180\">\\n    <div class=\"question-number\">0</div>\\n    <h6>좋아요</h6>\\n  </div>\\n  <div class=\"question-answer-count \" data-id=\"18180\">\\n    <div class=\"question-number\">1</div>\\n    <h6>답변</h6>\\n  </div>\\n  <div class=\"question\">\\n    <div class=\"top\">\\n      <h4><a href=\"/questions/18180/%EB%A8%B8%EC%93%B1%EC%9D%B4-%EC%8A%A4%ED%83%AC%ED%94%84-%ED%95%A0%EB%95%8C-%EB%8B%B5%EB%B3%B4%EA%B8%B0%EC%9A%94\">머쓱이 스탬프 할때 답보기요</a></h4>\\n    </div>\\n\\n\\n    <ul class=\"question-info\">\\n        <li class=\"name\"><a title=\"앤디\" href=\"https://community.programmers.co.kr/users/554898/activity\">앤디</a></li>\\n        <li class=\"time\"><time datetime=\"2023-03-03T12:41:44+09:00\">약 2개월 전</time></li>\\n    </ul>\\n  </div>\\n</li>\\n\\n          <li id=\"question-18178\" class=\"question-list-item\">\\n  <div class=\"question-view-count\">\\n    <div class=\"question-number\">89</div>\\n    <h6>조회</h6>\\n  </div>\\n  <div class=\"question-vote-count\" data-id=\"18178\">\\n    <div class=\"question-number\">0</div>\\n    <h6>좋아요</h6>\\n  </div>\\n  <div class=\"question-answer-count \" data-id=\"18178\">\\n    <div class=\"question-number\">1</div>\\n    <h6>답변</h6>\\n  </div>\\n  <div class=\"question\">\\n    <div class=\"top\">\\n      <h4><a href=\"/questions/18178/bfs%EB%A5%BC-%EC%82%AC%EC%9A%A9%ED%95%B4%EB%8F%84-%EB%AC%B4%EA%B4%80%ED%95%9C%EC%A7%80-%EA%B6%81%EA%B8%88%ED%95%A9%EB%8B%88%EB%8B%A4\">BFS를 사용해도 무관한지 궁금합니다!</a></h4>\\n    </div>\\n\\n      <ul class=\"question-tags\">\\n            <li class=\"label label-tag \">\\n              <a rel=\"tag\" href=\"/questions/tagged/algorithm\">\\n                <span data-tag=\"algorithm\">algorithm</span>\\n</a>            </li>\\n            <li class=\"label label-tag \">\\n              <a rel=\"tag\" href=\"/questions/tagged/coding-test\">\\n                <span data-tag=\"coding-test\">coding-test</span>\\n</a>            </li>\\n            <li class=\"label label-tag \">\\n              <a rel=\"tag\" href=\"/questions/tagged/bfs\">\\n                <span data-tag=\"bfs\">bfs</span>\\n</a>            </li>\\n      </ul>\\n\\n    <ul class=\"question-info\">\\n        <li class=\"name\"><a title=\"임지훈\" href=\"https://community.programmers.co.kr/users/130616/activity\">임지훈</a></li>\\n        <li class=\"time\"><time datetime=\"2023-03-02T21:55:21+09:00\">약 2개월 전</time></li>\\n    </ul>\\n  </div>\\n</li>\\n\\n          <li id=\"question-18177\" class=\"question-list-item\">\\n  <div class=\"question-view-count\">\\n    <div class=\"question-number\">100</div>\\n    <h6>조회</h6>\\n  </div>\\n  <div class=\"question-vote-count\" data-id=\"18177\">\\n    <div class=\"question-number\">0</div>\\n    <h6>좋아요</h6>\\n  </div>\\n  <div class=\"question-answer-count \" data-id=\"18177\">\\n    <div class=\"question-number\">0</div>\\n    <h6>답변</h6>\\n  </div>\\n  <div class=\"question\">\\n    <div class=\"top\">\\n      <h4><a href=\"/questions/18177/c-%EB%B0%B1%EC%A4%80-25206-%EB%AC%B8%EC%A0%9C-%EB%AD%90%EA%B0%80-%EB%AC%B8%EC%A0%9C%EC%9D%B8%EC%A7%80-%ED%99%95%EC%9D%B8%EC%8B%9C%EC%BC%9C%EC%A4%84-%EA%B3%A0%EC%88%98%EB%B6%84\">C# 백준 25206 문제 뭐가 문제인지 확인시켜줄 고수분 </a></h4>\\n    </div>\\n\\n\\n    <ul class=\"question-info\">\\n        <li class=\"name\"><a title=\"이찬우\" href=\"https://community.programmers.co.kr/users/429866/activity\">이찬우</a></li>\\n        <li class=\"time\"><time datetime=\"2023-03-01T18:03:03+09:00\">약 2개월 전</time></li>\\n    </ul>\\n  </div>\\n</li>\\n\\n          <li id=\"question-18176\" class=\"question-list-item\">\\n  <div class=\"question-view-count\">\\n    <div class=\"question-number\">126</div>\\n    <h6>조회</h6>\\n  </div>\\n  <div class=\"question-vote-count\" data-id=\"18176\">\\n    <div class=\"question-number\">1</div>\\n    <h6>좋아요</h6>\\n  </div>\\n  <div class=\"question-answer-count accepted\" data-id=\"18176\">\\n    <div class=\"question-number\">✓2</div>\\n    <h6>답변</h6>\\n  </div>\\n  <div class=\"question\">\\n    <div class=\"top\">\\n      <h4><a href=\"/questions/18176/python-%EC%A0%9C%EB%84%88%EB%A0%88%EC%9D%B4%ED%84%B0%ED%99%94\">python 제너레이터화</a></h4>\\n    </div>\\n\\n      <ul class=\"question-tags\">\\n            <li class=\"label label-tag \">\\n              <a rel=\"tag\" href=\"/questions/tagged/python\">\\n                <span data-tag=\"python\">python</span>\\n</a>            </li>\\n      </ul>\\n\\n    <ul class=\"question-info\">\\n        <li class=\"name\"><a title=\"광자\" href=\"https://community.programmers.co.kr/users/5978/activity\">광자</a></li>\\n        <li class=\"time\"><time datetime=\"2023-02-27T11:27:40+09:00\">약 2개월 전</time></li>\\n    </ul>\\n  </div>\\n</li>\\n\\n          <li id=\"question-18175\" class=\"question-list-item\">\\n  <div class=\"question-view-count\">\\n    <div class=\"question-number\">98</div>\\n    <h6>조회</h6>\\n  </div>\\n  <div class=\"question-vote-count\" data-id=\"18175\">\\n    <div class=\"question-number\">0</div>\\n    <h6>좋아요</h6>\\n  </div>\\n  <div class=\"question-answer-count \" data-id=\"18175\">\\n    <div class=\"question-number\">1</div>\\n    <h6>답변</h6>\\n  </div>\\n  <div class=\"question\">\\n    <div class=\"top\">\\n      <h4><a href=\"/questions/18175/%EB%A6%AC%EC%95%A1%ED%8A%B8-%EC%BF%BC%EB%A6%AC%EC%97%90%EC%84%9C-usequery%EB%A5%BC-%EC%96%B4%EB%96%BB%EA%B2%8C-%EC%82%AC%EC%9A%A9%ED%95%B4%EC%95%BC%ED%95%98%EB%82%98%EC%9A%94\">리액트 쿼리에서 useQuery를 어떻게 사용해야하나요</a></h4>\\n    </div>\\n\\n      <ul class=\"question-tags\">\\n            <li class=\"label label-tag \">\\n              <a rel=\"tag\" href=\"/questions/tagged/react\">\\n                <span data-tag=\"react\">react</span>\\n</a>            </li>\\n      </ul>\\n\\n    <ul class=\"question-info\">\\n        <li class=\"name\"><a title=\"민\" href=\"https://community.programmers.co.kr/users/537024/activity\">민</a></li>\\n        <li class=\"time\"><time datetime=\"2023-02-26T14:43:38+09:00\">약 2개월 전</time></li>\\n    </ul>\\n  </div>\\n</li>\\n\\n          <li id=\"question-18164\" class=\"question-list-item\">\\n  <div class=\"question-view-count\">\\n    <div class=\"question-number\">98</div>\\n    <h6>조회</h6>\\n  </div>\\n  <div class=\"question-vote-count\" data-id=\"18164\">\\n    <div class=\"question-number\">0</div>\\n    <h6>좋아요</h6>\\n  </div>\\n  <div class=\"question-answer-count \" data-id=\"18164\">\\n    <div class=\"question-number\">2</div>\\n    <h6>답변</h6>\\n  </div>\\n  <div class=\"question\">\\n    <div class=\"top\">\\n      <h4><a href=\"/questions/18164/htmljavascript-%EB%A1%9C-nodejs%ED%86%B5%ED%95%B4%EC%84%9C-%EC%95%84%EB%91%90%EC%9D%B4%EB%85%B8-%ED%86%B5%EC%8B%A0%EA%B4%80%EB%A0%A8\">html/javascript 로 node.js통해서 아두이노 통신관련</a></h4>\\n    </div>\\n\\n      <ul class=\"question-tags\">\\n            <li class=\"label label-tag \">\\n              <a rel=\"tag\" href=\"/questions/tagged/javascript\">\\n                <span data-tag=\"javascript\">javascript</span>\\n</a>            </li>\\n            <li class=\"label label-tag \">\\n              <a rel=\"tag\" href=\"/questions/tagged/arduino\">\\n                <span data-tag=\"arduino\">arduino</span>\\n</a>            </li>\\n            <li class=\"label label-tag \">\\n              <a rel=\"tag\" href=\"/questions/tagged/node.js\">\\n                <span data-tag=\"node.js\">node.js</span>\\n</a>            </li>\\n      </ul>\\n\\n    <ul class=\"question-info\">\\n        <li class=\"name\"><a title=\"김병윤\" href=\"https://community.programmers.co.kr/users/541426/activity\">김병윤</a></li>\\n        <li class=\"time\"><time datetime=\"2023-02-23T13:40:34+09:00\">약 2개월 전</time></li>\\n    </ul>\\n  </div>\\n</li>\\n\\n          <li id=\"question-18163\" class=\"question-list-item\">\\n  <div class=\"question-view-count\">\\n    <div class=\"question-number\">140</div>\\n    <h6>조회</h6>\\n  </div>\\n  <div class=\"question-vote-count\" data-id=\"18163\">\\n    <div class=\"question-number\">0</div>\\n    <h6>좋아요</h6>\\n  </div>\\n  <div class=\"question-answer-count \" data-id=\"18163\">\\n    <div class=\"question-number\">1</div>\\n    <h6>답변</h6>\\n  </div>\\n  <div class=\"question\">\\n    <div class=\"top\">\\n      <h4><a href=\"/questions/18163/binary-search-tree\">Binary search tree</a></h4>\\n    </div>\\n\\n      <ul class=\"question-tags\">\\n            <li class=\"label label-tag \">\\n              <a rel=\"tag\" href=\"/questions/tagged/java\">\\n                <span data-tag=\"java\">java</span>\\n</a>            </li>\\n      </ul>\\n\\n    <ul class=\"question-info\">\\n        <li class=\"name\"><a title=\"Mobiwann\" href=\"https://community.programmers.co.kr/users/488611/activity\">Mobiwann</a></li>\\n        <li class=\"time\"><time datetime=\"2023-02-22T22:37:38+09:00\">약 2개월 전</time></li>\\n    </ul>\\n  </div>\\n</li>\\n\\n          <li id=\"question-18162\" class=\"question-list-item\">\\n  <div class=\"question-view-count\">\\n    <div class=\"question-number\">124</div>\\n    <h6>조회</h6>\\n  </div>\\n  <div class=\"question-vote-count\" data-id=\"18162\">\\n    <div class=\"question-number\">0</div>\\n    <h6>좋아요</h6>\\n  </div>\\n  <div class=\"question-answer-count accepted\" data-id=\"18162\">\\n    <div class=\"question-number\">✓1</div>\\n    <h6>답변</h6>\\n  </div>\\n  <div class=\"question\">\\n    <div class=\"top\">\\n      <h4><a href=\"/questions/18162/python-%EC%A0%95%EA%B7%9C%ED%91%9C%ED%98%84%EC%8B%9D%EC%9D%84-%EC%82%AC%EC%9A%A9%ED%95%9C-%ED%8C%A8%ED%84%B4-%EC%B6%94%EC%B6%9C\">Python 정규표현식을 사용한 패턴 추출</a></h4>\\n    </div>\\n\\n      <ul class=\"question-tags\">\\n            <li class=\"label label-tag \">\\n              <a rel=\"tag\" href=\"/questions/tagged/python\">\\n                <span data-tag=\"python\">python</span>\\n</a>            </li>\\n            <li class=\"label label-tag \">\\n              <a rel=\"tag\" href=\"/questions/tagged/regex\">\\n                <span data-tag=\"regex\">regex</span>\\n</a>            </li>\\n      </ul>\\n\\n    <ul class=\"question-info\">\\n        <li class=\"name\"><a title=\"susuk\" href=\"https://community.programmers.co.kr/users/551869/activity\">susuk</a></li>\\n        <li class=\"time\"><time datetime=\"2023-02-22T10:25:28+09:00\">약 2개월 전</time></li>\\n    </ul>\\n  </div>\\n</li>\\n\\n          <li id=\"question-18161\" class=\"question-list-item\">\\n  <div class=\"question-view-count\">\\n    <div class=\"question-number\">107</div>\\n    <h6>조회</h6>\\n  </div>\\n  <div class=\"question-vote-count\" data-id=\"18161\">\\n    <div class=\"question-number\">0</div>\\n    <h6>좋아요</h6>\\n  </div>\\n  <div class=\"question-answer-count \" data-id=\"18161\">\\n    <div class=\"question-number\">0</div>\\n    <h6>답변</h6>\\n  </div>\\n  <div class=\"question\">\\n    <div class=\"top\">\\n      <h4><a href=\"/questions/18161/code-module_not_found-%EC%A2%80-%EB%8F%84%EC%99%80%EC%A3%BC%EC%84%B8%EC%9A%94\"> code: &#39;MODULE_NOT_FOUND&#39; 좀 도와주세요</a></h4>\\n    </div>\\n\\n      <ul class=\"question-tags\">\\n            <li class=\"label label-tag \">\\n              <a rel=\"tag\" href=\"/questions/tagged/node.js\">\\n                <span data-tag=\"node.js\">node.js</span>\\n</a>            </li>\\n      </ul>\\n\\n    <ul class=\"question-info\">\\n        <li class=\"name\"><a title=\"lasco647@gmail.com\" href=\"https://community.programmers.co.kr/users/550579/activity\">lasco647@gmail.com</a></li>\\n        <li class=\"time\"><time datetime=\"2023-02-19T19:47:07+09:00\">약 2개월 전</time></li>\\n    </ul>\\n  </div>\\n</li>\\n\\n          <li id=\"question-18158\" class=\"question-list-item\">\\n  <div class=\"question-view-count\">\\n    <div class=\"question-number\">145</div>\\n    <h6>조회</h6>\\n  </div>\\n  <div class=\"question-vote-count\" data-id=\"18158\">\\n    <div class=\"question-number\">0</div>\\n    <h6>좋아요</h6>\\n  </div>\\n  <div class=\"question-answer-count \" data-id=\"18158\">\\n    <div class=\"question-number\">1</div>\\n    <h6>답변</h6>\\n  </div>\\n  <div class=\"question\">\\n    <div class=\"top\">\\n      <h4><a href=\"/questions/18158/%ED%8C%8C%EC%9D%B4%EC%8D%AC-%EB%8D%B0%EC%9D%B4%ED%84%B0%EB%B2%A0%EC%9D%B4%EC%8A%A4-%EC%A0%80%EC%9E%A5%ED%95%A0%EB%95%8C-%EB%8B%A4%EB%A5%B8%EB%B0%A9%EB%B2%95%EC%97%86%EC%9D%84%EA%B9%8C%EC%9A%94\">파이썬 데이터베이스 저장할때 다른방법없을까요?</a></h4>\\n    </div>\\n\\n      <ul class=\"question-tags\">\\n            <li class=\"label label-tag \">\\n              <a rel=\"tag\" href=\"/questions/tagged/python\">\\n                <span data-tag=\"python\">python</span>\\n</a>            </li>\\n      </ul>\\n\\n    <ul class=\"question-info\">\\n        <li class=\"name\"><a title=\"얼씨고\" href=\"https://community.programmers.co.kr/users/549701/activity\">얼씨고</a></li>\\n        <li class=\"time\"><time datetime=\"2023-02-17T22:51:52+09:00\">2개월 전</time></li>\\n    </ul>\\n  </div>\\n</li>\\n\\n          <li id=\"question-18157\" class=\"question-list-item\">\\n  <div class=\"question-view-count\">\\n    <div class=\"question-number\">219</div>\\n    <h6>조회</h6>\\n  </div>\\n  <div class=\"question-vote-count\" data-id=\"18157\">\\n    <div class=\"question-number\">0</div>\\n    <h6>좋아요</h6>\\n  </div>\\n  <div class=\"question-answer-count accepted\" data-id=\"18157\">\\n    <div class=\"question-number\">✓1</div>\\n    <h6>답변</h6>\\n  </div>\\n  <div class=\"question\">\\n    <div class=\"top\">\\n      <h4><a href=\"/questions/18157/%EC%BD%94%EB%94%A9%ED%85%8C%EC%8A%A4%ED%8A%B8-%EC%B2%AB%EB%B2%88%EC%A7%B8-%ED%8F%B0%EC%BC%93%EB%AA%AC-%EB%AC%B8%EC%A0%9C-%EC%99%9C-%EB%A7%9E%EB%8A%94%EA%B1%B4%EA%B0%80%EC%9A%94\">코딩테스트 첫번째 폰켓몬 문제 왜 맞는건가요?</a></h4>\\n    </div>\\n\\n      <ul class=\"question-tags\">\\n            <li class=\"label label-tag \">\\n              <a rel=\"tag\" href=\"/questions/tagged/python\">\\n                <span data-tag=\"python\">python</span>\\n</a>            </li>\\n            <li class=\"label label-tag \">\\n              <a rel=\"tag\" href=\"/questions/tagged/coding-test\">\\n                <span data-tag=\"coding-test\">coding-test</span>\\n</a>            </li>\\n      </ul>\\n\\n    <ul class=\"question-info\">\\n        <li class=\"name\"><a title=\"김경섭\" href=\"https://community.programmers.co.kr/users/511260/activity\">김경섭</a></li>\\n        <li class=\"time\"><time datetime=\"2023-02-17T16:34:27+09:00\">2개월 전</time></li>\\n    </ul>\\n  </div>\\n</li>\\n\\n          <li id=\"question-18156\" class=\"question-list-item\">\\n  <div class=\"question-view-count\">\\n    <div class=\"question-number\">78</div>\\n    <h6>조회</h6>\\n  </div>\\n  <div class=\"question-vote-count\" data-id=\"18156\">\\n    <div class=\"question-number\">0</div>\\n    <h6>좋아요</h6>\\n  </div>\\n  <div class=\"question-answer-count \" data-id=\"18156\">\\n    <div class=\"question-number\">0</div>\\n    <h6>답변</h6>\\n  </div>\\n  <div class=\"question\">\\n    <div class=\"top\">\\n      <h4><a href=\"/questions/18156/%EC%A2%8B%EC%95%84%EC%9A%94-%ED%95%9C-%EB%AC%B8%EC%A0%9C%EB%A7%8C-%EB%94%B0%EB%A1%9C-%EB%B3%BC-%EC%88%98-%EC%9E%88%EB%82%98%EC%9A%94\">좋아요 한 문제만 따로 볼 수 있나요?</a></h4>\\n    </div>\\n\\n\\n    <ul class=\"question-info\">\\n        <li class=\"name\"><a title=\"공부\" href=\"https://community.programmers.co.kr/users/547133/activity\">공부</a></li>\\n        <li class=\"time\"><time datetime=\"2023-02-17T14:22:33+09:00\">2개월 전</time></li>\\n    </ul>\\n  </div>\\n</li>\\n\\n          <li id=\"question-18155\" class=\"question-list-item\">\\n  <div class=\"question-view-count\">\\n    <div class=\"question-number\">159</div>\\n    <h6>조회</h6>\\n  </div>\\n  <div class=\"question-vote-count\" data-id=\"18155\">\\n    <div class=\"question-number\">0</div>\\n    <h6>좋아요</h6>\\n  </div>\\n  <div class=\"question-answer-count \" data-id=\"18155\">\\n    <div class=\"question-number\">1</div>\\n    <h6>답변</h6>\\n  </div>\\n  <div class=\"question\">\\n    <div class=\"top\">\\n      <h4><a href=\"/questions/18155/%EB%A9%80%ED%8B%B0%ED%94%84%EB%A1%9C%EC%84%B8%EC%8B%B1-%ED%94%84%EB%A1%9C%EA%B7%B8%EB%9E%A8-%EC%8B%A4%ED%96%89%EC%8B%9C-%EC%88%98%EC%8B%AD%EA%B0%9C%EC%9D%98-%ED%94%84%EB%A1%9C%EA%B7%B8%EB%9E%A8%EC%9D%B4-%EC%8B%A4%ED%96%89%EB%90%A9%EB%8B%88%EB%8B%A4\">멀티프로세싱 프로그램 실행시 수십개의 프로그램이 실행됩니다.</a></h4>\\n    </div>\\n\\n      <ul class=\"question-tags\">\\n            <li class=\"label label-tag \">\\n              <a rel=\"tag\" href=\"/questions/tagged/multiprocessing\">\\n                <span data-tag=\"multiprocessing\">multiprocessing</span>\\n</a>            </li>\\n            <li class=\"label label-tag \">\\n              <a rel=\"tag\" href=\"/questions/tagged/python\">\\n                <span data-tag=\"python\">python</span>\\n</a>            </li>\\n            <li class=\"label label-tag \">\\n              <a rel=\"tag\" href=\"/questions/tagged/pygame\">\\n                <span data-tag=\"pygame\">pygame</span>\\n</a>            </li>\\n      </ul>\\n\\n    <ul class=\"question-info\">\\n        <li class=\"name\"><a href=\"https://community.programmers.co.kr/users/deleted/activity\">알 수 없는 사용자</a></li>\\n        <li class=\"time\"><time datetime=\"2023-02-17T01:40:25+09:00\">2개월 전</time></li>\\n    </ul>\\n  </div>\\n</li>\\n\\n          <li id=\"question-18153\" class=\"question-list-item\">\\n  <div class=\"question-view-count\">\\n    <div class=\"question-number\">118</div>\\n    <h6>조회</h6>\\n  </div>\\n  <div class=\"question-vote-count\" data-id=\"18153\">\\n    <div class=\"question-number\">0</div>\\n    <h6>좋아요</h6>\\n  </div>\\n  <div class=\"question-answer-count accepted\" data-id=\"18153\">\\n    <div class=\"question-number\">✓1</div>\\n    <h6>답변</h6>\\n  </div>\\n  <div class=\"question\">\\n    <div class=\"top\">\\n      <h4><a href=\"/questions/18153/c%EC%96%B8%EC%96%B4-%EC%99%9C-%EC%86%8C%EC%88%98%EC%A0%90%EC%9D%84-%EB%84%A3%EC%96%B4%EC%95%BC-%EA%B2%B0%EA%B3%BC%EA%B0%80-%EB%82%98%EC%98%A4%EB%82%98\">c언어 왜 소수점을 넣어야 결과가 나오나</a></h4>\\n    </div>\\n\\n      <ul class=\"question-tags\">\\n            <li class=\"label label-tag \">\\n              <a rel=\"tag\" href=\"/questions/tagged/c\">\\n                <span data-tag=\"c\">c</span>\\n</a>            </li>\\n      </ul>\\n\\n    <ul class=\"question-info\">\\n        <li class=\"name\"><a title=\"헉이 \" href=\"https://community.programmers.co.kr/users/547419/activity\">헉이 </a></li>\\n        <li class=\"time\"><time datetime=\"2023-02-16T19:28:19+09:00\">2개월 전</time></li>\\n    </ul>\\n  </div>\\n</li>\\n\\n          <li id=\"question-18152\" class=\"question-list-item\">\\n  <div class=\"question-view-count\">\\n    <div class=\"question-number\">150</div>\\n    <h6>조회</h6>\\n  </div>\\n  <div class=\"question-vote-count\" data-id=\"18152\">\\n    <div class=\"question-number\">0</div>\\n    <h6>좋아요</h6>\\n  </div>\\n  <div class=\"question-answer-count \" data-id=\"18152\">\\n    <div class=\"question-number\">1</div>\\n    <h6>답변</h6>\\n  </div>\\n  <div class=\"question\">\\n    <div class=\"top\">\\n      <h4><a href=\"/questions/18152/html-%EC%A0%84%ED%98%80-%EB%AA%A8%EB%A5%B4%EB%8A%94%EB%8D%B0%EC%9A%94\">HTML 전혀 모르는데요</a></h4>\\n    </div>\\n\\n      <ul class=\"question-tags\">\\n            <li class=\"label label-tag \">\\n              <a rel=\"tag\" href=\"/questions/tagged/html\">\\n                <span data-tag=\"html\">html</span>\\n</a>            </li>\\n            <li class=\"label label-tag \">\\n              <a rel=\"tag\" href=\"/questions/tagged/javascript\">\\n                <span data-tag=\"javascript\">javascript</span>\\n</a>            </li>\\n            <li class=\"label label-tag \">\\n              <a rel=\"tag\" href=\"/questions/tagged/css\">\\n                <span data-tag=\"css\">css</span>\\n</a>            </li>\\n      </ul>\\n\\n    <ul class=\"question-info\">\\n        <li class=\"name\"><a title=\"서현호\" href=\"https://community.programmers.co.kr/users/523254/activity\">서현호</a></li>\\n        <li class=\"time\"><time datetime=\"2023-02-16T07:37:22+09:00\">2개월 전</time></li>\\n    </ul>\\n  </div>\\n</li>\\n\\n          <li id=\"question-18151\" class=\"question-list-item\">\\n  <div class=\"question-view-count\">\\n    <div class=\"question-number\">107</div>\\n    <h6>조회</h6>\\n  </div>\\n  <div class=\"question-vote-count\" data-id=\"18151\">\\n    <div class=\"question-number\">0</div>\\n    <h6>좋아요</h6>\\n  </div>\\n  <div class=\"question-answer-count \" data-id=\"18151\">\\n    <div class=\"question-number\">1</div>\\n    <h6>답변</h6>\\n  </div>\\n  <div class=\"question\">\\n    <div class=\"top\">\\n      <h4><a href=\"/questions/18151/qr%EC%BD%94%EB%93%9C%EB%A7%8C-%EC%9D%B4%EC%9A%A9%ED%95%B4%EC%84%9C-%EC%95%B1-%EA%B0%9C%EB%B0%9C%EC%9D%84-%ED%95%98%EB%A9%B4-%EB%A7%8E%EC%9D%B4-%ED%9E%98%EB%93%A4%EA%B9%8C%EC%9A%94\">QR코드만 이용해서 앱 개발을 하면 많이 힘들까요?</a></h4>\\n    </div>\\n\\n      <ul class=\"question-tags\">\\n            <li class=\"label label-tag \">\\n              <a rel=\"tag\" href=\"/questions/tagged/application-development\">\\n                <span data-tag=\"application-development\">application-development</span>\\n</a>            </li>\\n      </ul>\\n\\n    <ul class=\"question-info\">\\n        <li class=\"name\"><a title=\"tjdvyzl\" href=\"https://community.programmers.co.kr/users/313972/activity\">tjdvyzl</a></li>\\n        <li class=\"time\"><time datetime=\"2023-02-16T01:32:55+09:00\">2개월 전</time></li>\\n    </ul>\\n  </div>\\n</li>\\n\\n          <li id=\"question-18149\" class=\"question-list-item\">\\n  <div class=\"question-view-count\">\\n    <div class=\"question-number\">93</div>\\n    <h6>조회</h6>\\n  </div>\\n  <div class=\"question-vote-count\" data-id=\"18149\">\\n    <div class=\"question-number\">0</div>\\n    <h6>좋아요</h6>\\n  </div>\\n  <div class=\"question-answer-count \" data-id=\"18149\">\\n    <div class=\"question-number\">2</div>\\n    <h6>답변</h6>\\n  </div>\\n  <div class=\"question\">\\n    <div class=\"top\">\\n      <h4><a href=\"/questions/18149/%EC%83%9D%EC%B4%88%EB%B3%B4-%ED%8C%8C%EC%9D%B4%EC%8D%AC-%EB%A7%A4%EA%B0%9C%EB%B3%80%EC%88%98%EC%9D%98-%EA%B0%9C%EC%88%98\">(생초보) 파이썬 *매개변수의 개수</a></h4>\\n    </div>\\n\\n      <ul class=\"question-tags\">\\n            <li class=\"label label-tag \">\\n              <a rel=\"tag\" href=\"/questions/tagged/python\">\\n                <span data-tag=\"python\">python</span>\\n</a>            </li>\\n      </ul>\\n\\n    <ul class=\"question-info\">\\n        <li class=\"name\"><a title=\"idontknow\" href=\"https://community.programmers.co.kr/users/548171/activity\">idontknow</a></li>\\n        <li class=\"time\"><time datetime=\"2023-02-15T17:38:22+09:00\">2개월 전</time></li>\\n    </ul>\\n  </div>\\n</li>\\n\\n          <li id=\"question-18148\" class=\"question-list-item\">\\n  <div class=\"question-view-count\">\\n    <div class=\"question-number\">88</div>\\n    <h6>조회</h6>\\n  </div>\\n  <div class=\"question-vote-count\" data-id=\"18148\">\\n    <div class=\"question-number\">0</div>\\n    <h6>좋아요</h6>\\n  </div>\\n  <div class=\"question-answer-count \" data-id=\"18148\">\\n    <div class=\"question-number\">1</div>\\n    <h6>답변</h6>\\n  </div>\\n  <div class=\"question\">\\n    <div class=\"top\">\\n      <h4><a href=\"/questions/18148/%EB%A1%9C%EC%A7%80%EC%8A%A4%ED%8B%B1-%ED%9A%8C%EA%B7%80\">로지스틱 회귀</a></h4>\\n    </div>\\n\\n      <ul class=\"question-tags\">\\n            <li class=\"label label-tag \">\\n              <a rel=\"tag\" href=\"/questions/tagged/logistic-regression\">\\n                <span data-tag=\"logistic-regression\">logistic-regression</span>\\n</a>            </li>\\n            <li class=\"label label-tag \">\\n              <a rel=\"tag\" href=\"/questions/tagged/logistic\">\\n                <span data-tag=\"logistic\">logistic</span>\\n</a>            </li>\\n      </ul>\\n\\n    <ul class=\"question-info\">\\n        <li class=\"name\"><a title=\"김인영\" href=\"https://community.programmers.co.kr/users/316383/activity\">김인영</a></li>\\n        <li class=\"time\"><time datetime=\"2023-02-15T01:25:07+09:00\">2개월 전</time></li>\\n    </ul>\\n  </div>\\n</li>\\n\\n      </ul>\\n      <nav role=\"navigation\" class=\"\"><ul class=\"pagination\"><li class=\"prev previous_page disabled page-item\"><a class=\"page-link\" href=\"#\">이전</a></li> <li class=\"active page-item\"><a class=\"page-link\" href=\"/?User-Agent=Mozilla%2F5.0+%28Macintosh%3B+Intel+Mac+OS+X+10_15_4%29+AppleWebKit%2F537.36+%28KHTML%2C+like+Gecko%29+Chrome%2F83.0.4103.97+Safari%2F537.36&amp;page=1\">1</a></li> <li class=\"page-item\"><a rel=\"next\" class=\"page-link\" href=\"/?User-Agent=Mozilla%2F5.0+%28Macintosh%3B+Intel+Mac+OS+X+10_15_4%29+AppleWebKit%2F537.36+%28KHTML%2C+like+Gecko%29+Chrome%2F83.0.4103.97+Safari%2F537.36&amp;page=2\">2</a></li> <li class=\"page-item\"><a class=\"page-link\" href=\"/?User-Agent=Mozilla%2F5.0+%28Macintosh%3B+Intel+Mac+OS+X+10_15_4%29+AppleWebKit%2F537.36+%28KHTML%2C+like+Gecko%29+Chrome%2F83.0.4103.97+Safari%2F537.36&amp;page=3\">3</a></li> <li class=\"page-item\"><a class=\"page-link\" href=\"/?User-Agent=Mozilla%2F5.0+%28Macintosh%3B+Intel+Mac+OS+X+10_15_4%29+AppleWebKit%2F537.36+%28KHTML%2C+like+Gecko%29+Chrome%2F83.0.4103.97+Safari%2F537.36&amp;page=4\">4</a></li> <li class=\"page-item\"><a class=\"page-link\" href=\"/?User-Agent=Mozilla%2F5.0+%28Macintosh%3B+Intel+Mac+OS+X+10_15_4%29+AppleWebKit%2F537.36+%28KHTML%2C+like+Gecko%29+Chrome%2F83.0.4103.97+Safari%2F537.36&amp;page=5\">5</a></li> <li class=\"page-item disabled\"><a class=\"page-link\" href=\"#\">&hellip;</a></li> <li class=\"page-item\"><a class=\"page-link\" href=\"/?User-Agent=Mozilla%2F5.0+%28Macintosh%3B+Intel+Mac+OS+X+10_15_4%29+AppleWebKit%2F537.36+%28KHTML%2C+like+Gecko%29+Chrome%2F83.0.4103.97+Safari%2F537.36&amp;page=244\">244</a></li> <li class=\"next next_page  page-item\"><a class=\"page-link\" rel=\"next\" href=\"/?User-Agent=Mozilla%2F5.0+%28Macintosh%3B+Intel+Mac+OS+X+10_15_4%29+AppleWebKit%2F537.36+%28KHTML%2C+like+Gecko%29+Chrome%2F83.0.4103.97+Safari%2F537.36&amp;page=2\">다음</a></li></ul></nav>\\n    </div>\\n\\n    <div class=\"right\">\\n      \\n\\n      <div class=\"leaders\">\\n  <div class=\"leaders-header\">\\n    <div class=\"title\">\\n      <a class=\"info\" href=\"/hall_of_fame\">명예의 전당</a>\\n      <span class=\"hc-icons-ranking-guide\" data-trigger=\"hover\" data-toggle=\"popover-ranking\" data-tabindex=\"1\" data-placement=\"bottom\">javascript:;</span>\\n    </div>\\n\\n    <ul class=\"nav nav-tabs\" id=\"tab\" role=\"tablist\">\\n      <li class=\"nav-item\">\\n        <a href=\"#total\" class=\"nav-link active\" data-toggle=\"tab\" data-tab-history=\"true\" role=\"tab\"\\n           data-tab-history-changer=\"push\"\\n           data-tab-history-update-url=\"true\">종합</a>\\n      </li>\\n      <li class=\"nav-item\">\\n        <a href=\"#weekly\" class=\"nav-link\" data-toggle=\"tab\" data-tab-history=\"true\" role=\"tab\"\\n           data-tab-history-changer=\"push\"\\n           data-tab-history-update-url=\"true\">최근 7일</a>\\n      </li>\\n    </ul>\\n  </div>\\n\\n  <div class=\"tab-content\">\\n    <div id=\"weekly\" class=\"tab-pane fade\" role=\"tabpanel\">\\n      <div class=\"inspection-wrap\">\\n      <img width=\"186\" height=\"160\" src=\"/assets/img-frame-35af8ed9d8e8a5700c26abda1b1666ed6e95d1135cacd89830a39cebc99cdef7.png\" />\\n      <p>해당 기능은 점검 중에 있어요.</p>\\n      </div>\\n      <ul class=\"leaders-content\">\\n      </ul>\\n    </div>\\n\\n    <div id=\"total\" class=\"tab-pane fade in active\" role=\"tabpanel\">\\n      <ul class=\"leaders-content\">\\n          <li>\\n            <h5 class=\"leader-rank\">1</h5>\\n            <a title=\"정영훈\" href=\"https://community.programmers.co.kr/users/5760/activity\"><img alt=\"정영훈\" class=\"leader-image\" src=\"https://res.cloudinary.com/eightcruz/image/fetch/c_lfill,h_32,w_32/https://avatars.githubusercontent.com/u/12976157%3Fv%3D3\" /></a>\\n            <div class=\"leader-info\">\\n                <a href=\"https://community.programmers.co.kr/users/5760/activity\">\\n                  <h6 class=\"leader-name\">정영훈</h6>\\n                  <h6 class=\"leader-score\">15,689</h6>\\n</a>              <h6 class=\"leader-tags\">\\n                <a href=\"/questions/tagged/python\">python</a>, <a href=\"/questions/tagged/java\">java</a>, <a href=\"/questions/tagged/c\">c</a>\\n              </h6>\\n            </div>\\n          </li>\\n          <li>\\n            <h5 class=\"leader-rank\">2</h5>\\n            <a title=\"엽토군\" href=\"https://community.programmers.co.kr/users/81197/activity\"><img alt=\"엽토군\" class=\"leader-image\" src=\"https://res.cloudinary.com/eightcruz/image/fetch/c_lfill,h_32,w_32/https://avatars1.githubusercontent.com/u/6017662%3Fv%3D4\" /></a>\\n            <div class=\"leader-info\">\\n                <a href=\"https://community.programmers.co.kr/users/81197/activity\">\\n                  <h6 class=\"leader-name\">엽토군</h6>\\n                  <h6 class=\"leader-score\">9,893</h6>\\n</a>              <h6 class=\"leader-tags\">\\n                <a href=\"/questions/tagged/python\">python</a>, <a href=\"/questions/tagged/javascript\">javascript</a>, <a href=\"/questions/tagged/html\">html</a>\\n              </h6>\\n            </div>\\n          </li>\\n          <li>\\n            <h5 class=\"leader-rank\">3</h5>\\n            <a title=\"nowp\" href=\"https://community.programmers.co.kr/users/4702/activity\"><img alt=\"nowp\" class=\"leader-image\" src=\"https://res.cloudinary.com/eightcruz/image/upload/c_lfill,h_32,w_32/bbmweev1ywwdh2iljluc\" /></a>\\n            <div class=\"leader-info\">\\n                <a href=\"https://community.programmers.co.kr/users/4702/activity\">\\n                  <h6 class=\"leader-name\">nowp</h6>\\n                  <h6 class=\"leader-score\">9,186</h6>\\n</a>              <h6 class=\"leader-tags\">\\n                <a href=\"/questions/tagged/python\">python</a>, <a href=\"/questions/tagged/pandas\">pandas</a>, <a href=\"/questions/tagged/list\">list</a>\\n              </h6>\\n            </div>\\n          </li>\\n          <li>\\n            <h5 class=\"leader-rank\">4</h5>\\n            <a title=\"정토드\" href=\"https://community.programmers.co.kr/users/25/activity\"><img alt=\"정토드\" class=\"leader-image\" src=\"https://res.cloudinary.com/eightcruz/image/upload/c_lfill,h_32,w_32/jkgqzb6ml2g9zczfrnhj\" /></a>\\n            <div class=\"leader-info\">\\n                <a href=\"https://community.programmers.co.kr/users/25/activity\">\\n                  <h6 class=\"leader-name\">정토드</h6>\\n                  <h6 class=\"leader-score\">5,576</h6>\\n</a>              <h6 class=\"leader-tags\">\\n                <a href=\"/questions/tagged/python\">python</a>, <a href=\"/questions/tagged/django\">django</a>, <a href=\"/questions/tagged/android\">android</a>\\n              </h6>\\n            </div>\\n          </li>\\n          <li>\\n            <h5 class=\"leader-rank\">5</h5>\\n            <a title=\"허대영(소프트웨어융합대학)\" href=\"https://community.programmers.co.kr/users/4584/activity\"><img alt=\"허대영(소프트웨어융합대학)\" class=\"leader-image\" src=\"https://res.cloudinary.com/eightcruz/image/upload/c_lfill,h_32,w_32/vqhpcfp5cepgtbqgwcwv\" /></a>\\n            <div class=\"leader-info\">\\n                <a href=\"https://community.programmers.co.kr/users/4584/activity\">\\n                  <h6 class=\"leader-name\">허대영(소프트웨어융합대학)</h6>\\n                  <h6 class=\"leader-score\">4,723</h6>\\n</a>              <h6 class=\"leader-tags\">\\n                <a href=\"/questions/tagged/java\">java</a>, <a href=\"/questions/tagged/android\">android</a>, <a href=\"/questions/tagged/mysql\">mysql</a>\\n              </h6>\\n            </div>\\n          </li>\\n          <li>\\n            <h5 class=\"leader-rank\">6</h5>\\n            <a title=\"cheolsu\" href=\"https://community.programmers.co.kr/users/217293/activity\"><img alt=\"cheolsu\" class=\"leader-image\" src=\"https://res.cloudinary.com/eightcruz/image/upload/c_lfill,h_32,w_32/wbacpfydjhpra5xtc0iy\" /></a>\\n            <div class=\"leader-info\">\\n                <a href=\"https://community.programmers.co.kr/users/217293/activity\">\\n                  <h6 class=\"leader-name\">cheolsu</h6>\\n                  <h6 class=\"leader-score\">4,365</h6>\\n</a>              <h6 class=\"leader-tags\">\\n                <a href=\"/questions/tagged/c\">c</a>, <a href=\"/questions/tagged/c++\">c++</a>, <a href=\"/questions/tagged/python\">python</a>\\n              </h6>\\n            </div>\\n          </li>\\n          <li>\\n            <h5 class=\"leader-rank\">7</h5>\\n            <a title=\"편집요청빌런\" href=\"https://community.programmers.co.kr/users/5279/activity\"><img alt=\"편집요청빌런\" class=\"leader-image\" src=\"https://res.cloudinary.com/eightcruz/image/upload/c_lfill,h_32,w_32/gpnje6tbiwjvqsdbfd4t\" /></a>\\n            <div class=\"leader-info\">\\n                <a href=\"https://community.programmers.co.kr/users/5279/activity\">\\n                  <h6 class=\"leader-name\">편집요청빌런</h6>\\n                  <h6 class=\"leader-score\">3,226</h6>\\n</a>              <h6 class=\"leader-tags\">\\n                <a href=\"/questions/tagged/javascript\">javascript</a>, <a href=\"/questions/tagged/python\">python</a>, <a href=\"/questions/tagged/java\">java</a>\\n              </h6>\\n            </div>\\n          </li>\\n          <li>\\n            <h5 class=\"leader-rank\">8</h5>\\n            \\n            <div class=\"leader-info\">\\n                <a href=\"https://community.programmers.co.kr/users/91022/activity\">\\n                  <h6 class=\"leader-name\">알 수 없는 사용자</h6>\\n                  <h6 class=\"leader-score\">2,793</h6>\\n</a>              <h6 class=\"leader-tags\">\\n                <a href=\"/questions/tagged/javascript\">javascript</a>, <a href=\"/questions/tagged/python\">python</a>, <a href=\"/questions/tagged/jquery\">jquery</a>\\n              </h6>\\n            </div>\\n          </li>\\n          <li>\\n            <h5 class=\"leader-rank\">9</h5>\\n            <a title=\"김선우\" href=\"https://community.programmers.co.kr/users/4681/activity\"><img alt=\"김선우\" class=\"leader-image\" src=\"https://res.cloudinary.com/eightcruz/image/upload/c_lfill,h_32,w_32/cyr8j1mboep1fa75vkot\" /></a>\\n            <div class=\"leader-info\">\\n                <a href=\"https://community.programmers.co.kr/users/4681/activity\">\\n                  <h6 class=\"leader-name\">김선우</h6>\\n                  <h6 class=\"leader-score\">2,444</h6>\\n</a>              <h6 class=\"leader-tags\">\\n                <a href=\"/questions/tagged/java\">java</a>, <a href=\"/questions/tagged/android\">android</a>, <a href=\"/questions/tagged/python\">python</a>\\n              </h6>\\n            </div>\\n          </li>\\n          <li>\\n            <h5 class=\"leader-rank\">10</h5>\\n            <a title=\"유동욱\" href=\"https://community.programmers.co.kr/users/5339/activity\"><img alt=\"유동욱\" class=\"leader-image\" src=\"https://res.cloudinary.com/eightcruz/image/upload/c_lfill,h_32,w_32/default_profile_img2_h16rrd\" /></a>\\n            <div class=\"leader-info\">\\n                <a href=\"https://community.programmers.co.kr/users/5339/activity\">\\n                  <h6 class=\"leader-name\">유동욱</h6>\\n                  <h6 class=\"leader-score\">2,118</h6>\\n</a>              <h6 class=\"leader-tags\">\\n                <a href=\"/questions/tagged/c++\">c++</a>, <a href=\"/questions/tagged/python\">python</a>, <a href=\"/questions/tagged/c\">c</a>\\n              </h6>\\n            </div>\\n          </li>\\n      </ul>\\n    </div>\\n  </div>\\n</div>\\n<div class=\"popover-body\" id=\"popover-content-ranking\" style=\"display:none;\">\\n\\n  <div class=\"popover-body\">\\n    <h1 class=\"title\">(⌐■_■)<br>점수 산정 기준</h1>\\n    <ul>\\n      <li><span>+5점 :</span>내 질문에 좋아요가 달림.</li>\\n      <li><span>+5점 :</span>내 질문에 달린 답변을 채택함.</li>\\n      <li><span>+10점 :</span>내가 올린 답변에 좋아요가 달림.</li>\\n      <li><span>+15점 :</span>내가 올린 답변이 채택됨.</li>\\n      <li><span>+2점 :</span>내가 올린 편집 요청이 반영됨.</li>\\n      <li><span>-1점 :</span>내가 다른 사람의 질문/답변에 싫어요를 누름.</li>\\n      <li><span>+2점 :</span>내가 싫어요를 누른 질문이나 답변의 좋아요 점수가 0보다 작음.</li>\\n    </ul>\\n  </div>\\n</div>\\n\\n    </div>\\n  </div>\\n\\n</div>\\n\\n</div>\\n\\n<div id=\"main-app-gnb-footer\" data-edu-component=\"footer\"></div>\\n\\n\\n<div class=\"modal fade\" id=\"modal-dialog\" tabindex=\"-1\" role=\"dialog\" aria-labelledby=\"exampleModalLabel\" aria-hidden=\"true\"></div>\\n\\n  <div class=\"modal fade\" id=\"modal-require-login\" tabindex=\"-1\" role=\"dialog\" aria-hidden=\"true\">\\n  <div class=\"modal-dialog\" role=\"document\">\\n    <div class=\"modal-content\">\\n      <div class=\"modal-header\">\\n        <button type=\"button\" class=\"close\" data-dismiss=\"modal\" aria-label=\"Close\">\\n          <span aria-hidden=\"true\">&times;</span>\\n        </button>\\n        <h3 class=\"modal-title\">로그인이 필요합니다.</h3>\\n      </div>\\n      <div class=\"modal-body\">\\n        로그인하시겠습니까?\\n      </div>\\n      <div class=\"modal-footer\">\\n        <button type=\"button\" class=\"btn btn-default\" data-dismiss=\"modal\">취소</button>\\n        <a class=\"btn btn-primary\" href=\"/users/login\">로그인하기</a>\\n      </div>\\n    </div>\\n  </div>\\n</div>\\n<script src=\"/assets/application-142d31dac878a58281e5a9a74d0453d61757119491ce4c22ff9d67bfed6b82ed.js\"></script>\\n  <script type=\"text/javascript\">\\n    window.SENTRY_RELEASE = \"6e4e34ca5c64332545eddb11e9cdf15559e02b32\"\\n    Sentry.init({\\n      environment: \"production\",\\n      dsn: \"https://781694c5923248588e10a8dcc2bdc07d@o1070092.ingest.sentry.io/6158165\",\\n      integrations: [new Sentry.Integrations.BrowserTracing()],\\n      // Set tracesSampleRate to 1.0 to capture 100%\\n      // of transactions for performance monitoring.\\n      // We recommend adjusting this value in production\\n      tracesSampleRate: 0.002,\\n      release: window.SENTRY_RELEASE,\\n    });\\n  </script>\\n\\n\\n<script src=\"//widget.cloudinary.com/global/all.js\" type=\"text/javascript\">\\n  cloudinary.setCloudName(\\'eightcruz\\');\\n</script>\\n\\n<script src=\"//cdnjs.cloudflare.com/ajax/libs/highlight.js/9.1.0/highlight.min.js\"></script>\\n\\n\\n\\n<noscript>\\n  이 사이트의 기능을 모두 활용하기 위해서는 자바스크립트를 활성화 시킬 필요가 있습니다.\\n  <a href=\"http://www.enable-javascript.com/ko/\" target=\"_blank\">\\n    브라우저에서 자바스크립트를 활성화하는 방법</a>을 참고 하세요.\\n</noscript>\\n\\n<noscript><iframe src=\"https://www.googletagmanager.com/ns.html?id=GTM-NT8HLJD\" height=\"0\" width=\"0\" style=\"display:none;visibility:hidden\"></iframe></noscript>\\n\\n</body>\\n</html>\\n'"
            ],
            "application/vnd.google.colaboratory.intrinsic+json": {
              "type": "string"
            }
          },
          "metadata": {},
          "execution_count": 60
        }
      ],
      "source": [
        "# 필요한 라이브러리를 불러온 후, 요청을 진행해봅시다.\n",
        "import requests\n",
        "from bs4 import BeautifulSoup\n",
        "\n",
        "res = requests.get(\"https://hashcode.co.kr/\", user_agent) # user-gent 포함해서 실행함\n",
        "res.text\n"
      ],
      "id": "F5k786YBegXm"
    },
    {
      "cell_type": "code",
      "execution_count": 61,
      "metadata": {
        "id": "cdd3635e"
      },
      "outputs": [],
      "source": [
        "# 응답을 바탕으로 BeautifulSoup 객체를 생성해봅시다.\n",
        "\n",
        "soup = BeautifulSoup(res.text, \"html.parser\")"
      ],
      "id": "cdd3635e"
    },
    {
      "cell_type": "code",
      "execution_count": 63,
      "metadata": {
        "id": "c1eec3c8",
        "colab": {
          "base_uri": "https://localhost:8080/"
        },
        "outputId": "61fcb842-b063-4ae3-c014-f02819191558"
      },
      "outputs": [
        {
          "output_type": "stream",
          "name": "stdout",
          "text": [
            "파이썬 프로젝트 중 오류\n",
            "구조체 사용하여 다항식의 덧셈 구현하는 문제\n",
            "Fourier transform 된 사진파일의 HPF 코으\n",
            "다시 매개변수화되어야 하는 매개변수화된 메서드 작성\n",
            "파이썬 간단한 별그리기 질문\n",
            "Java 홀수 혹은 짝수의 합 구하는 프로그램 질문\n",
            "c언어 마름모 출력 프로그램\n",
            "컴퓨터 시간을 기준으로 자동으로 그 시간이 되면 제가 설정한 문구를 타이핑 할 수 있게 만드는데 잘 작동하지 않습니다\n",
            "4종류의 강아지를 분류하는 코드로 다람쥐와 청설모를 분류하는 코드를 만들었습니다. 이미지 파일만 다람쥐 파일로 바꿨는데 거의 마지막에 KeyError가 발생.\n",
            "가변인자..... 평균값 아직 초보라 아예 모르겠습니다. 식 알려주시ㅣ면 식으로 공부 하겠습니다 한번만 좀 알려주세요 ㅠㅠㅠ\n",
            "파이썬 가변인자 * 를 사용하는 get_average_score 함수 구현하기\n",
            "판다스 데이터프레임 합치기 질문\n",
            "C언어 헤더파일에서 int& x를 어떻게 사용해야 하는지 모르겠습니다.\n",
            "오브젝트가 오른쪽에 있는지 왼쪽에 있는지 판별\n",
            "Android Java 휴대폰에서 동영상 재생 중 전원을 꺼도 동영상 재생이 일시 중지되지 않습니다.\n",
            "파이썬 반복분 출력\n",
            "자바 기초 코딩 더 깔끔하게 고칠수있을까요?\n",
            "페이징 코드좀 만들어주세요\n",
            "파이썬 코드 질문\n",
            "matplotlib 으로 막대그래프와 선그래프 그리기\n",
            "파이썬 연결 리스트 질문드립니다.\n",
            "공백삭제 관련질문드립니다\n",
            "[Pandas] dataframe for문으로 여러개 만들기.\n",
            "ai와 겨루는 3*3 틱텍토 게임 구현 코드를 짜는 중에 오류가 생겼습니다.\n",
            "GUI 구성 시 엔진 부분과 GUI 부분을 분리하는 철학, 방식, 메소드에 관한 조언 \n",
            "자바 객체선언 오류 질문입니다!\n",
            "파이썬 간단한 코드 질문\n",
            "'''로 주석으로 만들었는데 왜 주석을 지우지 않으면 유니코드오류가 왜 나는지 모르겠어여\n",
            "#define 상수 선언떄\n",
            "우분투 vmware 가상머신 오류\n",
            "파이썬 멀티스레딩 질문\n",
            "파이썬 엑셀 파일 읽기\n",
            "머쓱이 스탬프 할때 답보기요\n",
            "BFS를 사용해도 무관한지 궁금합니다!\n",
            "C# 백준 25206 문제 뭐가 문제인지 확인시켜줄 고수분 \n",
            "python 제너레이터화\n",
            "리액트 쿼리에서 useQuery를 어떻게 사용해야하나요\n",
            "html/javascript 로 node.js통해서 아두이노 통신관련\n",
            "Binary search tree\n",
            "Python 정규표현식을 사용한 패턴 추출\n",
            " code: 'MODULE_NOT_FOUND' 좀 도와주세요\n",
            "파이썬 데이터베이스 저장할때 다른방법없을까요?\n",
            "코딩테스트 첫번째 폰켓몬 문제 왜 맞는건가요?\n",
            "좋아요 한 문제만 따로 볼 수 있나요?\n",
            "멀티프로세싱 프로그램 실행시 수십개의 프로그램이 실행됩니다.\n",
            "c언어 왜 소수점을 넣어야 결과가 나오나\n",
            "HTML 전혀 모르는데요\n",
            "QR코드만 이용해서 앱 개발을 하면 많이 힘들까요?\n",
            "(생초보) 파이썬 *매개변수의 개수\n",
            "로지스틱 회귀\n"
          ]
        }
      ],
      "source": [
        "# 질문의 빈도를 체크하는 dict를 만든 후, 빈도를 체크해봅시다.\n",
        "questions = soup.find_all(\"li\", \"question-list-item\")\n",
        "for question in questions: \n",
        "  print(question.find(\"div\",\"question\").find(\"div\",\"top\").h4.text)"
      ],
      "id": "c1eec3c8"
    },
    {
      "cell_type": "markdown",
      "metadata": {
        "id": "ef3de62a"
      },
      "source": [
        "### Bonus: 페이지네이션(Pagination)\n",
        "\n",
        "페이지네이션은 많은 정보를 인덱스로 구분하는 기법입니다.  \n",
        "저희가 진행하고 있는 사이트는 Query String을 통해서 이를 구분하는데요,  \n",
        "이를 감안해서 다시 한번 진행해봅시다.\n",
        "\n",
        "`https://hashcode.co.kr/?page={i}`"
      ],
      "id": "ef3de62a"
    },
    {
      "cell_type": "code",
      "execution_count": 65,
      "metadata": {
        "id": "eed63c8f",
        "colab": {
          "base_uri": "https://localhost:8080/"
        },
        "outputId": "62f41364-53c5-4651-d560-9a37b96fb80f"
      },
      "outputs": [
        {
          "output_type": "stream",
          "name": "stdout",
          "text": [
            "파이썬 프로젝트 중 오류\n",
            "구조체 사용하여 다항식의 덧셈 구현하는 문제\n",
            "Fourier transform 된 사진파일의 HPF 코으\n",
            "다시 매개변수화되어야 하는 매개변수화된 메서드 작성\n",
            "파이썬 간단한 별그리기 질문\n",
            "Java 홀수 혹은 짝수의 합 구하는 프로그램 질문\n",
            "c언어 마름모 출력 프로그램\n",
            "컴퓨터 시간을 기준으로 자동으로 그 시간이 되면 제가 설정한 문구를 타이핑 할 수 있게 만드는데 잘 작동하지 않습니다\n",
            "4종류의 강아지를 분류하는 코드로 다람쥐와 청설모를 분류하는 코드를 만들었습니다. 이미지 파일만 다람쥐 파일로 바꿨는데 거의 마지막에 KeyError가 발생.\n",
            "가변인자..... 평균값 아직 초보라 아예 모르겠습니다. 식 알려주시ㅣ면 식으로 공부 하겠습니다 한번만 좀 알려주세요 ㅠㅠㅠ\n",
            "파이썬 가변인자 * 를 사용하는 get_average_score 함수 구현하기\n",
            "판다스 데이터프레임 합치기 질문\n",
            "C언어 헤더파일에서 int& x를 어떻게 사용해야 하는지 모르겠습니다.\n",
            "오브젝트가 오른쪽에 있는지 왼쪽에 있는지 판별\n",
            "Android Java 휴대폰에서 동영상 재생 중 전원을 꺼도 동영상 재생이 일시 중지되지 않습니다.\n",
            "파이썬 반복분 출력\n",
            "자바 기초 코딩 더 깔끔하게 고칠수있을까요?\n",
            "페이징 코드좀 만들어주세요\n",
            "파이썬 코드 질문\n",
            "matplotlib 으로 막대그래프와 선그래프 그리기\n",
            "파이썬 연결 리스트 질문드립니다.\n",
            "공백삭제 관련질문드립니다\n",
            "[Pandas] dataframe for문으로 여러개 만들기.\n",
            "ai와 겨루는 3*3 틱텍토 게임 구현 코드를 짜는 중에 오류가 생겼습니다.\n",
            "GUI 구성 시 엔진 부분과 GUI 부분을 분리하는 철학, 방식, 메소드에 관한 조언 \n",
            "자바 객체선언 오류 질문입니다!\n",
            "파이썬 간단한 코드 질문\n",
            "'''로 주석으로 만들었는데 왜 주석을 지우지 않으면 유니코드오류가 왜 나는지 모르겠어여\n",
            "#define 상수 선언떄\n",
            "우분투 vmware 가상머신 오류\n",
            "파이썬 멀티스레딩 질문\n",
            "파이썬 엑셀 파일 읽기\n",
            "머쓱이 스탬프 할때 답보기요\n",
            "BFS를 사용해도 무관한지 궁금합니다!\n",
            "C# 백준 25206 문제 뭐가 문제인지 확인시켜줄 고수분 \n",
            "python 제너레이터화\n",
            "리액트 쿼리에서 useQuery를 어떻게 사용해야하나요\n",
            "html/javascript 로 node.js통해서 아두이노 통신관련\n",
            "Binary search tree\n",
            "Python 정규표현식을 사용한 패턴 추출\n",
            " code: 'MODULE_NOT_FOUND' 좀 도와주세요\n",
            "파이썬 데이터베이스 저장할때 다른방법없을까요?\n",
            "코딩테스트 첫번째 폰켓몬 문제 왜 맞는건가요?\n",
            "좋아요 한 문제만 따로 볼 수 있나요?\n",
            "멀티프로세싱 프로그램 실행시 수십개의 프로그램이 실행됩니다.\n",
            "c언어 왜 소수점을 넣어야 결과가 나오나\n",
            "HTML 전혀 모르는데요\n",
            "QR코드만 이용해서 앱 개발을 하면 많이 힘들까요?\n",
            "(생초보) 파이썬 *매개변수의 개수\n",
            "로지스틱 회귀\n",
            "프로그래머스 코딩테스트 2단계 구명보트에서\n",
            "Java 개인 연습 중 배열에서 오류가 났는데 해결 방법을 모르겠습니다.\n",
            "파이썬 csv 파일을 불러와 구분하는 방법에 대해 질문 드립니다\n",
            "다음의 xarray를 어떻게 'time' series로 변형할 수 있는지 여쭈어봅니다.\n",
            "'xlsx' file을 'nc' format으로 변환 후 저장하는 과정에서 계속 에러가 뜹니다..\n",
            "dayArray[dayOfWeek-1]  이건 어떻게 해석하나요?\n",
            "파이썬 클래스 객체 생성에 관한 질문\n",
            "HashMap에서 equals 재정의할때 들어가는 Object가 뭔지좀 가르쳐주세요\n",
            "파이썬 beautifulsoup 텍스트만 출력하기\n",
            "spy++, inspect가 특정 프로그램의 child windows를 불러오지 못하는 거 같습니다\n",
            "[python질문] i for i in range를 처음보는데 질문있습니다..\n",
            "파이썬 웹크롤링 selenium 공부 중인데 계속 타입에러가 떠서 왜 오류가 이렇게 뜨는지 알  수 있을까요ㅠㅠ\n",
            "c언어 코딩테스트 level0 문제 어디가 문제 있나요?\n",
            "한달 째 고민중인 cpp \"char\" 1byte send/receive 코드 질문 드립니다..ㅠㅠ\n",
            "스킬 체크 테스트 Level.2 문제 2 Java 무한루프 문의드립니다.\n",
            "자바스크립트 저장된 파일 제목으로 날짜 뽑는법 질문드립니다.\n",
            "자바스크립트 세션 스토리지에 slider 발류 저장법\n",
            "Regex로 특정 단어부터 empty lines까지 찾는 법\n",
            "TimSort의 단점이 뭘까요?\n",
            "파이썬 BeautifulSoup4 웹크롤링 관련 질문\n",
            "자바스크립트 분수의 덧셈 질문입니다. 뭐가 문제인지 모르겠어요\n",
            "맥에서 터미널을 킬때 이런 문구가 나옵니다\n",
            "파이썬3 2차원배열 입력하기\n",
            "MFC 마우스 이벤트 처리 관련 질문입니다.\n",
            "자바스크립트 질문있습니다.\n",
            "python의 os 모듈의 listdir함수에 대해 질문있습니다\n",
            "AttributeError at /admin/r/31/4/ 'NoneType' object has no attribute 'startswith' \n",
            "id.length==0 || id==\"\" 둘다 같은의미아닌가요?\n",
            "자바 iterator 질문이요 \n",
            "파이썬 Django 질문이욧!!!\n",
            "javascript 의 재귀함수 문제\n",
            "c++ class 동적할당 배열 생성자\n",
            "스프링 배치 writer 질문\n",
            "C++ STRCAT 구현부분 질문\n",
            "파이썬 모듈 설치 하기\n",
            "[python3] Lv.1 신고 결과 받기 / 접근 방식 및 딕셔너리 값 관련 문제해결\n",
            "동적배열을 이렇게 선언하면 안되는 이유가 있나요?\n",
            "qt 디자이너 사용해서 프린터와 pdf 저장하기 작성중입니다. 출력시 에러가 발생됩니다.메인 윈도우 창 전체를 프린터 및 pdf로 저장하고 싶습니다.\n",
            "Q&A 게시판 내 작성글 보기\n",
            "서블릿 response관련 기초적인 질문할께요ㅠ\n",
            "[코틀린] private 질문\n",
            "live server 에서는 사진이 나오는데 Netlify로 사이트를 만들면 거기서는 사진이 안나와요\n",
            "자바 코드 관련하여 질문드립니다\n",
            "파이썬으로 서로 다른 두 데이터를 매칭하려 하는데 어떤 방법을 이용해야할지 좋을지 모르겠어요\n",
            "영상을 프레임별 이미지로 변환\n",
            "scanf_s와 switch-case문 오류\n",
            "라즈베리파이에서 사진 캡쳐 후 저장하는 코드를 짰는데 넘버링을 하고 싶습니다.\n",
            "hide(), show() 가 동기적으로 작동하지 않는데 문제점을 모르겠습니다.\n",
            "[VB.NET] POST 방식의 HTTPS 통신 시 에러 문제점\n",
            "자료구조 다항식의 덧셈을 자바로 바꾸는 문제. delTerm 같은 함수들 활용법\n",
            "c언어 간단한 문제 질문 儆儆儆儆儆\n",
            "아코디언 갤러리를 구현하려고 합니다. \n",
            "파이썬 openpyxl 값 좌표 찾는 방법\n",
            "for문을 이용한 json 배열 배치하는 테이블 생성 \n",
            "판다스 read_excel() 소수점 질문\n",
            "c언어로 마방진 짜는 코드 질문이요\n",
            "파이썬 장고(django) 프레임웍 환경에서 자동 로그인 구현하는 방법?\n",
            "파이썬 타이머 버튼이 눌렸을 때 시간이 멈추도록\n",
            "고수님들 파이썬 엑셀파일 만드는 코드좀 부탁드립니다\n",
            "sql 쿼리 : 특정 카테고리 직전 및 직후 구매한 카테고리\n",
            "overfitting 및 예측 data augmentation \n",
            "[판다스] 원천 데이터 프레임의 <>안의 문자만 뽑아 새로운 데이터 프레임 생성\n",
            "파이선 체크박스 저장 & 불러오기 질문\n",
            "파이썬 버블정렬구현\n",
            "dijkstra 최단경로\n",
            "파이썬 이진탐색트리\n",
            "[파이썬] 판다스 중복 컬럼 찾기\n",
            "과제요청 삭제 코딩 왕초보 입니다.... for문과 인덱싱을 활용한 딕셔너리 출력\n",
            "python -m pip install pyautogui 안되는데 이거 왜 그런건가요.\n",
            " linearmodels install 질문\n",
            "컴파일 후 에러 발생\n",
            "pygame 딜레이\n",
            "c언어 파일 출력시 儆儆이러한 문자가 뜨는 이유가 뭔가요?\n",
            "리눅스 아니면 아이텀2에서 fxml파일을 만들려고 하는데\n",
            "html class 선언 코드 질문\n",
            "터미널 alias 등록\n",
            "파이썬 len(str([2,4])) 이 왜 6인가요?\n",
            "folium marker끼리 연결\n",
            "자바 랜덤으로 1~6사이의 난수를 뽑는데 2,3,6만 뽑고싶습니다. 이럴땐 어떻게 코딩하나요?\n",
            "파이선 데이터 저장 / 불러오기\n",
            "c언어 질문드립니다.\n",
            "Wamp 설치오류 도와주세요 ㅜ\n",
            "Location values cannot contain NaNs. \n",
            "(심사 중)이라는 메시지는 어떤 절차가 있다는 걸까요?\n",
            "PG결제 연동시 발생하는 보안이슈 문제질문드립니다.\n",
            "입력한 위도와 경도와 csv 파일 내에 있는 위도와 경도 중 가장 가까운 위치 값 찾기\n",
            "연결리스트 동적할당 알려주세요\n",
            "100일 뒤 기념일 프로그램 코드좀 알려주세요 ㅠㅠ-ㅠ\n",
            "영어단어 추출관련 코드 수정 문의\n",
            "CefSharp에서 WebRTC 사용 시 발생하는 문제\n",
            "colab list안에 있는 요소 옮기기\n",
            "bow_vect = vect.fit_transform 부분 오류가 나서 질문드립니다.\n",
            "파이썬 BoW 벡터 진행 중 오류가 나서 질문 드립니다.\n",
            "ejs에서 실시간으로 db의 데이터를 가져오는 방법이 있을까요??\n",
            "254개 - 248개 매칭 알고르짐에 관한 의견 구합니다. \n",
            "c언어 텍스트 파일\n",
            "if문 사용해서 8개의 패턴을 모두 프린트 하기\n",
            "없는 자료에 대한 크롤링 처리\n",
            "VSC 포맷터 Prettier 사용중인데 이 빨간색을 어떻게 없애나요?\n",
            "파이썬 openpyxl 관련 질문\n",
            "이 코드에서 뭐가 생성자인가요?\n",
            "pyinstaller로 실행파일 만들 때 그 안에 임포트된 직접 만든 라이브러리 계속 업데이트 할 수 있을까요?\n",
            "이 코딩 인수목록이 일치하지 않다는게 무슨말인가요?\n",
            "C언어 scanf로 수식을 입력받는 방법\n",
            "linux환경 c언어 프로세스 또는 쓰레드 종료 여부를 확인할 수 있는 방법이 궁금합니다\n",
            "재귀구현(리커시브)을 사용해서 메소드 구현하기\n",
            "vscode에서 코드 색이 풀립니다.\n",
            "거북이게임 목숨 추가\n",
            "판다스 데이터프레임 열로 나열된 Group을 기준으로 각 항목의  Pair를 만들고 싶습니다 \n",
            "파이썬 클래스 상속 관련 질문입니다!\n",
            "데이터프레임에서 전체 값이 0인 컬럼을 삭제하고싶습니다.\n",
            "동적 게시판 생성시 테이블 설계 방법 문의\n",
            "JAVA GUI로 사거리 신호등 어떻게 구현하나요?\n",
            "회원아이디가 텍스트에 나오게 하는것\n",
            "파이썬 tkinter 중 dictionary\n",
            "화면의 숫자 이미지를 읽어서 숫자 문자로 전환하는 코드가 있을까요?\n",
            "파이썬 코드 질문입니다\n",
            "run 메소드 안에 loadPage 메소드 실행 시키는 방법이 궁금해요\n",
            "[ vue.js ] forEach문에서 store.dispatch를 통한 API 통신 시 에러 문제점\n",
            "유닉스를 이용한 C 질문 argv\n",
            "PLC 통신값 엑셀저장시 저장값에 L이 붙어서 저장되는데 해결방법 문의\n",
            "c언어 2차원 배열로 홀짝 구분하는 문제 EXC_BAD_ACCESS (code=1, address=0x0)\n",
            "random 함수 import 가 되지 않습니다\n",
            "파이썬 logging 라이브러리 setLevel이 잘 안 됩니다\n",
            "c언어 반복문과 scanf 에러문제 \n",
            "안녕하세요 GUI 이벤트 질문 드립니다\n",
            "코틀린 api\n",
            "keras model shapes 관련 에러\n",
            "C# Winform 입력값 출력 변환\n",
            "사내용 프로그램의 테스트 단계 용어\n",
            "filter() 함수\n",
            "StringBuilder를 비우거나 청소하려면 어떻게 해야 합니까?\n",
            "(python) round 함수 알고리즘 재창조. 소숫점 아래에서의 반올림.\n",
            "(python) abs 함수 다시 만들기 질문\n",
            "c++ 동적 메모리 할당 질문 \n",
            "파이썬 클래스 메소드 질문\n",
            "리스트 내 최대값 구하기 코딩이 기대한 대로 작동하지 않음\n",
            "리스트를 사용하여 이름, 학번, 성적을 입력 받아 학점을 계산할 수 있도록 하기\n",
            "c언어 영상처리\n",
            "파이썬 next(data)가 안돼요...\n",
            "(정보추가) 카카오 웹툰 뷰 화면에서 이미지 가져와서 저장하는 방법 질문입니다.\n",
            "parse tree를 통해 postfix expression을 구하고 싶습니다\n",
            "파이썬 디스코드 봇 관련 질문입니다\n",
            "코드 중복제거\n",
            "페이지 이동 직후 :hover가 적용되지 않습니다.\n",
            "dtype 뷰로 타입변환했을때 요소의 갯수가 바뀌는 이유가모르겠어요\n",
            "opencv c++ 질문입니다 움직이는 영상에 맞춰 표시를 해주려하는데 영상재생이안되네여\n",
            "paramiko 질문\n",
            "2차원 배열 append\n",
            "뭔지는 모르는데 이런게 있는지 궁금합니다. 이미 정의된 함수에 추가적으로 변수를 추가하기.\n",
            "c scanf; 다 잘했는데 c6328 오류 뜹니다. \n",
            "C언어 포인터 : 왜오류인지 모르겠습니다\n",
            "(c언어) 숫자세기 질문 (++) printf문장 밖에 cnt++;로 지정한 경우와 printf(\"%d\",cnt++)경우 결과가 다르게 나옵니다.\n",
            "pandas 데이터프레임 내용 수정을 위한 for 문 코드 작성\n",
            "학교 정보 수행평가에 도움이 필요합니다.\n",
            "파이썬 겹치는 구간의 길이(중심점, 길이)\n",
            "파이썬 문자열데이터 압축하기 질문(2번이하로 반복되는 문자열)\n",
            "파이썬 중복값 비교\n",
            "파이썬 오류 질문 TypeError: 'builtin_function_or_method' object is not subscriptable\n",
            "아나콘다 설치 시 자동으로 설치되는 스파이더와 스탠드얼론으로 설치하는 스파이더의 차이가 있나요?\n",
            "혹시 특정 event 전까지 대기하라는 로직(?)에 대해 조언 부탁드려도 될까요?\n",
            "c언어 : 100단위가 넘을 때마다 계속할지말지\n",
            "(c언어) 제가 짠 코딩을 간략하게 줄일 방법이 있을까요?\n",
            "beautifulsoup 질문!\n",
            "inport error \n",
            "데이터 크롤링 질문입니다!\n",
            "c언어 질문입니다.\n",
            "(c언어) char 문자 중복 적용오류 질문있습니다.\n",
            "java JPanel에 그린 사각형을 저장하거나 저장한 파일을 불러오고 싶어요\n",
            "Python 갑자기 웹스크래핑 사이트에서 거부\n",
            "숙제풀이요청 삭제 파이썬 반복문 질문입니다. \n",
            "(C언어) while 사용시 printf 위치질문이 있습니다.\n",
            "파이썬 문자열 순서 정렬\n",
            "Raspberry Pi 세그먼트 표현 질문입니다!!\n",
            "코테할 때, java library 사용 관련해서 질문드립니다.\n",
            "nested dict+list, 재귀호출 관련\n",
            "python daframe 간 join 시에 동일한 key값 말고, 포함관계인 key값을 매칭시킬 수 있을까요?\n",
            "mips 어셈블리어 재귀함수 오류 \n",
            "파이썬 엑셀작업관련 도움 부탁드립니다.\n",
            "파이썬 Random Walks 질문\n",
            "파이썬 문제 풀이 부탁드립니다. ㅜㅜ 어렵네요\n",
            "파이썬 입력 관련 질문\n",
            "다른 js파일에 있는 변수 사용을 위해 export, import를 넣었는데 웹페이지에 오류가 났어요\n",
            "Visual studio 에서 Ctrl+ F5(컴파일)\n",
            "href=\"#section_27\">제목</a>   여기서 #을 통해서 경로설정되는거는 어떻게 하는건가요?\n",
            "기초 파이썬(python) 질문드립니다!!!\n",
            "파이썬 팬시 색인\n",
            "for에서 while\n",
            "장바구니 수량 문제입니다.\n",
            "zip 파일 암호화 및 평문화 기법 공부까지 가는 경로\n",
            "파이썬 코테문제 질문\n",
            "클래스 기본 질문입니다.\n",
            "__init__메서드에 관한 질문\n",
            "바이트 크기와 seek , read 메소드\n",
            "heapsort 관련해서 문자열 스왑해서 출력하려고하는데 오류가 나요\n",
            "연결리스트 도와주세요!!\n",
            "format 으로 원하는 형태의 출력 만들기\n",
            "자바 은행 입금 클래스\n",
            "python 크롤링 문의\n",
            "장고 rest_api python 클래스에서 사용된 횟수를 카운터 하고 싶습니다.\n"
          ]
        }
      ],
      "source": [
        "# Pagination이 되어있는 질문 리스트의 제목을 모두 가져와봅시다.\n",
        "# 과도한 요청을 방지하기 위해 1초마다 요청을 보내봅시다.\n",
        "\n",
        "import time\n",
        "\n",
        "for i in range(1, 6) :\n",
        "  res = requests.get(\"https://hashcode.co.kr/?page={}\".format(i), user_agent)\n",
        "  soup = BeautifulSoup(res.text, \"html.parser\")\n",
        "\n",
        "  questions = soup.find_all(\"li\", \"question-list-item\")\n",
        "  for question in questions: \n",
        "    print(question.find(\"div\",\"question\").find(\"div\",\"top\").h4.text)\n",
        "  \n",
        "  time.sleep(0.5) # interval 줌"
      ],
      "id": "eed63c8f"
    },
    {
      "cell_type": "code",
      "source": [],
      "metadata": {
        "id": "tdQ5j6RKhSCS"
      },
      "id": "tdQ5j6RKhSCS",
      "execution_count": null,
      "outputs": []
    }
  ],
  "metadata": {
    "kernelspec": {
      "display_name": "Python 3 (ipykernel)",
      "language": "python",
      "name": "python3"
    },
    "language_info": {
      "codemirror_mode": {
        "name": "ipython",
        "version": 3
      },
      "file_extension": ".py",
      "mimetype": "text/x-python",
      "name": "python",
      "nbconvert_exporter": "python",
      "pygments_lexer": "ipython3",
      "version": "3.10.4"
    },
    "colab": {
      "provenance": [],
      "include_colab_link": true
    }
  },
  "nbformat": 4,
  "nbformat_minor": 5
}