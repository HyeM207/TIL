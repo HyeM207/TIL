{
 "cells": [
  {
   "attachments": {},
   "cell_type": "markdown",
   "id": "68a27471",
   "metadata": {},
   "source": [
    "# Selenium 실습\n",
    "[강의자료]를 이용하여 실습한 내용 업로드함"
   ]
  },
  {
   "attachments": {},
   "cell_type": "markdown",
   "id": "192778f5-b6a0-458f-9d28-2ecd531975a1",
   "metadata": {},
   "source": [
    "## 3-2. 브라우저 자동화하기, Selenium"
   ]
  },
  {
   "attachments": {},
   "cell_type": "markdown",
   "id": "4641b904-0d90-4bd0-a963-3f01ea8547d1",
   "metadata": {},
   "source": [
    "### Selenium 라이브러리\n",
    "\n",
    "- `selenium`은 Python을 이용해서 웹 브라우저를 조작할 수 있는 자동화 프레임워크\n",
    "\n",
    "`pip install`을 통해서 `selenium` 프레임워크를 설치하기"
   ]
  },
  {
   "cell_type": "code",
   "execution_count": 2,
   "id": "1b08d5f2-01ae-4b19-bff8-f933f12f94e4",
   "metadata": {},
   "outputs": [
    {
     "name": "stdout",
     "output_type": "stream",
     "text": [
      "Requirement already satisfied: selenium in c:\\users\\hye min kim\\appdata\\local\\programs\\python\\python310\\lib\\site-packages (4.8.3)\n",
      "Requirement already satisfied: certifi>=2021.10.8 in c:\\users\\hye min kim\\appdata\\local\\programs\\python\\python310\\lib\\site-packages (from selenium) (2022.12.7)\n",
      "Requirement already satisfied: trio~=0.17 in c:\\users\\hye min kim\\appdata\\local\\programs\\python\\python310\\lib\\site-packages (from selenium) (0.22.0)\n",
      "Requirement already satisfied: trio-websocket~=0.9 in c:\\users\\hye min kim\\appdata\\local\\programs\\python\\python310\\lib\\site-packages (from selenium) (0.10.2)\n",
      "Requirement already satisfied: urllib3[socks]~=1.26 in c:\\users\\hye min kim\\appdata\\local\\programs\\python\\python310\\lib\\site-packages (from selenium) (1.26.15)\n",
      "Requirement already satisfied: outcome in c:\\users\\hye min kim\\appdata\\local\\programs\\python\\python310\\lib\\site-packages (from trio~=0.17->selenium) (1.2.0)\n",
      "Requirement already satisfied: exceptiongroup>=1.0.0rc9 in c:\\users\\hye min kim\\appdata\\local\\programs\\python\\python310\\lib\\site-packages (from trio~=0.17->selenium) (1.1.1)\n",
      "Requirement already satisfied: async-generator>=1.9 in c:\\users\\hye min kim\\appdata\\local\\programs\\python\\python310\\lib\\site-packages (from trio~=0.17->selenium) (1.10)\n",
      "Requirement already satisfied: attrs>=19.2.0 in c:\\users\\hye min kim\\appdata\\local\\programs\\python\\python310\\lib\\site-packages (from trio~=0.17->selenium) (22.2.0)\n",
      "Requirement already satisfied: sniffio in c:\\users\\hye min kim\\appdata\\local\\programs\\python\\python310\\lib\\site-packages (from trio~=0.17->selenium) (1.3.0)\n",
      "Requirement already satisfied: cffi>=1.14 in c:\\users\\hye min kim\\appdata\\local\\programs\\python\\python310\\lib\\site-packages (from trio~=0.17->selenium) (1.15.1)\n",
      "Requirement already satisfied: idna in c:\\users\\hye min kim\\appdata\\local\\programs\\python\\python310\\lib\\site-packages (from trio~=0.17->selenium) (3.4)\n",
      "Requirement already satisfied: sortedcontainers in c:\\users\\hye min kim\\appdata\\local\\programs\\python\\python310\\lib\\site-packages (from trio~=0.17->selenium) (2.4.0)\n",
      "Requirement already satisfied: wsproto>=0.14 in c:\\users\\hye min kim\\appdata\\local\\programs\\python\\python310\\lib\\site-packages (from trio-websocket~=0.9->selenium) (1.2.0)\n",
      "Requirement already satisfied: PySocks!=1.5.7,<2.0,>=1.5.6 in c:\\users\\hye min kim\\appdata\\local\\programs\\python\\python310\\lib\\site-packages (from urllib3[socks]~=1.26->selenium) (1.7.1)\n",
      "Requirement already satisfied: pycparser in c:\\users\\hye min kim\\appdata\\local\\programs\\python\\python310\\lib\\site-packages (from cffi>=1.14->trio~=0.17->selenium) (2.21)\n",
      "Requirement already satisfied: h11<1,>=0.9.0 in c:\\users\\hye min kim\\appdata\\local\\programs\\python\\python310\\lib\\site-packages (from wsproto>=0.14->trio-websocket~=0.9->selenium) (0.14.0)\n",
      "Note: you may need to restart the kernel to use updated packages.\n"
     ]
    },
    {
     "name": "stderr",
     "output_type": "stream",
     "text": [
      "\n",
      "[notice] A new release of pip available: 22.3.1 -> 23.1\n",
      "[notice] To update, run: python.exe -m pip install --upgrade pip\n"
     ]
    }
   ],
   "source": [
    "pip install selenium"
   ]
  },
  {
   "attachments": {},
   "cell_type": "markdown",
   "id": "dce0cfef-9a70-404a-bbc3-dd45b446c5ca",
   "metadata": {},
   "source": [
    "### Web Driver\n",
    "\n",
    "- 웹 브라우저와 연동을 위해서는 `WebDriver`가 필요하다\n",
    "\n",
    "`WebDriver`는 웹 브라우저를 제어할 수 있는 자동화 프레임워크입니다.  \n",
    "이 실습에서는 **Chrome**을 기준으로 설명됨\n",
    "\n",
    "`pip insall`으로 webdriver를 관리하는 라이브러리 `webdriver-manager`를 설치하기"
   ]
  },
  {
   "cell_type": "code",
   "execution_count": 3,
   "id": "0c76a2a6-0cba-4656-aeaf-ae0d3b80ef35",
   "metadata": {},
   "outputs": [
    {
     "name": "stdout",
     "output_type": "stream",
     "text": [
      "Collecting webdriver-managerNote: you may need to restart the kernel to use updated packages.\n",
      "\n",
      "  Downloading webdriver_manager-3.8.6-py2.py3-none-any.whl (27 kB)\n",
      "Collecting python-dotenv\n",
      "  Downloading python_dotenv-1.0.0-py3-none-any.whl (19 kB)\n",
      "Requirement already satisfied: packaging in c:\\users\\hye min kim\\appdata\\roaming\\python\\python310\\site-packages (from webdriver-manager) (23.1)\n",
      "Collecting tqdm\n",
      "  Downloading tqdm-4.65.0-py3-none-any.whl (77 kB)\n",
      "     -------------------------------------- 77.1/77.1 kB 133.7 kB/s eta 0:00:00\n",
      "Requirement already satisfied: requests in c:\\users\\hye min kim\\appdata\\local\\programs\\python\\python310\\lib\\site-packages (from webdriver-manager) (2.28.2)\n",
      "Requirement already satisfied: urllib3<1.27,>=1.21.1 in c:\\users\\hye min kim\\appdata\\local\\programs\\python\\python310\\lib\\site-packages (from requests->webdriver-manager) (1.26.15)\n",
      "Requirement already satisfied: charset-normalizer<4,>=2 in c:\\users\\hye min kim\\appdata\\local\\programs\\python\\python310\\lib\\site-packages (from requests->webdriver-manager) (3.1.0)\n",
      "Requirement already satisfied: idna<4,>=2.5 in c:\\users\\hye min kim\\appdata\\local\\programs\\python\\python310\\lib\\site-packages (from requests->webdriver-manager) (3.4)\n",
      "Requirement already satisfied: certifi>=2017.4.17 in c:\\users\\hye min kim\\appdata\\local\\programs\\python\\python310\\lib\\site-packages (from requests->webdriver-manager) (2022.12.7)\n",
      "Requirement already satisfied: colorama in c:\\users\\hye min kim\\appdata\\local\\programs\\python\\python310\\lib\\site-packages (from tqdm->webdriver-manager) (0.4.6)\n",
      "Installing collected packages: tqdm, python-dotenv, webdriver-manager\n",
      "Successfully installed python-dotenv-1.0.0 tqdm-4.65.0 webdriver-manager-3.8.6\n"
     ]
    },
    {
     "name": "stderr",
     "output_type": "stream",
     "text": [
      "\n",
      "[notice] A new release of pip available: 22.3.1 -> 23.1\n",
      "[notice] To update, run: python.exe -m pip install --upgrade pip\n"
     ]
    }
   ],
   "source": [
    "pip install webdriver-manager"
   ]
  },
  {
   "attachments": {},
   "cell_type": "markdown",
   "id": "7c73e625-2eb4-401a-83d0-4d07702153ba",
   "metadata": {},
   "source": [
    "\n",
    "컴퓨터에 Chrome이 깔려있어야 실습 진행 가능"
   ]
  },
  {
   "cell_type": "markdown",
   "id": "1631423f-39be-4478-8464-81bcc3d5b408",
   "metadata": {},
   "source": [
    "### Selenium 시작하기\n",
    "\n"
   ]
  },
  {
   "attachments": {},
   "cell_type": "markdown",
   "id": "e0684b2c-5a51-44dc-a859-c52ee73cbbc6",
   "metadata": {},
   "source": [
    " Selenium 불러오기"
   ]
  },
  {
   "cell_type": "code",
   "execution_count": null,
   "id": "f47f2f16-bd2b-4bd8-89a6-11c13e37d081",
   "metadata": {},
   "outputs": [],
   "source": [
    "from selenium import webdriver\n",
    "from selenium.webdriver.chrome.service import Service\n",
    "from webdriver_manager.chrome import ChromeDriverManager"
   ]
  },
  {
   "attachments": {},
   "cell_type": "markdown",
   "id": "c76bd4a5-7aa1-477e-a931-c98c234d1810",
   "metadata": {},
   "source": [
    "불러온 모듈 webdriver에서 Chrome() 객체 생성"
   ]
  },
  {
   "cell_type": "code",
   "execution_count": 2,
   "id": "66bb591b-7a2f-43d7-bb01-495ee065e52e",
   "metadata": {},
   "outputs": [],
   "source": [
    "# webdriver를 이용하여 현재 Chrome버전에 맞는 ChromeDriver를 다운로드한다. \n",
    "driver = webdriver.Chrome(service=Service(ChromeDriverManager().install()))"
   ]
  },
  {
   "attachments": {},
   "cell_type": "markdown",
   "id": "253b9971-9246-412d-b039-6f9194697796",
   "metadata": {},
   "source": [
    "`.get(url)`을 활용해 요청 보내기"
   ]
  },
  {
   "cell_type": "code",
   "execution_count": 3,
   "id": "2befd945-b5a1-4ef2-bb36-914ac3334707",
   "metadata": {},
   "outputs": [],
   "source": [
    "# http://www.example.com 으로 요청을 보내봅시다.\n",
    "\n",
    "driver = webdriver.Chrome(service=Service(ChromeDriverManager().install()))\n",
    "driver.get(\"http://www.example.com\")"
   ]
  },
  {
   "attachments": {},
   "cell_type": "markdown",
   "id": "7d409f9d-9aa1-4e77-8333-35612aaad435",
   "metadata": {},
   "source": [
    "응답을 `page_source` 속성을 통해 Response의 HTML 문서를 확인 가능"
   ]
  },
  {
   "cell_type": "code",
   "execution_count": 4,
   "id": "5057fcfc-cea0-420f-910d-c0e130f81942",
   "metadata": {},
   "outputs": [
    {
     "name": "stdout",
     "output_type": "stream",
     "text": [
      "<html><head>\n",
      "    <title>Example Domain</title>\n",
      "\n",
      "    <meta charset=\"utf-8\">\n",
      "    <meta http-equiv=\"Content-type\" content=\"text/html; charset=utf-8\">\n",
      "    <meta name=\"viewport\" content=\"width=device-width, initial-scale=1\">\n",
      "    <style type=\"text/css\">\n",
      "    body {\n",
      "        background-color: #f0f0f2;\n",
      "        margin: 0;\n",
      "        padding: 0;\n",
      "        font-family: -apple-system, system-ui, BlinkMacSystemFont, \"Segoe UI\", \"Open Sans\", \"Helvetica Neue\", Helvetica, Arial, sans-serif;\n",
      "        \n",
      "    }\n",
      "    div {\n",
      "        width: 600px;\n",
      "        margin: 5em auto;\n",
      "        padding: 2em;\n",
      "        background-color: #fdfdff;\n",
      "        border-radius: 0.5em;\n",
      "        box-shadow: 2px 3px 7px 2px rgba(0,0,0,0.02);\n",
      "    }\n",
      "    a:link, a:visited {\n",
      "        color: #38488f;\n",
      "        text-decoration: none;\n",
      "    }\n",
      "    @media (max-width: 700px) {\n",
      "        div {\n",
      "            margin: 0 auto;\n",
      "            width: auto;\n",
      "        }\n",
      "    }\n",
      "    </style>    \n",
      "</head>\n",
      "\n",
      "<body>\n",
      "<div>\n",
      "    <h1>Example Domain</h1>\n",
      "    <p>This domain is for use in illustrative examples in documents. You may use this\n",
      "    domain in literature without prior coordination or asking for permission.</p>\n",
      "    <p><a href=\"https://www.iana.org/domains/example\">More information...</a></p>\n",
      "</div>\n",
      "\n",
      "\n",
      "</body></html>\n"
     ]
    }
   ],
   "source": [
    "# page_source 속성을 확인해봅시다.\n",
    "\n",
    "driver = webdriver.Chrome(service=Service(ChromeDriverManager().install()))\n",
    "driver.get(\"http://www.example.com\")\n",
    "print(driver.page_source)"
   ]
  },
  {
   "attachments": {},
   "cell_type": "markdown",
   "id": "2641954d-5464-460d-bc55-00f92ed0aa7a",
   "metadata": {},
   "source": [
    "`with-as` 구문으로 명령이 끝나면 driver를 종료하도록 설정 가능"
   ]
  },
  {
   "cell_type": "code",
   "execution_count": 6,
   "id": "65f28749-ade7-4168-9972-60e2b3ac92c8",
   "metadata": {},
   "outputs": [
    {
     "name": "stdout",
     "output_type": "stream",
     "text": [
      "<html><head>\n",
      "    <title>Example Domain</title>\n",
      "\n",
      "    <meta charset=\"utf-8\">\n",
      "    <meta http-equiv=\"Content-type\" content=\"text/html; charset=utf-8\">\n",
      "    <meta name=\"viewport\" content=\"width=device-width, initial-scale=1\">\n",
      "    <style type=\"text/css\">\n",
      "    body {\n",
      "        background-color: #f0f0f2;\n",
      "        margin: 0;\n",
      "        padding: 0;\n",
      "        font-family: -apple-system, system-ui, BlinkMacSystemFont, \"Segoe UI\", \"Open Sans\", \"Helvetica Neue\", Helvetica, Arial, sans-serif;\n",
      "        \n",
      "    }\n",
      "    div {\n",
      "        width: 600px;\n",
      "        margin: 5em auto;\n",
      "        padding: 2em;\n",
      "        background-color: #fdfdff;\n",
      "        border-radius: 0.5em;\n",
      "        box-shadow: 2px 3px 7px 2px rgba(0,0,0,0.02);\n",
      "    }\n",
      "    a:link, a:visited {\n",
      "        color: #38488f;\n",
      "        text-decoration: none;\n",
      "    }\n",
      "    @media (max-width: 700px) {\n",
      "        div {\n",
      "            margin: 0 auto;\n",
      "            width: auto;\n",
      "        }\n",
      "    }\n",
      "    </style>    \n",
      "</head>\n",
      "\n",
      "<body>\n",
      "<div>\n",
      "    <h1>Example Domain</h1>\n",
      "    <p>This domain is for use in illustrative examples in documents. You may use this\n",
      "    domain in literature without prior coordination or asking for permission.</p>\n",
      "    <p><a href=\"https://www.iana.org/domains/example\">More information...</a></p>\n",
      "</div>\n",
      "\n",
      "\n",
      "</body></html>\n"
     ]
    }
   ],
   "source": [
    "# with-as를 사용해서 위 코드를 다시 적어봅시다.\n",
    "\n",
    "with webdriver.Chrome(service=Service(ChromeDriverManager().install())) as driver:\n",
    "    driver.get(\"http://www.example.com\")\n",
    "    print(driver.page_source)"
   ]
  },
  {
   "attachments": {},
   "cell_type": "markdown",
   "id": "87e75ad7-8536-4555-a6bd-a59dc311cef5",
   "metadata": {},
   "source": [
    "----\n",
    "\n",
    "### Driver에서 특정 요소 추출하기\n",
    "\n",
    "selenium은 받아온 응답으로부터 특정 요소를 추출 가능\n",
    "\n",
    "응답을 가지고 있는 driver/요소에 대해서 다음과 같은 메서드를 적용가능\n",
    "\n",
    "**요소 하나 찾기**  \n",
    "- `.find_element(by, target)`\n",
    "  - `by` : 대상을 찾는 기준 : `ID`, `TAG_NAME`, `CLASS_NAME`, ...\n",
    "  - `target` : 대상의 속성  \n",
    "\n",
    "**요소 여러개 찾기**  \n",
    "- `.find_elements(by, target)`\n",
    "  - `by` : 대상을 찾는 기준 : `ID`, `TAG_NAME`, `CLASS_NAME`, ...\n",
    "  - `target` : 대상의 속성"
   ]
  },
  {
   "cell_type": "code",
   "execution_count": 7,
   "id": "535e602d",
   "metadata": {},
   "outputs": [],
   "source": [
    "# by를 import 함\n",
    "from selenium.webdriver.common.by import By"
   ]
  },
  {
   "cell_type": "code",
   "execution_count": 8,
   "id": "530b2366-1e2d-4c86-b432-9b9a56778041",
   "metadata": {},
   "outputs": [
    {
     "name": "stdout",
     "output_type": "stream",
     "text": [
      "This domain is for use in illustrative examples in documents. You may use this domain in literature without prior coordination or asking for permission.\n"
     ]
    }
   ],
   "source": [
    "# p 태그에 해당하는 요소 하나를 찾아봅시다.\n",
    "with webdriver.Chrome(service=Service(ChromeDriverManager().install())) as driver:\n",
    "    driver.get(\"http://www.example.com\")\n",
    "    print(driver.find_element(By.TAG_NAME, \"p\").text)"
   ]
  },
  {
   "cell_type": "code",
   "execution_count": 9,
   "id": "3f99f957-56b9-4615-864b-a8f68611ab7c",
   "metadata": {},
   "outputs": [
    {
     "name": "stdout",
     "output_type": "stream",
     "text": [
      "Text:  This domain is for use in illustrative examples in documents. You may use this domain in literature without prior coordination or asking for permission.\n",
      "Text:  More information...\n"
     ]
    }
   ],
   "source": [
    "# p 태그에 해당하는 요소 여러개를 찾아봅시다.\n",
    "with webdriver.Chrome(service=Service(ChromeDriverManager().install())) as driver:\n",
    "    driver.get(\"http://www.example.com\")\n",
    "    for element in driver.find_elements(By.TAG_NAME, \"p\"):\n",
    "        print(\"Text: \" , element.text)"
   ]
  },
  {
   "attachments": {},
   "cell_type": "markdown",
   "id": "b75c5091",
   "metadata": {},
   "source": [
    "## 3-3. Wait and Call"
   ]
  },
  {
   "attachments": {},
   "cell_type": "markdown",
   "id": "99c2fbd0",
   "metadata": {},
   "source": [
    "### Implicit / Explicit Wait\n",
    "\n",
    "Selenium은 동적 웹 사이트에 대한 지원을 진행하기 위해 **명시적 기다림(Explicit Wait)** 과 **암묵적 기다림(Implicit Wait)** 을 지원함.\n",
    "\n",
    "- Explicit Wait: 다 로딩이 될 때까지 **지정한 시간** 동안 대기\n",
    "- Implicit Wait: **특정 요소에 대한 제약**을 통한 대기"
   ]
  },
  {
   "cell_type": "markdown",
   "id": "90e6d397",
   "metadata": {},
   "source": [
    "### Target: IndieStreet 이벤트 스크래핑\n",
    "\n",
    "다음 사이트에 있는 행사의 이름들을 스크래핑 해봅시다 : https://indistreet.com/live?sortOption=startDate%3AASC \n",
    "\n",
    "해당 웹 페이지는 공연 리스트가 담긴 웹 페이지입니다."
   ]
  },
  {
   "cell_type": "code",
   "execution_count": 10,
   "id": "d2207cad",
   "metadata": {},
   "outputs": [],
   "source": [
    "# 스크래핑에 필요한 라이브러리를 불러와봅시다.\n",
    "\n",
    "from selenium import webdriver\n",
    "from selenium.webdriver.chrome.service import Service\n",
    "from selenium.webdriver.common.by import By\n",
    "from webdriver_manager.chrome import ChromeDriverManager"
   ]
  },
  {
   "cell_type": "markdown",
   "id": "5673c47f",
   "metadata": {},
   "source": [
    "### XPath?\n",
    "\n",
    "위 사이트를 확인해보니 class 이름이 조금 특이했습니다.  \n",
    "이는 스크래핑을 방지할 목적으로 랜덤하게 class 이름을 생성하기 때문인데요,\n",
    "\n",
    "이러한 경우에서 쓸 수 있는 방법이 여러가지가 있는데,  \n",
    "그 중 한가지 방법인, **위치**를 활용한 방법을 알아보도록 하겠습니다.\n",
    "\n",
    "`XPath`는 XML, HTML 문서 등의 요소의 위치를 경로로 표현하는 것을 의미합니다.  \n",
    "마치 `데스크탑/폴더1/폴더2/음악.mp3`와 같이 말이죠!\n",
    "\n",
    "이를 적용해서 데이터를 온전히 가져와봅시다.\n",
    "\n",
    "Hint: 저희가 원하는 요소의 XPath는 `//*[@id=\"__next\"]/div/main/div[2]/div/div[4]/div[1]/div[1]/div/a/div[2]/p[1]` 입니다."
   ]
  },
  {
   "cell_type": "code",
   "execution_count": 11,
   "id": "a10a8759",
   "metadata": {},
   "outputs": [
    {
     "ename": "NoSuchElementException",
     "evalue": "Message: no such element: Unable to locate element: {\"method\":\"xpath\",\"selector\":\"//*[@id=\"__next\"]/div/main/div[2]/div/div[4]/div[1]/div[1]/div/a/div[2]/p[1]\"}\n  (Session info: chrome=112.0.5615.137)\nStacktrace:\nBacktrace:\n\tGetHandleVerifier [0x0092DCE3+50899]\n\t(No symbol) [0x008BE111]\n\t(No symbol) [0x007C5588]\n\t(No symbol) [0x007F08F9]\n\t(No symbol) [0x007F0AFB]\n\t(No symbol) [0x0081F902]\n\t(No symbol) [0x0080B944]\n\t(No symbol) [0x0081E01C]\n\t(No symbol) [0x0080B6F6]\n\t(No symbol) [0x007E7708]\n\t(No symbol) [0x007E886D]\n\tGetHandleVerifier [0x00B93EAE+2566302]\n\tGetHandleVerifier [0x00BC92B1+2784417]\n\tGetHandleVerifier [0x00BC327C+2759788]\n\tGetHandleVerifier [0x009C5740+672048]\n\t(No symbol) [0x008C8872]\n\t(No symbol) [0x008C41C8]\n\t(No symbol) [0x008C42AB]\n\t(No symbol) [0x008B71B7]\n\tBaseThreadInitThunk [0x767F0099+25]\n\tRtlGetAppContainerNamedObjectPath [0x76ED7B6E+286]\n\tRtlGetAppContainerNamedObjectPath [0x76ED7B3E+238]\n",
     "output_type": "error",
     "traceback": [
      "\u001b[1;31m---------------------------------------------------------------------------\u001b[0m",
      "\u001b[1;31mNoSuchElementException\u001b[0m                    Traceback (most recent call last)",
      "Cell \u001b[1;32mIn[11], line 5\u001b[0m\n\u001b[0;32m      3\u001b[0m driver \u001b[39m=\u001b[39m webdriver\u001b[39m.\u001b[39mChrome(service\u001b[39m=\u001b[39mService(ChromeDriverManager()\u001b[39m.\u001b[39minstall()))\n\u001b[0;32m      4\u001b[0m driver\u001b[39m.\u001b[39mget(\u001b[39m\"\u001b[39m\u001b[39mhttps://indistreet.com/live?sortOption=startDate\u001b[39m\u001b[39m%\u001b[39m\u001b[39m3AASC\u001b[39m\u001b[39m\"\u001b[39m)\n\u001b[1;32m----> 5\u001b[0m driver\u001b[39m.\u001b[39;49mfind_element(By\u001b[39m.\u001b[39;49mXPATH, \u001b[39m'\u001b[39;49m\u001b[39m//*[@id=\u001b[39;49m\u001b[39m\"\u001b[39;49m\u001b[39m__next\u001b[39;49m\u001b[39m\"\u001b[39;49m\u001b[39m]/div/main/div[2]/div/div[4]/div[1]/div[1]/div/a/div[2]/p[1]\u001b[39;49m\u001b[39m'\u001b[39;49m )\u001b[39m.\u001b[39mtext\n",
      "File \u001b[1;32mc:\\Users\\Hye Min Kim\\AppData\\Local\\Programs\\Python\\Python310\\lib\\site-packages\\selenium\\webdriver\\remote\\webdriver.py:831\u001b[0m, in \u001b[0;36mWebDriver.find_element\u001b[1;34m(self, by, value)\u001b[0m\n\u001b[0;32m    828\u001b[0m     by \u001b[39m=\u001b[39m By\u001b[39m.\u001b[39mCSS_SELECTOR\n\u001b[0;32m    829\u001b[0m     value \u001b[39m=\u001b[39m \u001b[39mf\u001b[39m\u001b[39m'\u001b[39m\u001b[39m[name=\u001b[39m\u001b[39m\"\u001b[39m\u001b[39m{\u001b[39;00mvalue\u001b[39m}\u001b[39;00m\u001b[39m\"\u001b[39m\u001b[39m]\u001b[39m\u001b[39m'\u001b[39m\n\u001b[1;32m--> 831\u001b[0m \u001b[39mreturn\u001b[39;00m \u001b[39mself\u001b[39;49m\u001b[39m.\u001b[39;49mexecute(Command\u001b[39m.\u001b[39;49mFIND_ELEMENT, {\u001b[39m\"\u001b[39;49m\u001b[39musing\u001b[39;49m\u001b[39m\"\u001b[39;49m: by, \u001b[39m\"\u001b[39;49m\u001b[39mvalue\u001b[39;49m\u001b[39m\"\u001b[39;49m: value})[\u001b[39m\"\u001b[39m\u001b[39mvalue\u001b[39m\u001b[39m\"\u001b[39m]\n",
      "File \u001b[1;32mc:\\Users\\Hye Min Kim\\AppData\\Local\\Programs\\Python\\Python310\\lib\\site-packages\\selenium\\webdriver\\remote\\webdriver.py:440\u001b[0m, in \u001b[0;36mWebDriver.execute\u001b[1;34m(self, driver_command, params)\u001b[0m\n\u001b[0;32m    438\u001b[0m response \u001b[39m=\u001b[39m \u001b[39mself\u001b[39m\u001b[39m.\u001b[39mcommand_executor\u001b[39m.\u001b[39mexecute(driver_command, params)\n\u001b[0;32m    439\u001b[0m \u001b[39mif\u001b[39;00m response:\n\u001b[1;32m--> 440\u001b[0m     \u001b[39mself\u001b[39;49m\u001b[39m.\u001b[39;49merror_handler\u001b[39m.\u001b[39;49mcheck_response(response)\n\u001b[0;32m    441\u001b[0m     response[\u001b[39m\"\u001b[39m\u001b[39mvalue\u001b[39m\u001b[39m\"\u001b[39m] \u001b[39m=\u001b[39m \u001b[39mself\u001b[39m\u001b[39m.\u001b[39m_unwrap_value(response\u001b[39m.\u001b[39mget(\u001b[39m\"\u001b[39m\u001b[39mvalue\u001b[39m\u001b[39m\"\u001b[39m, \u001b[39mNone\u001b[39;00m))\n\u001b[0;32m    442\u001b[0m     \u001b[39mreturn\u001b[39;00m response\n",
      "File \u001b[1;32mc:\\Users\\Hye Min Kim\\AppData\\Local\\Programs\\Python\\Python310\\lib\\site-packages\\selenium\\webdriver\\remote\\errorhandler.py:245\u001b[0m, in \u001b[0;36mErrorHandler.check_response\u001b[1;34m(self, response)\u001b[0m\n\u001b[0;32m    243\u001b[0m         alert_text \u001b[39m=\u001b[39m value[\u001b[39m\"\u001b[39m\u001b[39malert\u001b[39m\u001b[39m\"\u001b[39m]\u001b[39m.\u001b[39mget(\u001b[39m\"\u001b[39m\u001b[39mtext\u001b[39m\u001b[39m\"\u001b[39m)\n\u001b[0;32m    244\u001b[0m     \u001b[39mraise\u001b[39;00m exception_class(message, screen, stacktrace, alert_text)  \u001b[39m# type: ignore[call-arg]  # mypy is not smart enough here\u001b[39;00m\n\u001b[1;32m--> 245\u001b[0m \u001b[39mraise\u001b[39;00m exception_class(message, screen, stacktrace)\n",
      "\u001b[1;31mNoSuchElementException\u001b[0m: Message: no such element: Unable to locate element: {\"method\":\"xpath\",\"selector\":\"//*[@id=\"__next\"]/div/main/div[2]/div/div[4]/div[1]/div[1]/div/a/div[2]/p[1]\"}\n  (Session info: chrome=112.0.5615.137)\nStacktrace:\nBacktrace:\n\tGetHandleVerifier [0x0092DCE3+50899]\n\t(No symbol) [0x008BE111]\n\t(No symbol) [0x007C5588]\n\t(No symbol) [0x007F08F9]\n\t(No symbol) [0x007F0AFB]\n\t(No symbol) [0x0081F902]\n\t(No symbol) [0x0080B944]\n\t(No symbol) [0x0081E01C]\n\t(No symbol) [0x0080B6F6]\n\t(No symbol) [0x007E7708]\n\t(No symbol) [0x007E886D]\n\tGetHandleVerifier [0x00B93EAE+2566302]\n\tGetHandleVerifier [0x00BC92B1+2784417]\n\tGetHandleVerifier [0x00BC327C+2759788]\n\tGetHandleVerifier [0x009C5740+672048]\n\t(No symbol) [0x008C8872]\n\t(No symbol) [0x008C41C8]\n\t(No symbol) [0x008C42AB]\n\t(No symbol) [0x008B71B7]\n\tBaseThreadInitThunk [0x767F0099+25]\n\tRtlGetAppContainerNamedObjectPath [0x76ED7B6E+286]\n\tRtlGetAppContainerNamedObjectPath [0x76ED7B3E+238]\n"
     ]
    }
   ],
   "source": [
    "# 예시 사이트에 요청을 진행하고, 예시 사이트의 첫 번째 이벤트의 제목을 가져와봅시다.\n",
    "\n",
    "driver = webdriver.Chrome(service=Service(ChromeDriverManager().install()))\n",
    "driver.get(\"https://indistreet.com/live?sortOption=startDate%3AASC\")\n",
    "driver.find_element(By.XPATH, '//*[@id=\"__next\"]/div/main/div[2]/div/div[4]/div[1]/div[1]/div/a/div[2]/p[1]' ).text"
   ]
  },
  {
   "attachments": {},
   "cell_type": "markdown",
   "id": "e5ec80af",
   "metadata": {},
   "source": [
    "해당  웹 페이지는 **동적 웹페이지**라 오류 발생함 -> 'Wait' 사용하기!"
   ]
  },
  {
   "attachments": {},
   "cell_type": "markdown",
   "id": "ca994c67",
   "metadata": {},
   "source": [
    "### Implicit Wait\n",
    "\n",
    "`.implicitly_wait()`을 활용해서 암시적 기다림을 적용\n",
    "(반드시 해당 시간을 기다리는 것이 아니라, 로딩이 다 될때까지의 한계 시간을 의미함)"
   ]
  },
  {
   "cell_type": "code",
   "execution_count": 14,
   "id": "170c1302",
   "metadata": {},
   "outputs": [
    {
     "name": "stdout",
     "output_type": "stream",
     "text": [
      "Knock Live Rock band\n"
     ]
    }
   ],
   "source": [
    "# 10초동안 Implicit Wait을 진행하도록 해서 스크래핑이 잘 이루어지도록 수정해봅시다.\n",
    "from selenium.webdriver.support.ui import WebDriverWait\n",
    "\n",
    "with webdriver.Chrome(service=Service(ChromeDriverManager().install())) as driver :\n",
    "    driver.get(\"https://indistreet.com/live?sortOption=startDate%3AASC\")\n",
    "    driver.implicitly_wait(10)\n",
    "    element = driver.find_element(By.XPATH, '//*[@id=\"__next\"]/div/main/div[2]/div/div[4]/div[1]/div[1]/div/a/div[2]/p[1]' ).text\n",
    "\n",
    "    print(element)"
   ]
  },
  {
   "cell_type": "markdown",
   "id": "ffd152d1",
   "metadata": {},
   "source": [
    "### Explicit Wait\n",
    "`WebDriverWait()`과 두 메서드를 활용해서 명시적 기다림을 적용할 수 있습니다.\n",
    "\n",
    "`until()`: 인자의 조건이 만족될 때까지  \n",
    "`until_not()` 인자의 조건이 만족되지 않을 때까지  \n",
    "\n",
    "예를 들어, id가 `target`인 요소가 존재할 때까지 기다린 후 다음 명령을 진행합니다.\n",
    "\n",
    "```python\n",
    "element = WebDriverWait(driver, 10).until(EC.presence_of_element_located((By.ID, \"target\")))\n",
    "```\n",
    "\n",
    "이때, EC는 `expected_conditions`로, selenium에서 정의된 조건들입니다 (~가 존재하면, ...)  \n",
    "[이곳](https://www.selenium.dev/selenium/docs/api/py/webdriver_support/selenium.webdriver.support.expected_conditions.html)에서 더 자세한 정보를 확인할 수 있습니다.\n",
    "\n",
    "주어진 XPath가 등장할 때 까지 Wait을 진행해봅시다. (`EC.presence_of_element_located()` 활용)"
   ]
  },
  {
   "cell_type": "code",
   "execution_count": 17,
   "id": "097875f7",
   "metadata": {},
   "outputs": [
    {
     "name": "stdout",
     "output_type": "stream",
     "text": [
      "Knock Live Rock band\n"
     ]
    }
   ],
   "source": [
    "# Explicit Wait를 활용해서 스크래핑이 잘 이루어지도록 코드를 작성해봅시다.\n",
    "from selenium.webdriver.support import expected_conditions as EC\n",
    "from selenium.webdriver.support.ui import WebDriverWait\n",
    "\n",
    "with webdriver.Chrome(service=Service(ChromeDriverManager().install())) as driver :\n",
    "    driver.get(\"https://indistreet.com/live?sortOption=startDate%3AASC\")\n",
    "    element = WebDriverWait(driver, 10).until(EC.presence_of_element_located((By.XPATH, '//*[@id=\"__next\"]/div/main/div[2]/div/div[4]/div[1]/div[1]/div/a/div[2]/p[1]' )))\n",
    "    \n",
    "    print(element.text)"
   ]
  },
  {
   "attachments": {},
   "cell_type": "markdown",
   "id": "35827e99",
   "metadata": {},
   "source": [
    "### 여러 공연 제목 가져오기\n",
    "\n",
    "여러 공연의 제목들을 가져오기 위해 XPath를 관찰해봅시다.  \n",
    "이 페이지의 공연 제목들에 해당하는 XPath는 다음과 같습니다:\n",
    "\n",
    "```\n",
    "//*[@id=\"__next\"]/div/main/div[2]/div/div[4]/div[1]/div[1]/div/a/div[2]/p[1]\n",
    "//*[@id=\"__next\"]/div/main/div[2]/div/div[4]/div[1]/div[2]/div/a/div[2]/p[1]\n",
    "//*[@id=\"__next\"]/div/main/div[2]/div/div[4]/div[1]/div[3]/div/a/div[2]/p[1]\n",
    "...\n",
    "```\n",
    "\n",
    "이를 일반화해서 가장 먼저 등장하는 **10개**의 이름을 추출하는 코드를 작성하기"
   ]
  },
  {
   "cell_type": "code",
   "execution_count": 19,
   "id": "1f712a60",
   "metadata": {},
   "outputs": [
    {
     "name": "stdout",
     "output_type": "stream",
     "text": [
      "Knock Live Rock band\n",
      "Sign up\n",
      "이디어츠 1st EP 발매기념 공연\n",
      "도라페스트 4탄\n",
      "NO PASARAN! Vol.1\n",
      "LIVE in NOV 2019\n",
      "LIVE in DEC 2019\n",
      "오롯한 라이브와 함께\n",
      "LIVE in FEB\n",
      "2020 PUNK Marathon\n"
     ]
    }
   ],
   "source": [
    "# 여러 공연의 제목을 스크래핑하는 코드를 작성해봅시다.\n",
    "\n",
    "with webdriver.Chrome(service=Service(ChromeDriverManager().install())) as driver :\n",
    "    driver.get(\"https://indistreet.com/live?sortOption=startDate%3AASC\")\n",
    "    driver.implicitly_wait(10)\n",
    "    \n",
    "    for i in range(1, 11) :\n",
    "        element = driver.find_element(By.XPATH, '//*[@id=\"__next\"]/div/main/div[2]/div/div[4]/div[1]/div[{}]/div/a/div[2]/p[1]'.format(i) )\n",
    "        print(element.text)"
   ]
  },
  {
   "cell_type": "markdown",
   "id": "05c63467",
   "metadata": {},
   "source": [
    "## 3-4. 마우스 이벤트 처리하기\n",
    "\n",
    "- Selenium을 이용해서 마우스 Event를 동작해봅시다."
   ]
  },
  {
   "cell_type": "markdown",
   "id": "985de619",
   "metadata": {},
   "source": [
    "### Target: 해시코드 \"로그인\" 창 접속하기\n",
    "\n",
    "*이번 실습과 다음 실습에 걸쳐 로그인 과정을 자동화하는 것을 목표로 합니다.*\n",
    "\n",
    "다음 사이트에 로그인하기 위해 \"로그인\" 버튼을 눌러봅시다 : https://hashcode.co.kr/"
   ]
  },
  {
   "cell_type": "markdown",
   "id": "33ecbed8",
   "metadata": {},
   "source": [
    "### Mouse Event\n",
    "\n",
    "웹 페이지에서 일어나는 일들을 Event라고 합니다.\n",
    "\n",
    "마우스로 일어날 수 있는 대표적인 이벤트는 다음과 같습니다.\n",
    "\n",
    "- 마우스 움직이기(move)\n",
    "- 마우스 누르기(press down)\n",
    "- 마우스 떼기(press up)\n",
    "- ..."
   ]
  },
  {
   "attachments": {},
   "cell_type": "markdown",
   "id": "82d4b90b",
   "metadata": {},
   "source": [
    "[ 마우스 클릭 동작 과정 ]\n",
    "1. 입력하고자 하는 대상 요소를 찾습니다. (`find_element()` 이용)\n",
    "2. 입력하고자 하는 내용을 `click`을 통해 전달합니다.\n",
    "3. `.perform()`을 통해 동작합니다.\n",
    "\n",
    "ActionChains은 행위를 연속적으로 할 수 있게 하는 객체이다"
   ]
  },
  {
   "cell_type": "code",
   "execution_count": 6,
   "id": "aafbdb0e",
   "metadata": {},
   "outputs": [],
   "source": [
    "# 스크래핑에 필요한 라이브러리를 불러와봅시다.\n",
    "\n",
    "from selenium import webdriver\n",
    "from selenium.webdriver import ActionChains\n",
    "from selenium.webdriver.chrome.service import Service\n",
    "from selenium.webdriver.common.by import By\n",
    "from webdriver_manager.chrome import ChromeDriverManager"
   ]
  },
  {
   "cell_type": "code",
   "execution_count": 36,
   "id": "b82e4037",
   "metadata": {},
   "outputs": [
    {
     "name": "stdout",
     "output_type": "stream",
     "text": [
      "ReBoJZjit5lOjyMKk0bT\n",
      "https://programmers.co.kr/account/sign_in?referer=https%3A%2F%2Fqna.programmers.co.kr%2F\n"
     ]
    },
    {
     "data": {
      "text/plain": [
       "'\\n에러 이름 : ElementNotInteractableException\\n원인 :\\n    - className만으로 <a> 태그에 접근 불가함 \\n    - 로그인 클릭하는 부분이 버튼이 아닌 <a> 태그라 click() 상호작용이 안되는 것으로 보임 \\n\\n[ 원인 1 해결 과정 ]\\n원인 1 해결 방법 : XPath로 접근함 -> 성공\\n분석 : <a> 태그를 못 찾는것이 아닌가 해서 get_attribute로 class와 href를 출력해봤을 때는 잘 불러왔음 ->  <a> 태그 접근하는덴 문제 없음\\n\\n[ 원인 2 해결 과정 ]\\n시도 1: ActionChains(driver).move_to_element(button).click().perform() 로 바꿔서 해봄 -> 해결 X\\n시도 2: ActionChain이 아닌 Button 자체에서 click()함수와 send_keys(Keys.ENTER) 함수 써봄 -> 해결 X\\n시도 3: ChatGPT에서 알려준 자바스크립트로 요소를 찾을때 까지 스크롤해서 클릭을 강제하는 코드를 작성함 -> 성공 !!!!!!\\n\\n정리 : 클릭을 강제하는 자바스크립트 코드로 해결함\\n\\n'"
      ]
     },
     "execution_count": 36,
     "metadata": {},
     "output_type": "execute_result"
    }
   ],
   "source": [
    "# 주어진 웹사이트를 누른 후, 우리가 원하는 버튼 요소를 찾은 후 마우스 이벤트를 실행시켜봅시다.\n",
    "from selenium.webdriver.common.keys import Keys\n",
    "\n",
    "driver = webdriver.Chrome(service=Service(ChromeDriverManager().install()))\n",
    "driver.get(\"https://hashcode.co.kr/\")\n",
    "driver.implicitly_wait(1)\n",
    "\n",
    "# 원인 1 해결 \n",
    "# button = driver.find_element(By.CLASS_NAME, \"ReBoJZjit5lOjyMKk0bT\").click()  # 실패 코드 \n",
    "button = driver.find_element(By.XPATH, '//*[@id=\"main-app-gnb-header\"]/div/div/div[1]/div/div[1]/a') # 성공 코드 \n",
    "print(button.get_attribute('class'))\n",
    "print(button.get_attribute(\"href\"))\n",
    "\n",
    "# 원인 2 \n",
    "# 시도 3 - 성공 \n",
    "driver.execute_script(\"arguments[0].scrollIntoView();\", button)\n",
    "driver.execute_script(\"arguments[0].click();\", button)\n",
    "\n",
    "# 시도 1 - 실패\n",
    "# ActionChains(driver).move_to_element(button).click().perform()# 에러 코드 \n",
    "\n",
    "# 시도 2- 실패\n",
    "# button.click()\n",
    "# button.send_keys(Keys.ENTER)\n",
    "'''\n",
    "에러 이름 : ElementNotInteractableException\n",
    "\n",
    "원인 :\n",
    "    - className만으로 <a> 태그에 접근 불가함 \n",
    "    - 로그인 클릭하는 부분이 버튼이 아닌 <a> 태그라 click() 상호작용이 안되는 것으로 보임 \n",
    "\n",
    "[ 원인 1 해결 과정 ]\n",
    "    원인 1 해결 방법 : XPath로 접근함 -> 성공\n",
    "    분석 : <a> 태그를 못 찾는것이 아닌가 해서 get_attribute로 class와 href를 출력해봤을 때는 잘 불러왔음 ->  <a> 태그 접근하는덴 문제 없음\n",
    "\n",
    "[ 원인 2 해결 과정 ]\n",
    "    시도 1: ActionChains(driver).move_to_element(button).click().perform() 로 바꿔서 해봄 -> 해결 X\n",
    "    시도 2: ActionChain이 아닌 Button 자체에서 click()함수와 send_keys(Keys.ENTER) 함수 써봄 -> 해결 X\n",
    "    시도 3: ChatGPT에서 알려준 자바스크립트로 요소를 찾을때 까지 스크롤해서 클릭을 강제하는 코드를 작성함 -> 성공 !!!!!!\n",
    "\n",
    "==> 정리 : XPath로 접근 방식 바꾸고, 클릭을 강제하는 자바스크립트 코드로 해결함\n",
    "'''"
   ]
  },
  {
   "attachments": {},
   "cell_type": "markdown",
   "id": "f7b0f36e",
   "metadata": {},
   "source": [
    "Tip: 이 외의  마우스 이벤트들을 다음 [링크](https://www.selenium.dev/documentation/webdriver/actions_api/mouse/)에서 확인 가능함"
   ]
  },
  {
   "cell_type": "code",
   "execution_count": null,
   "id": "4800974e",
   "metadata": {},
   "outputs": [],
   "source": []
  },
  {
   "cell_type": "markdown",
   "id": "26c0f6ba",
   "metadata": {},
   "source": [
    "## 3-5. 키보드 이벤트 처리하기\n",
    "\n",
    "- Selenium을 이용해서 키보드 Event를 동작해봅시다."
   ]
  },
  {
   "cell_type": "markdown",
   "id": "0169a5c2",
   "metadata": {},
   "source": [
    "### Keyboard Event\n",
    "\n",
    "웹 페이지에서 일어나는 일들을 Event라고 합니다.\n",
    "\n",
    "키보드로 일어날 수 있는 대표적인 이벤트는 다음과 같습니다.\n",
    "\n",
    "- 키보드 누르기(press down)\n",
    "- 키보드 떼기(press up)\n",
    "- ..."
   ]
  },
  {
   "attachments": {},
   "cell_type": "markdown",
   "id": "dfd6f7a1",
   "metadata": {},
   "source": [
    "\n",
    "[ 키보드 입력 과정 ]\n",
    "\n",
    "1. 입력하고자 하는 대상 요소를 찾습니다. (`find_element()` 이용)\n",
    "2. 입력하고자 하는 내용을 `send_keys_to_element`를 통해 전달합니다.\n",
    "3. `.perform()`을 통해 동작합니다."
   ]
  },
  {
   "cell_type": "markdown",
   "id": "23930432",
   "metadata": {},
   "source": [
    "### Target: 해시코드 로그인하기\n",
    "\n",
    "다음 사이트에 Selenium을 이용해서 로그인을 진행해봅시다 : https://hashcode.co.kr "
   ]
  },
  {
   "cell_type": "code",
   "execution_count": null,
   "id": "d2078a8d",
   "metadata": {},
   "outputs": [],
   "source": [
    "# 스크래핑에 필요한 라이브러리를 불러와봅시다.\n",
    "\n",
    "from selenium import webdriver\n",
    "from selenium.webdriver import ActionChains\n",
    "from webdriver_manager.chrome import ChromeDriverManager\n",
    "from selenium.webdriver.common.actions.action_builder import ActionBuilder\n",
    "from selenium.webdriver import Keys, ActionChains\n",
    "from selenium.webdriver.chrome.service import Service\n",
    "from selenium.webdriver.common.by import By"
   ]
  },
  {
   "cell_type": "markdown",
   "id": "95888478",
   "metadata": {},
   "source": [
    "지난 실습에서 다룬 마우스 실습을 통해 로그인 창에 접속하는 것에 성공했는데요,  \n",
    "여기에 이제 키보드 입력을 넣어서 로그인을 완료해봅시다."
   ]
  },
  {
   "cell_type": "code",
   "execution_count": 40,
   "id": "1dea8347",
   "metadata": {},
   "outputs": [],
   "source": [
    "import time\n",
    "\n",
    "# driver를 이용해 해당 사이트에 요청을 보내봅시다.\n",
    "driver = webdriver.Chrome(service=Service(ChromeDriverManager().install()))\n",
    "driver.get(\"https://hashcode.co.kr/\")\n",
    "driver.implicitly_wait(1)\n",
    "\n",
    "# 내비게이션 바에서 \"로그인\" 버튼을 찾아 눌러봅시다.\n",
    "button = driver.find_element(By.XPATH, '//*[@id=\"main-app-gnb-header\"]/div/div/div[1]/div/div[1]/a') # 성공 코드 \n",
    "driver.execute_script(\"arguments[0].scrollIntoView();\", button)\n",
    "driver.execute_script(\"arguments[0].click();\", button)\n",
    "\n",
    "\n",
    "# \"아이디\" input 요소에 여러분의 아이디를 입력합니다.\n",
    "id_input = driver.find_element(By.XPATH, '//*[@id=\"main-app-account\"]/div/div[2]/div/div[2]/div[1]/div/div[2]/div[2]/input')\n",
    "ActionChains(driver).send_keys_to_element(id_input, \"자신의 id\").perform()\n",
    "time.sleep(1)\n",
    "\n",
    "# \"패스워드\" input 요소에 여러분의 비밀번호를 입력합니다.\n",
    "pw_input = driver.find_element(By.XPATH, '//*[@id=\"main-app-account\"]/div/div[2]/div/div[2]/div[1]/div/div[2]/div[4]/input')\n",
    "ActionChains(driver).send_keys_to_element(pw_input, \"자신의 pw\").perform()\n",
    "time.sleep(1)\n",
    "\n",
    "# \"로그인\" 버튼을 눌러서 로그인을 완료합니다.\n",
    "login_btn = driver.find_element(By.XPATH, '//*[@id=\"main-app-account\"]/div/div[2]/div/div[2]/div[1]/div/div[2]/button')\n",
    "ActionChains(driver).click(login_btn).perform()\n",
    "time.sleep(1)\n"
   ]
  },
  {
   "attachments": {},
   "cell_type": "markdown",
   "id": "c2650131",
   "metadata": {},
   "source": [
    "결과 성공!! id와 pw는 보안상 문제로 적지 않았다. 실습때는 자신의 계정정보를 입력하도록 하자"
   ]
  },
  {
   "attachments": {},
   "cell_type": "markdown",
   "id": "09143f86",
   "metadata": {},
   "source": [
    "Tip: 이 외에도 사용할 수 있는 키보드 이벤트은  다음 [링크](https://www.selenium.dev/documentation/webdriver/actions_api/keyboard/)를 통해 확인 가능함"
   ]
  },
  {
   "cell_type": "markdown",
   "id": "96d929fd",
   "metadata": {},
   "source": []
  }
 ],
 "metadata": {
  "kernelspec": {
   "display_name": "Python 3 (ipykernel)",
   "language": "python",
   "name": "python3"
  },
  "language_info": {
   "codemirror_mode": {
    "name": "ipython",
    "version": 3
   },
   "file_extension": ".py",
   "mimetype": "text/x-python",
   "name": "python",
   "nbconvert_exporter": "python",
   "pygments_lexer": "ipython3",
   "version": "3.10.10"
  }
 },
 "nbformat": 4,
 "nbformat_minor": 5
}
